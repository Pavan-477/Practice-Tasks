{
 "cells": [
  {
   "cell_type": "markdown",
   "id": "aaa581d5",
   "metadata": {},
   "source": [
    "### Delete the elements in an linked list whose sum is equal to zero"
   ]
  },
  {
   "cell_type": "code",
   "execution_count": 1,
   "id": "ee47b32a",
   "metadata": {},
   "outputs": [
    {
     "name": "stdout",
     "output_type": "stream",
     "text": [
      "3->None\n",
      "3->7->None\n",
      "3->7->5->None\n",
      "3->7->5->-10->None\n",
      "3->7->5->-10->6->None\n",
      "3->7->5->-10->6->5->None\n",
      "3->7->5->-10->6->5->-11->None\n",
      "3->7->5->-10->6->5->-11->7->None\n",
      "3->7->5->-10->6->5->-11->7->-18->None\n",
      "3->7->5->-10->6->5->-11->7->-18->12->None\n",
      "3->7->5->-10->6->5->-11->7->-18->12->29->None\n",
      "3->7->5->-10->6->5->-11->7->-18->12->29->None\n",
      "6 29\n"
     ]
    }
   ],
   "source": [
    "class Node():\n",
    "    def __init__(self,value):\n",
    "        self.value=value\n",
    "        self.next=None\n",
    "\n",
    "class LinkedList():\n",
    "    def __init__(self):\n",
    "        self.head=None\n",
    "    \n",
    "    def insert(self,value):\n",
    "        node=Node(value)\n",
    "        if self.head is None:\n",
    "            self.head=node\n",
    "            return\n",
    "        curr_node=self.head\n",
    "        while True:\n",
    "            if curr_node.next is None:\n",
    "                curr_node.next=node\n",
    "                break\n",
    "            curr_node=curr_node.next\n",
    "\n",
    "    def display(self):\n",
    "        curr_node=self.head     \n",
    "        llist=[]\n",
    "        while True:\n",
    "            print(curr_node.value,end='->')\n",
    "            llist.append(curr_node.value) \n",
    "            if curr_node.next is None:              \n",
    "                break\n",
    "            curr_node=curr_node.next\n",
    "        print('None')\n",
    "        return llist\n",
    "        \n",
    "    def display_new(self):\n",
    "        p_add=0\n",
    "        llist=self.display()\n",
    "        \n",
    "        for i in range(len(llist)-1):\n",
    "            p_add=p_add+llist[i]\n",
    "        if llist[-1]>0 and p_add>0:\n",
    "            print(p_add,llist[-1])\n",
    "        elif llist[-1]<0 and p_add>0:\n",
    "            print(p_add+list[-1])\n",
    "        elif llist[-1]<0 and p_add<0:\n",
    "            print(llist[-1],p_add)\n",
    "            \n",
    "\n",
    "ll=LinkedList()\n",
    "ll.insert(3)\n",
    "ll.display()\n",
    "ll.insert(7)\n",
    "ll.display()\n",
    "ll.insert(5)\n",
    "ll.display()\n",
    "ll.insert(-10)\n",
    "ll.display()\n",
    "ll.insert(6)\n",
    "ll.display()\n",
    "ll.insert(5)\n",
    "ll.display()\n",
    "ll.insert(-11)\n",
    "ll.display()\n",
    "ll.insert(7)\n",
    "ll.display()\n",
    "ll.insert(-18)\n",
    "ll.display()\n",
    "ll.insert(12)\n",
    "ll.display()\n",
    "ll.insert(29)\n",
    "ll.display()\n",
    "ll.display_new()"
   ]
  },
  {
   "cell_type": "markdown",
   "id": "6eb724c8",
   "metadata": {},
   "source": [
    "### Reverse a linked list in groups of given size"
   ]
  },
  {
   "cell_type": "code",
   "execution_count": 2,
   "id": "f3b7bffa",
   "metadata": {},
   "outputs": [
    {
     "name": "stdout",
     "output_type": "stream",
     "text": [
      "Original linked list:\n",
      "1 2 3 4 5 \n",
      "Reversed linked list:\n",
      "2 1 4 3 5 \n"
     ]
    }
   ],
   "source": [
    "class Node:\n",
    "    def __init__(self, val):\n",
    "        self.val = val\n",
    "        self.next = None\n",
    "\n",
    "def reverseInGroups(head, k):\n",
    "    current = head\n",
    "    next = None\n",
    "    prev = None\n",
    "    count = 0\n",
    "\n",
    "    # reverse first k nodes of the linked list\n",
    "    while current is not None and count < k:\n",
    "        next = current.next\n",
    "        current.next = prev\n",
    "        prev = current\n",
    "        current = next\n",
    "        count += 1\n",
    "\n",
    "    # recursively call for rest of the nodes\n",
    "    if next is not None:\n",
    "        head.next = reverseInGroups(next, k)\n",
    "\n",
    "    # prev is now head of the reversed list\n",
    "    return prev\n",
    "# define the linked list\n",
    "head = Node(1)\n",
    "head.next = Node(2)\n",
    "head.next.next = Node(3)\n",
    "head.next.next.next = Node(4)\n",
    "head.next.next.next.next = Node(5)\n",
    "\n",
    "# print the original linked list\n",
    "print(\"Original linked list:\")\n",
    "current = head\n",
    "while current is not None:\n",
    "    print(current.val, end=\" \")\n",
    "    current = current.next\n",
    "print()\n",
    "\n",
    "# reverse the linked list in groups of 2\n",
    "new_head = reverseInGroups(head, 2)\n",
    "\n",
    "# print the reversed linked list\n",
    "print(\"Reversed linked list:\")\n",
    "current = new_head\n",
    "while current is not None:\n",
    "    print(current.val, end=\" \")\n",
    "    current = current.next\n",
    "print()\n"
   ]
  },
  {
   "cell_type": "markdown",
   "id": "20b64019",
   "metadata": {},
   "source": [
    "### Merge a linked list into another linked list at alternate positions."
   ]
  },
  {
   "cell_type": "code",
   "execution_count": 3,
   "id": "e920ed0e",
   "metadata": {},
   "outputs": [
    {
     "name": "stdout",
     "output_type": "stream",
     "text": [
      "First linked list:\n",
      "1 3 5 \n",
      "Second linked list:\n",
      "2 4 6 \n",
      "Merged linked list:\n",
      "1 2 3 4 5 6 \n"
     ]
    }
   ],
   "source": [
    "class Node:\n",
    "    def __init__(self, val):\n",
    "        self.val = val\n",
    "        self.next = None\n",
    "\n",
    "def mergeLists(head1, head2):\n",
    "    if head1 is None:\n",
    "        return head2\n",
    "    if head2 is None:\n",
    "        return head1\n",
    "\n",
    "    # take two pointers and alternate them\n",
    "    p1 = head1\n",
    "    p2 = head2\n",
    "    while p1 is not None and p2 is not None:\n",
    "        temp1 = p1.next\n",
    "        temp2 = p2.next\n",
    "\n",
    "        p1.next = p2\n",
    "        p2.next = temp1\n",
    "\n",
    "        p1 = temp1\n",
    "        p2 = temp2\n",
    "\n",
    "    return head1\n",
    "\n",
    "\n",
    "# define the first linked list\n",
    "head1 = Node(1)\n",
    "head1.next = Node(3)\n",
    "head1.next.next = Node(5)\n",
    "\n",
    "# define the second linked list\n",
    "head2 = Node(2)\n",
    "head2.next = Node(4)\n",
    "head2.next.next = Node(6)\n",
    "\n",
    "# print the first linked list\n",
    "print(\"First linked list:\")\n",
    "current = head1\n",
    "while current is not None:\n",
    "    print(current.val, end=\" \")\n",
    "    current = current.next\n",
    "print()\n",
    "\n",
    "# print the second linked list\n",
    "print(\"Second linked list:\")\n",
    "current = head2\n",
    "while current is not None:\n",
    "    print(current.val, end=\" \")\n",
    "    current = current.next\n",
    "print()\n",
    "\n",
    "# merge the two linked lists at alternate positions\n",
    "merged_head = mergeLists(head1, head2)\n",
    "\n",
    "# print the merged linked list\n",
    "print(\"Merged linked list:\")\n",
    "current = merged_head\n",
    "while current is not None:\n",
    "    print(current.val, end=\" \")\n",
    "    current = current.next\n",
    "print()"
   ]
  },
  {
   "cell_type": "markdown",
   "id": "5b6cc2b6",
   "metadata": {},
   "source": [
    "### In an array, Count Pairs with given sum"
   ]
  },
  {
   "cell_type": "code",
   "execution_count": 4,
   "id": "99108d86",
   "metadata": {},
   "outputs": [
    {
     "name": "stdout",
     "output_type": "stream",
     "text": [
      "Count of pairs is 3\n"
     ]
    }
   ],
   "source": [
    "def getPairsCount(arr, n, sum):\n",
    "    count = 0 \n",
    "    for i in range(0, n):\n",
    "        for j in range(i + 1, n):\n",
    "            if arr[i] + arr[j] == sum:\n",
    "                count += 1\n",
    "    return count\n",
    "arr = [1, 5, 7, -1, 5]\n",
    "n = len(arr)\n",
    "sum = 6\n",
    "print(\"Count of pairs is\",\n",
    "    getPairsCount(arr, n, sum))"
   ]
  },
  {
   "cell_type": "markdown",
   "id": "03b4772d",
   "metadata": {},
   "source": [
    "### Find duplicates in an array"
   ]
  },
  {
   "cell_type": "code",
   "execution_count": 5,
   "id": "467e4c4f",
   "metadata": {},
   "outputs": [
    {
     "name": "stdout",
     "output_type": "stream",
     "text": [
      "Enter array elements seperated by comma :1,2,3,3,4,5,6,7,7\n",
      "Input array : [1, 2, 3, 3, 4, 5, 6, 7, 7]\n",
      "Duplicates : [3, 7]\n"
     ]
    }
   ],
   "source": [
    "array=list(map(int,input('Enter array elements seperated by comma :').split(',')))\n",
    "new_arr=[]\n",
    "dup=[]\n",
    "def duplicater(array):\n",
    "    for i in array:\n",
    "        if i in new_arr:\n",
    "            dup.append(i)\n",
    "        else:\n",
    "            new_arr.append(i)\n",
    "    return dup\n",
    "print('Input array :',array)\n",
    "print('Duplicates :',duplicater(array))"
   ]
  },
  {
   "cell_type": "markdown",
   "id": "23e21e7b",
   "metadata": {},
   "source": [
    "### Find the Kth largest and Kth smallest number in an array"
   ]
  },
  {
   "cell_type": "code",
   "execution_count": 6,
   "id": "f3202dec",
   "metadata": {},
   "outputs": [
    {
     "name": "stdout",
     "output_type": "stream",
     "text": [
      "Enter array elements seperated by comma1,2,3,4,4,5,6,7,7,8,10,9,9\n",
      "9\n",
      "2\n"
     ]
    }
   ],
   "source": [
    "def findKthLargest(arr, k):\n",
    "    arr.sort(reverse=True)\n",
    "    return arr[k-1]\n",
    "\n",
    "def findKthSmallest(arr, k):\n",
    "    arr.sort()\n",
    "    return arr[k-1]\n",
    "array=list(map(int,input('Enter array elements seperated by comma').split(',')))\n",
    "print(findKthLargest(array,3))\n",
    "print(findKthSmallest(array,2))"
   ]
  },
  {
   "cell_type": "markdown",
   "id": "19e22f75",
   "metadata": {},
   "source": [
    "### Move all the negative elements to one side of the array"
   ]
  },
  {
   "cell_type": "code",
   "execution_count": 7,
   "id": "fa29cbd7",
   "metadata": {},
   "outputs": [
    {
     "name": "stdout",
     "output_type": "stream",
     "text": [
      "Enter array elements seperated by comma1,2,3,-1,-3,-4,6\n",
      "[-4, -3, -1, 1, 2, 3, 6]\n",
      "[6, 3, 2, 1, -1, -3, -4]\n"
     ]
    }
   ],
   "source": [
    "array=list(map(int,input('Enter array elements seperated by comma').split(',')))\n",
    "\n",
    "#To move all the negative to the left side of the array\n",
    "L=array.copy()\n",
    "L.sort()\n",
    "print(L)\n",
    "#To move all the negative to the right side of the array\n",
    "L=array.copy()\n",
    "R=array.copy()\n",
    "R.sort(reverse=True)\n",
    "print(R)"
   ]
  },
  {
   "cell_type": "markdown",
   "id": "68332a95",
   "metadata": {},
   "source": [
    "### Reverse a string using a stack data structure"
   ]
  },
  {
   "cell_type": "code",
   "execution_count": 8,
   "id": "1c37f546",
   "metadata": {},
   "outputs": [
    {
     "name": "stdout",
     "output_type": "stream",
     "text": [
      "enter a string : PAvAN\n",
      "NAvAP"
     ]
    }
   ],
   "source": [
    "from collections import deque\n",
    "stack=deque()\n",
    "n=input('enter a string : ')\n",
    "for i in n:\n",
    "    stack.append(i)\n",
    "\n",
    "for j in range(len(stack)):\n",
    "    print(stack.pop(),end='')"
   ]
  },
  {
   "cell_type": "markdown",
   "id": "9655e3ad",
   "metadata": {},
   "source": [
    "### Evaluate a postfix expression using stack"
   ]
  },
  {
   "cell_type": "code",
   "execution_count": 9,
   "id": "0c2aa3b3",
   "metadata": {},
   "outputs": [
    {
     "name": "stdout",
     "output_type": "stream",
     "text": [
      "48\n"
     ]
    }
   ],
   "source": [
    "from collections import deque\n",
    "\n",
    "def evaluate_postfix(expr):\n",
    "    stack = deque()\n",
    "    for token in expr.split():\n",
    "        if token.isdigit():\n",
    "            stack.append(int(token))\n",
    "        else:\n",
    "            b = stack.pop()\n",
    "            a = stack.pop()\n",
    "            if token == '+':\n",
    "                stack.append(a + b)\n",
    "            elif token == '-':\n",
    "                stack.append(a - b)\n",
    "            elif token == '*':\n",
    "                stack.append(a * b)\n",
    "            elif token == '/':\n",
    "                stack.append(a // b) #integer division\n",
    "    return stack.pop()\n",
    "\n",
    "#Example usage\n",
    "expr = \"5 3 + 8 2 - *\"\n",
    "result = evaluate_postfix(expr)\n",
    "print(result) "
   ]
  },
  {
   "cell_type": "markdown",
   "id": "2dee0b60",
   "metadata": {},
   "source": [
    "### Implement a queue using the stack data structure"
   ]
  },
  {
   "cell_type": "code",
   "execution_count": 10,
   "id": "0c2fc703",
   "metadata": {},
   "outputs": [
    {
     "name": "stdout",
     "output_type": "stream",
     "text": [
      "1\n",
      "2\n",
      "3\n",
      "4\n"
     ]
    }
   ],
   "source": [
    "class Queue:\n",
    "    def __init__(self):\n",
    "        self.in_stack = []\n",
    "        self.out_stack = []\n",
    "\n",
    "    def enqueue(self, element):\n",
    "        self.in_stack.append(element)\n",
    "\n",
    "    def dequeue(self):\n",
    "        if not self.out_stack:\n",
    "            while self.in_stack:\n",
    "                self.out_stack.append(self.in_stack.pop())\n",
    "        if not self.out_stack:\n",
    "            raise IndexError(\"Cannot dequeue from empty queue\")\n",
    "        return self.out_stack.pop()\n",
    "q = Queue()\n",
    "q.enqueue(1)\n",
    "q.enqueue(2)\n",
    "q.enqueue(3)\n",
    "print(q.dequeue()) # Output: 1\n",
    "print(q.dequeue()) # Output: 2\n",
    "q.enqueue(4)\n",
    "print(q.dequeue()) # Output: 3\n",
    "print(q.dequeue()) # Output: 4"
   ]
  },
  {
   "cell_type": "code",
   "execution_count": null,
   "id": "6e62f70d",
   "metadata": {},
   "outputs": [],
   "source": []
  }
 ],
 "metadata": {
  "kernelspec": {
   "display_name": "Python 3 (ipykernel)",
   "language": "python",
   "name": "python3"
  },
  "language_info": {
   "codemirror_mode": {
    "name": "ipython",
    "version": 3
   },
   "file_extension": ".py",
   "mimetype": "text/x-python",
   "name": "python",
   "nbconvert_exporter": "python",
   "pygments_lexer": "ipython3",
   "version": "3.9.12"
  }
 },
 "nbformat": 4,
 "nbformat_minor": 5
}
