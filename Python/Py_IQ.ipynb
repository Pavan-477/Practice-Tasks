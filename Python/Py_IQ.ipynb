{
 "cells": [
  {
   "cell_type": "code",
   "execution_count": null,
   "id": "85301893",
   "metadata": {},
   "outputs": [],
   "source": [
    "Q1. What is the difference between list and tuples in Python?\n",
    "\n",
    "List is a data type that can contain elements of same or different data types inside it.\n",
    "syntax: l=[] or l=list()\n",
    "It is mutable\n",
    "Both read/write operations can be performed upon the list object\n",
    "\n",
    "\n",
    "Tuple is a data type that can contain elements of same or different data types inside it\n",
    "syntax: t=() or t=tuple()\n",
    "It is immutable\n",
    "Only read operation can be performed upon the tuple object"
   ]
  },
  {
   "cell_type": "code",
   "execution_count": null,
   "id": "a226202e",
   "metadata": {},
   "outputs": [],
   "source": [
    "Q2. What are the key features of Python?\n",
    "\n",
    "Its is interpreted\n",
    "Its dynamically typed programming language\n",
    "It supports both functional and object oriented programming\n",
    "It supports vast collection of libraries"
   ]
  },
  {
   "cell_type": "code",
   "execution_count": null,
   "id": "b86d526e",
   "metadata": {},
   "outputs": [],
   "source": [
    "Q3. What type of language is python?\n",
    "\n",
    "Python is general purpose programming language that is dynamically typed."
   ]
  },
  {
   "cell_type": "code",
   "execution_count": null,
   "id": "00539420",
   "metadata": {},
   "outputs": [],
   "source": [
    "Q4. How is Python an interpreted language?\n",
    "\n",
    "Python is not in machine level code before running which ultimately makes it an interpreted language."
   ]
  },
  {
   "cell_type": "code",
   "execution_count": null,
   "id": "fbd4d191",
   "metadata": {},
   "outputs": [],
   "source": [
    "Q5. What is pep 8?\n",
    "\n",
    "PEP 8 is abbreviated as Python Enhancement Proposal that is aimed to provide guidelines and rules which makes the python \n",
    "more readable and easily understandable"
   ]
  },
  {
   "cell_type": "code",
   "execution_count": null,
   "id": "5fa63dee",
   "metadata": {},
   "outputs": [],
   "source": [
    "Q6. How is memory managed in Python?\n",
    "\n",
    "In python memory management is done by  python private heap space ,Python memory management is very much different from \n",
    "the other programming languages ,Moreover it has in built garbage collector that destroys any unused memory spaces\n",
    "after execution."
   ]
  },
  {
   "cell_type": "code",
   "execution_count": null,
   "id": "84667a52",
   "metadata": {},
   "outputs": [],
   "source": [
    "Q7. What is name space in Python?\n",
    "\n",
    "Its a naming convention which tends to make sure that the names being provided to the variables or references are unique.\n",
    "Its internally like a dictionary object with name as key and its literal associated with it as value."
   ]
  },
  {
   "cell_type": "code",
   "execution_count": null,
   "id": "2dace086",
   "metadata": {},
   "outputs": [],
   "source": [
    "Q8. What are python modules?\n",
    "\n",
    "Module is a collection of multiple classes, functions and methods written in a single .py file. \n",
    "Modules are made so as to reduce code redundancy"
   ]
  },
  {
   "cell_type": "code",
   "execution_count": null,
   "id": "0259e2d6",
   "metadata": {},
   "outputs": [],
   "source": [
    "Q9. What are local variables and global variables in Python?\n",
    "\n",
    "Local Variables:The variables that are declared initialised \n",
    "and utilised within a function or whose scope is upto the block in which its initialised is called local variables.\n",
    "\n",
    "Global Variables:The variables that are not declared inside any function or the variables whose scope \n",
    "is unrestricted across the code are called global variables"
   ]
  },
  {
   "cell_type": "code",
   "execution_count": null,
   "id": "185f0b5d",
   "metadata": {},
   "outputs": [],
   "source": [
    "Q10. Is overloading possible in python?\n",
    "\n",
    "Overloading in python is not possible directly , however python has \n",
    "variable length arguments which if implemented works as a substitute for method/constructor overloading"
   ]
  },
  {
   "cell_type": "code",
   "execution_count": null,
   "id": "575ee6dd",
   "metadata": {},
   "outputs": [],
   "source": [
    "Q11. What are the four pillars of OOPS concept?\n",
    "\n",
    "1.Inheritance\n",
    "2.Polymorphism\n",
    "3.Encapsulation\n",
    "4.Abstraction"
   ]
  },
  {
   "cell_type": "code",
   "execution_count": null,
   "id": "dfc89169",
   "metadata": {},
   "outputs": [],
   "source": [
    "Q12. What is an iterator?\n",
    "\n",
    "Iterator in python is an object which can traverse/iterate over an iterable object(list,tuple,dictionary,set)."
   ]
  },
  {
   "cell_type": "code",
   "execution_count": null,
   "id": "acf3f501",
   "metadata": {},
   "outputs": [],
   "source": [
    "Q13. What are decorators?\n",
    "\n",
    "Decorators are used to extend the functionality of an already existing function without making any changes inside that function."
   ]
  },
  {
   "cell_type": "code",
   "execution_count": null,
   "id": "c9e7042d",
   "metadata": {},
   "outputs": [],
   "source": [
    "Q14. What are various types of inheritance that python supports?\n",
    "\n",
    "1.Single level Inheritance\n",
    "2.Multi level Inheritance\n",
    "3.Multiple Inheritance\n",
    "4.Hierarchical Inheritance\n",
    "5.Hybrid inheritance"
   ]
  },
  {
   "cell_type": "code",
   "execution_count": null,
   "id": "3f3e1a69",
   "metadata": {},
   "outputs": [],
   "source": [
    "Q15. List out various types of methods inside a class?\n",
    "\n",
    "1.Instance method\n",
    "2.Static method\n",
    "3. Class method"
   ]
  },
  {
   "cell_type": "code",
   "execution_count": null,
   "id": "e496fa27",
   "metadata": {},
   "outputs": [],
   "source": [
    "Q16. What is a set?\n",
    "\n",
    "Set is a data type that stores  unique entries of elements belonging to same or different data types\n",
    "ex s={1,2.0,'3',True}"
   ]
  },
  {
   "cell_type": "code",
   "execution_count": null,
   "id": "9d318fe9",
   "metadata": {},
   "outputs": [],
   "source": [
    "Q17. Is python case sensitive?\n",
    "\n",
    "Yes, Python is a case sensitive language."
   ]
  },
  {
   "cell_type": "code",
   "execution_count": null,
   "id": "f0f1f8e9",
   "metadata": {},
   "outputs": [],
   "source": [
    "Q18.What are functions in Python?\n",
    "\n",
    "A function is a block of code which is executed only when it is called. It can be called any number of times. \n",
    "The def keyword is used to define a Python function "
   ]
  },
  {
   "cell_type": "code",
   "execution_count": null,
   "id": "cedf2ada",
   "metadata": {},
   "outputs": [],
   "source": [
    "Q19.What is serialization?\n",
    "\n",
    "The conversion of a python object into a string object and stored in a file format ."
   ]
  },
  {
   "cell_type": "code",
   "execution_count": null,
   "id": "baf2e66f",
   "metadata": {},
   "outputs": [],
   "source": [
    "Q20.What are the applications of python?\n",
    "\n",
    "Python is being used in various fields such as \n",
    "Data Analytics\n",
    "Data Wrangling\n",
    "Machine Learning\n",
    "Deep Learning\n",
    "Web Development\n",
    "Computer Vision\n",
    "Text processing\n",
    "CAD/CAM applications"
   ]
  },
  {
   "cell_type": "code",
   "execution_count": null,
   "id": "2218de8e",
   "metadata": {},
   "outputs": [],
   "source": [
    "                            =========================X========================="
   ]
  }
 ],
 "metadata": {
  "kernelspec": {
   "display_name": "Python 3 (ipykernel)",
   "language": "python",
   "name": "python3"
  },
  "language_info": {
   "codemirror_mode": {
    "name": "ipython",
    "version": 3
   },
   "file_extension": ".py",
   "mimetype": "text/x-python",
   "name": "python",
   "nbconvert_exporter": "python",
   "pygments_lexer": "ipython3",
   "version": "3.9.12"
  }
 },
 "nbformat": 4,
 "nbformat_minor": 5
}
