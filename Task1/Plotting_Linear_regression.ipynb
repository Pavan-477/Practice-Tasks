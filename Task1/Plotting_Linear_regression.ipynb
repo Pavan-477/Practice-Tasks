{
 "cells": [
  {
   "cell_type": "code",
   "execution_count": 1,
   "id": "ba3dbd48",
   "metadata": {},
   "outputs": [],
   "source": [
    "#pip install manim"
   ]
  },
  {
   "cell_type": "code",
   "execution_count": 2,
   "id": "5c6339b1",
   "metadata": {},
   "outputs": [],
   "source": [
    "import numpy as np\n",
    "import seaborn as sns\n",
    "import matplotlib.pyplot as plt\n",
    "import pandas as pd"
   ]
  },
  {
   "cell_type": "code",
   "execution_count": 3,
   "id": "00a97be5",
   "metadata": {},
   "outputs": [],
   "source": [
    "df=pd.read_csv('Task.csv')\n",
    "# Fit linear regression"
   ]
  },
  {
   "cell_type": "code",
   "execution_count": 4,
   "id": "2b7a7de3",
   "metadata": {},
   "outputs": [],
   "source": [
    "x=np.array(df['X']).reshape(-1,1)\n",
    "y=df['y']\n",
    "\n",
    "from sklearn.linear_model import LinearRegression\n",
    "reg = LinearRegression()\n",
    "reg.fit(x, y)\n",
    "predicted_y = reg.predict(x.reshape(-1, 1))"
   ]
  },
  {
   "cell_type": "code",
   "execution_count": 5,
   "id": "58f516d0",
   "metadata": {},
   "outputs": [
    {
     "data": {
      "image/png": "[encoded data removed]",
      "text/plain": [
       "<Figure size 576x432 with 1 Axes>"
      ]
     },
     "metadata": {},
     "output_type": "display_data"
    }
   ],
   "source": [
    "import numpy as np\n",
    "import seaborn as sns\n",
    "import matplotlib.pyplot as plt\n",
    "from sklearn.linear_model import LinearRegression\n",
    "\n",
    "# Sample data\n",
    "x = np.array(df['X'])\n",
    "y = np.array(df['y'])\n",
    "\n",
    "# Fit linear regression\n",
    "reg = LinearRegression()\n",
    "reg.fit(x.reshape(-1, 1), y)\n",
    "predicted_y = reg.predict(x.reshape(-1, 1))\n",
    "\n",
    "# Create a Seaborn plot\n",
    "sns.set(style=\"whitegrid\")\n",
    "plt.figure(figsize=(8, 6))\n",
    "sns.scatterplot(x=x, y=y, label='Data Points')\n",
    "sns.lineplot(x=x, y=predicted_y, color='red', label='Linear Regression Line')\n",
    "plt.xlabel('X')\n",
    "plt.ylabel('Y')\n",
    "plt.legend()\n",
    "plt.title('Linear Regression')\n",
    "plt.show()"
   ]
  },
  {
   "cell_type": "markdown",
   "id": "5fa21cc2",
   "metadata": {},
   "source": [
    "### Manim has compatibility issues while running , So I had to find the other way to plot the regression line, Yet I am leaving the code in below cells for reference"
   ]
  },
  {
   "cell_type": "code",
   "execution_count": 6,
   "id": "bf7a4a8d",
   "metadata": {},
   "outputs": [
    {
     "name": "stderr",
     "output_type": "stream",
     "text": [
      "C:\\Users\\pavan\\anaconda3\\lib\\site-packages\\pydub\\utils.py:170: RuntimeWarning: Couldn't find ffmpeg or avconv - defaulting to ffmpeg, but may not work\n",
      "  warn(\"Couldn't find ffmpeg or avconv - defaulting to ffmpeg, but may not work\", RuntimeWarning)\n"
     ]
    },
    {
     "data": {
      "text/html": [
       "<pre style=\"white-space:pre;overflow-x:auto;line-height:normal;font-family:Menlo,'DejaVu Sans Mono',consolas,'Courier New',monospace\">Manim Community <span style=\"color: #008000; text-decoration-color: #008000\">v0.17.3</span>\n",
       "\n",
       "</pre>\n"
      ],
      "text/plain": [
       "Manim Community \u001b[32mv0.\u001b[0m\u001b[32m17.3\u001b[0m\n",
       "\n"
      ]
     },
     "metadata": {},
     "output_type": "display_data"
    }
   ],
   "source": [
    "from manim import *"
   ]
  },
  {
   "cell_type": "code",
   "execution_count": 7,
   "id": "26cfda75",
   "metadata": {},
   "outputs": [],
   "source": [
    "#pip install jupyter-manim"
   ]
  },
  {
   "cell_type": "code",
   "execution_count": 8,
   "id": "49d01594",
   "metadata": {},
   "outputs": [],
   "source": [
    "class LinearRegressionScene(Scene):\n",
    "    def construct(self):\n",
    "        # Create axes\n",
    "        axes = Axes(\n",
    "            x_range=[0, 6, 1],\n",
    "            y_range=[0, 12, 1],\n",
    "            axis_config={\"color\": BLUE},\n",
    "        )\n",
    "\n",
    "        # Load data from CSV\n",
    "        data = np.genfromtxt(\"Task.csv\", delimiter=',', skip_header=True)\n",
    "\n",
    "        # Extract x and y data from the CSV\n",
    "        x_data = data[:, 0]\n",
    "        y_data = data[:, 1]\n",
    "\n",
    "        # Create scatter plot\n",
    "        points = VGroup(*[Dot(axes.c2p(x, y)) for x, y in zip(x_data, y_data)])\n",
    "\n",
    "        # Perform linear regression\n",
    "        m, c = np.polyfit(x_data, y_data, 1)\n",
    "        regression_line = Line(\n",
    "            start=axes.c2p(min(x_data), m * min(x_data) + c),\n",
    "            end=axes.c2p(max(x_data), m * max(x_data) + c),\n",
    "            color=WHITE\n",
    "        )\n",
    "\n",
    "        # Create equation of the line using LaTeX\n",
    "        equation = MathTex(\"y =\", f\"{m:.2f}\", \"x +\", f\"{c:.2f}\")\n",
    "        equation.next_to(axes, UP, buff=0.5)\n",
    "\n",
    "        # Show elements\n",
    "        self.play(Create(axes), Create(points))\n",
    "        self.wait(1)\n",
    "        self.play(Create(regression_line), Write(equation))\n",
    "        self.wait(2)\n"
   ]
  },
  {
   "cell_type": "code",
   "execution_count": 9,
   "id": "d2ed5bac",
   "metadata": {},
   "outputs": [
    {
     "ename": "RuntimeError",
     "evalue": "Manim could not find ffmpeg, which is required for generating video output.\nFor installing ffmpeg please consult https://docs.manim.community/en/stable/installation.html\nMake sure to either add ffmpeg to the PATH environment variable\nor set path to the ffmpeg executable under the ffmpeg header in Manim's configuration.",
     "output_type": "error",
     "traceback": [
      "\u001b[1;31m---------------------------------------------------------------------------\u001b[0m",
      "\u001b[1;31mRuntimeError\u001b[0m                              Traceback (most recent call last)",
      "Input \u001b[1;32mIn [9]\u001b[0m, in \u001b[0;36m<cell line: 1>\u001b[1;34m()\u001b[0m\n\u001b[1;32m----> 1\u001b[0m \u001b[43mget_ipython\u001b[49m\u001b[43m(\u001b[49m\u001b[43m)\u001b[49m\u001b[38;5;241;43m.\u001b[39;49m\u001b[43mrun_line_magic\u001b[49m\u001b[43m(\u001b[49m\u001b[38;5;124;43m'\u001b[39;49m\u001b[38;5;124;43mmanim\u001b[39;49m\u001b[38;5;124;43m'\u001b[39;49m\u001b[43m,\u001b[49m\u001b[43m \u001b[49m\u001b[38;5;124;43m'\u001b[39;49m\u001b[38;5;124;43m-p -ql LinearRegressionScene\u001b[39;49m\u001b[38;5;124;43m'\u001b[39;49m\u001b[43m)\u001b[49m\n\u001b[0;32m      3\u001b[0m \u001b[38;5;28;01mfrom\u001b[39;00m \u001b[38;5;21;01mmanim\u001b[39;00m \u001b[38;5;28;01mimport\u001b[39;00m \u001b[38;5;241m*\u001b[39m\n\u001b[0;32m      5\u001b[0m \u001b[38;5;28;01mclass\u001b[39;00m \u001b[38;5;21;01mLinearRegressionScene\u001b[39;00m(Scene):\n",
      "File \u001b[1;32m~\\anaconda3\\lib\\site-packages\\IPython\\core\\interactiveshell.py:2294\u001b[0m, in \u001b[0;36mInteractiveShell.run_line_magic\u001b[1;34m(self, magic_name, line, _stack_depth)\u001b[0m\n\u001b[0;32m   2292\u001b[0m     kwargs[\u001b[38;5;124m'\u001b[39m\u001b[38;5;124mlocal_ns\u001b[39m\u001b[38;5;124m'\u001b[39m] \u001b[38;5;241m=\u001b[39m \u001b[38;5;28mself\u001b[39m\u001b[38;5;241m.\u001b[39mget_local_scope(stack_depth)\n\u001b[0;32m   2293\u001b[0m \u001b[38;5;28;01mwith\u001b[39;00m \u001b[38;5;28mself\u001b[39m\u001b[38;5;241m.\u001b[39mbuiltin_trap:\n\u001b[1;32m-> 2294\u001b[0m     result \u001b[38;5;241m=\u001b[39m fn(\u001b[38;5;241m*\u001b[39margs, \u001b[38;5;241m*\u001b[39m\u001b[38;5;241m*\u001b[39mkwargs)\n\u001b[0;32m   2295\u001b[0m \u001b[38;5;28;01mreturn\u001b[39;00m result\n",
      "File \u001b[1;32m~\\anaconda3\\lib\\site-packages\\manim\\utils\\ipython_magic.py:140\u001b[0m, in \u001b[0;36mManimMagic.manim\u001b[1;34m(self, line, cell, local_ns)\u001b[0m\n\u001b[0;32m    138\u001b[0m \u001b[38;5;28;01mtry\u001b[39;00m:\n\u001b[0;32m    139\u001b[0m     SceneClass \u001b[38;5;241m=\u001b[39m local_ns[config[\u001b[38;5;124m\"\u001b[39m\u001b[38;5;124mscene_names\u001b[39m\u001b[38;5;124m\"\u001b[39m][\u001b[38;5;241m0\u001b[39m]]\n\u001b[1;32m--> 140\u001b[0m     scene \u001b[38;5;241m=\u001b[39m \u001b[43mSceneClass\u001b[49m\u001b[43m(\u001b[49m\u001b[43mrenderer\u001b[49m\u001b[38;5;241;43m=\u001b[39;49m\u001b[43mrenderer\u001b[49m\u001b[43m)\u001b[49m\n\u001b[0;32m    141\u001b[0m     scene\u001b[38;5;241m.\u001b[39mrender()\n\u001b[0;32m    142\u001b[0m \u001b[38;5;28;01mfinally\u001b[39;00m:\n\u001b[0;32m    143\u001b[0m     \u001b[38;5;66;03m# Shader cache becomes invalid as the context is destroyed\u001b[39;00m\n",
      "File \u001b[1;32m~\\anaconda3\\lib\\site-packages\\manim\\scene\\scene.py:141\u001b[0m, in \u001b[0;36mScene.__init__\u001b[1;34m(self, renderer, camera_class, always_update_mobjects, random_seed, skip_animations)\u001b[0m\n\u001b[0;32m    139\u001b[0m \u001b[38;5;28;01melse\u001b[39;00m:\n\u001b[0;32m    140\u001b[0m     \u001b[38;5;28mself\u001b[39m\u001b[38;5;241m.\u001b[39mrenderer \u001b[38;5;241m=\u001b[39m renderer\n\u001b[1;32m--> 141\u001b[0m \u001b[38;5;28;43mself\u001b[39;49m\u001b[38;5;241;43m.\u001b[39;49m\u001b[43mrenderer\u001b[49m\u001b[38;5;241;43m.\u001b[39;49m\u001b[43minit_scene\u001b[49m\u001b[43m(\u001b[49m\u001b[38;5;28;43mself\u001b[39;49m\u001b[43m)\u001b[49m\n\u001b[0;32m    143\u001b[0m \u001b[38;5;28mself\u001b[39m\u001b[38;5;241m.\u001b[39mmobjects \u001b[38;5;241m=\u001b[39m []\n\u001b[0;32m    144\u001b[0m \u001b[38;5;66;03m# TODO, remove need for foreground mobjects\u001b[39;00m\n",
      "File \u001b[1;32m~\\anaconda3\\lib\\site-packages\\manim\\renderer\\cairo_renderer.py:49\u001b[0m, in \u001b[0;36mCairoRenderer.init_scene\u001b[1;34m(self, scene)\u001b[0m\n\u001b[0;32m     48\u001b[0m \u001b[38;5;28;01mdef\u001b[39;00m \u001b[38;5;21minit_scene\u001b[39m(\u001b[38;5;28mself\u001b[39m, scene):\n\u001b[1;32m---> 49\u001b[0m     \u001b[38;5;28mself\u001b[39m\u001b[38;5;241m.\u001b[39mfile_writer: Any \u001b[38;5;241m=\u001b[39m \u001b[38;5;28;43mself\u001b[39;49m\u001b[38;5;241;43m.\u001b[39;49m\u001b[43m_file_writer_class\u001b[49m\u001b[43m(\u001b[49m\n\u001b[0;32m     50\u001b[0m \u001b[43m        \u001b[49m\u001b[38;5;28;43mself\u001b[39;49m\u001b[43m,\u001b[49m\n\u001b[0;32m     51\u001b[0m \u001b[43m        \u001b[49m\u001b[43mscene\u001b[49m\u001b[38;5;241;43m.\u001b[39;49m\u001b[38;5;18;43m__class__\u001b[39;49m\u001b[38;5;241;43m.\u001b[39;49m\u001b[38;5;18;43m__name__\u001b[39;49m\u001b[43m,\u001b[49m\n\u001b[0;32m     52\u001b[0m \u001b[43m    \u001b[49m\u001b[43m)\u001b[49m\n",
      "File \u001b[1;32m~\\anaconda3\\lib\\site-packages\\manim\\scene\\scene_file_writer.py:88\u001b[0m, in \u001b[0;36mSceneFileWriter.__init__\u001b[1;34m(self, renderer, scene_name, **kwargs)\u001b[0m\n\u001b[0;32m     86\u001b[0m \u001b[38;5;66;03m# fail fast if ffmpeg is not found\u001b[39;00m\n\u001b[0;32m     87\u001b[0m \u001b[38;5;28;01mif\u001b[39;00m \u001b[38;5;129;01mnot\u001b[39;00m ensure_executable(Path(config\u001b[38;5;241m.\u001b[39mffmpeg_executable)):\n\u001b[1;32m---> 88\u001b[0m     \u001b[38;5;28;01mraise\u001b[39;00m \u001b[38;5;167;01mRuntimeError\u001b[39;00m(\n\u001b[0;32m     89\u001b[0m         \u001b[38;5;124m\"\u001b[39m\u001b[38;5;124mManim could not find ffmpeg, which is required for generating video output.\u001b[39m\u001b[38;5;130;01m\\n\u001b[39;00m\u001b[38;5;124m\"\u001b[39m\n\u001b[0;32m     90\u001b[0m         \u001b[38;5;124m\"\u001b[39m\u001b[38;5;124mFor installing ffmpeg please consult https://docs.manim.community/en/stable/installation.html\u001b[39m\u001b[38;5;130;01m\\n\u001b[39;00m\u001b[38;5;124m\"\u001b[39m\n\u001b[0;32m     91\u001b[0m         \u001b[38;5;124m\"\u001b[39m\u001b[38;5;124mMake sure to either add ffmpeg to the PATH environment variable\u001b[39m\u001b[38;5;130;01m\\n\u001b[39;00m\u001b[38;5;124m\"\u001b[39m\n\u001b[0;32m     92\u001b[0m         \u001b[38;5;124m\"\u001b[39m\u001b[38;5;124mor set path to the ffmpeg executable under the ffmpeg header in Manim\u001b[39m\u001b[38;5;124m'\u001b[39m\u001b[38;5;124ms configuration.\u001b[39m\u001b[38;5;124m\"\u001b[39m\n\u001b[0;32m     93\u001b[0m     )\n",
      "\u001b[1;31mRuntimeError\u001b[0m: Manim could not find ffmpeg, which is required for generating video output.\nFor installing ffmpeg please consult https://docs.manim.community/en/stable/installation.html\nMake sure to either add ffmpeg to the PATH environment variable\nor set path to the ffmpeg executable under the ffmpeg header in Manim's configuration."
     ]
    }
   ],
   "source": [
    "%manim -p -ql LinearRegressionScene\n",
    "\n",
    "from manim import *\n",
    "\n",
    "class LinearRegressionScene(Scene):\n",
    "    def construct(self):\n",
    "        dot = Dot().shift(LEFT)\n",
    "        self.play(Create(dot))"
   ]
  },
  {
   "cell_type": "code",
   "execution_count": null,
   "id": "d04a03cd",
   "metadata": {},
   "outputs": [],
   "source": []
  }
 ],
 "metadata": {
  "kernelspec": {
   "display_name": "Python 3 (ipykernel)",
   "language": "python",
   "name": "python3"
  },
  "language_info": {
   "codemirror_mode": {
    "name": "ipython",
    "version": 3
   },
   "file_extension": ".py",
   "mimetype": "text/x-python",
   "name": "python",
   "nbconvert_exporter": "python",
   "pygments_lexer": "ipython3",
   "version": "3.9.12"
  }
 },
 "nbformat": 4,
 "nbformat_minor": 5
}
