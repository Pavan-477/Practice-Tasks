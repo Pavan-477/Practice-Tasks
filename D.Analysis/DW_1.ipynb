{
 "cells": [
  {
   "cell_type": "code",
   "execution_count": 1,
   "id": "c558a936",
   "metadata": {},
   "outputs": [],
   "source": [
    "import numpy as np"
   ]
  },
  {
   "cell_type": "code",
   "execution_count": 3,
   "id": "c081043d",
   "metadata": {},
   "outputs": [
    {
     "name": "stdout",
     "output_type": "stream",
     "text": [
      "[0 0 0 0 1 0 0 0 0 0]\n",
      "[nan nan nan nan  1. nan nan nan nan nan]\n"
     ]
    }
   ],
   "source": [
    "#1. Create a null vector of size 10 but the fifth value which is 1.\n",
    "\n",
    "ques_1=np.zeros(10,dtype=int)\n",
    "ques_1[4]=1\n",
    "print(ques_1)\n",
    "\n",
    "#OR\n",
    "\n",
    "ques_1=np.array([np.NaN]*10)\n",
    "ques_1[4]=1\n",
    "print(ques_1)"
   ]
  },
  {
   "cell_type": "code",
   "execution_count": 4,
   "id": "f35b8980",
   "metadata": {},
   "outputs": [
    {
     "name": "stdout",
     "output_type": "stream",
     "text": [
      "[10 11 12 13 14 15 16 17 18 19 20 21 22 23 24 25 26 27 28 29 30 31 32 33\n",
      " 34 35 36 37 38 39 40 41 42 43 44 45 46 47 48]\n"
     ]
    }
   ],
   "source": [
    "# 2. Create a vector with values ranging from 10 to 49.\n",
    "\n",
    "ques_2=np.arange(10,49)\n",
    "print(ques_2)"
   ]
  },
  {
   "cell_type": "code",
   "execution_count": 5,
   "id": "b568f1a8",
   "metadata": {},
   "outputs": [
    {
     "data": {
      "text/plain": [
       "matrix([[0, 1, 2],\n",
       "        [3, 4, 5],\n",
       "        [6, 7, 8]])"
      ]
     },
     "execution_count": 5,
     "metadata": {},
     "output_type": "execute_result"
    }
   ],
   "source": [
    "# 3. Create a 3x3 matrix with values ranging from 0 to 8\n",
    "\n",
    "ques_3=np.matrix(np.arange(9))\n",
    "ques_3=ques_3.reshape(3,3)\n",
    "ques_3"
   ]
  },
  {
   "cell_type": "code",
   "execution_count": 6,
   "id": "7471e609",
   "metadata": {},
   "outputs": [
    {
     "data": {
      "text/plain": [
       "array([[0, 1, 2],\n",
       "       [3, 4, 5],\n",
       "       [6, 7, 8]])"
      ]
     },
     "execution_count": 6,
     "metadata": {},
     "output_type": "execute_result"
    }
   ],
   "source": [
    "ques_3=np.arange(9)\n",
    "ques_3=ques_3.reshape(3,3)\n",
    "ques_3"
   ]
  },
  {
   "cell_type": "code",
   "execution_count": 7,
   "id": "f795e597",
   "metadata": {},
   "outputs": [
    {
     "data": {
      "text/plain": [
       "(array([0, 1, 4], dtype=int64),)"
      ]
     },
     "execution_count": 7,
     "metadata": {},
     "output_type": "execute_result"
    }
   ],
   "source": [
    "# 4. Find indices of non-zero elements from [1,2,0,0,4,0]\n",
    "\n",
    "ques_4=np.array([1,2,0,0,4,0])\n",
    "np.where(ques_4!=0)"
   ]
  },
  {
   "cell_type": "code",
   "execution_count": 8,
   "id": "0e90348f",
   "metadata": {},
   "outputs": [
    {
     "name": "stdout",
     "output_type": "stream",
     "text": [
      "min value : 0.017522284159900092       max value : 0.9858044591883462\n"
     ]
    }
   ],
   "source": [
    "# 5. Create a 10x10 array with random values and find the minimum and maximum values.\n",
    "\n",
    "ques_5=np.random.rand(100).reshape(10,10)\n",
    "ques_5_min=ques_5.min()\n",
    "ques_5_max=ques_5.max()\n",
    "print('min value :',ques_5_min,'      max value :',ques_5_max)"
   ]
  },
  {
   "cell_type": "code",
   "execution_count": 9,
   "id": "ba2f3bdc",
   "metadata": {},
   "outputs": [
    {
     "name": "stdout",
     "output_type": "stream",
     "text": [
      "0.453392867759298\n"
     ]
    }
   ],
   "source": [
    "#6. Create a random vector of size 30 and find the mean value.\n",
    "\n",
    "ques_6=np.random.rand(30)\n",
    "print(ques_6.mean())"
   ]
  },
  {
   "cell_type": "code",
   "execution_count": null,
   "id": "9dd15a1b",
   "metadata": {},
   "outputs": [],
   "source": []
  }
 ],
 "metadata": {
  "kernelspec": {
   "display_name": "Python 3 (ipykernel)",
   "language": "python",
   "name": "python3"
  },
  "language_info": {
   "codemirror_mode": {
    "name": "ipython",
    "version": 3
   },
   "file_extension": ".py",
   "mimetype": "text/x-python",
   "name": "python",
   "nbconvert_exporter": "python",
   "pygments_lexer": "ipython3",
   "version": "3.9.12"
  }
 },
 "nbformat": 4,
 "nbformat_minor": 5
}
