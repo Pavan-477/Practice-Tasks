{
 "cells": [
  {
   "cell_type": "code",
   "execution_count": 1,
   "id": "e831b9f4",
   "metadata": {},
   "outputs": [],
   "source": [
    "import numpy as np\n",
    "import pandas as pd\n",
    "import matplotlib.pyplot as plt\n",
    "import seaborn as sns\n",
    "import warnings\n",
    "warnings.filterwarnings(\"ignore\")"
   ]
  },
  {
   "cell_type": "code",
   "execution_count": 2,
   "id": "d6fec1a5",
   "metadata": {},
   "outputs": [],
   "source": [
    "df=pd.read_csv('mobile_price_data.csv')"
   ]
  },
  {
   "cell_type": "code",
   "execution_count": 3,
   "id": "4d4048a1",
   "metadata": {},
   "outputs": [
    {
     "data": {
      "text/html": [
       "<div>\n",
       "<style scoped>\n",
       "    .dataframe tbody tr th:only-of-type {\n",
       "        vertical-align: middle;\n",
       "    }\n",
       "\n",
       "    .dataframe tbody tr th {\n",
       "        vertical-align: top;\n",
       "    }\n",
       "\n",
       "    .dataframe thead th {\n",
       "        text-align: right;\n",
       "    }\n",
       "</style>\n",
       "<table border=\"1\" class=\"dataframe\">\n",
       "  <thead>\n",
       "    <tr style=\"text-align: right;\">\n",
       "      <th></th>\n",
       "      <th>mobile_name</th>\n",
       "      <th>mobile_price</th>\n",
       "      <th>mobile_color</th>\n",
       "      <th>dual_sim</th>\n",
       "      <th>disp_size</th>\n",
       "      <th>resolution</th>\n",
       "      <th>os</th>\n",
       "      <th>num_cores</th>\n",
       "      <th>mp_speed</th>\n",
       "      <th>int_memory</th>\n",
       "      <th>ram</th>\n",
       "      <th>p_cam</th>\n",
       "      <th>f_cam</th>\n",
       "      <th>network</th>\n",
       "      <th>bluetooth</th>\n",
       "      <th>battery_power</th>\n",
       "      <th>mob_width</th>\n",
       "      <th>mob_height</th>\n",
       "      <th>mob_depth</th>\n",
       "      <th>mob_weight</th>\n",
       "    </tr>\n",
       "  </thead>\n",
       "  <tbody>\n",
       "    <tr>\n",
       "      <th>0</th>\n",
       "      <td>Realme Narzo 10A (So White, 32 GB)</td>\n",
       "      <td>₹8,999</td>\n",
       "      <td>So White</td>\n",
       "      <td>Dual Sim</td>\n",
       "      <td>16.56 cm (6.52 inch)</td>\n",
       "      <td>1600 x 720 Pixels</td>\n",
       "      <td>Android 10</td>\n",
       "      <td>Octa Core</td>\n",
       "      <td>2 GHz</td>\n",
       "      <td>32 GB</td>\n",
       "      <td>3 GB</td>\n",
       "      <td>12MP + 2MP + 2MP</td>\n",
       "      <td>5MP Front Camera</td>\n",
       "      <td>4G VOLTE, 4G, 3G, 2G</td>\n",
       "      <td>Yes</td>\n",
       "      <td>5000 mAh</td>\n",
       "      <td>75 mm</td>\n",
       "      <td>164.4 mm</td>\n",
       "      <td>8.95 mm</td>\n",
       "      <td>195 g</td>\n",
       "    </tr>\n",
       "    <tr>\n",
       "      <th>1</th>\n",
       "      <td>Realme Narzo 10A (So Blue, 32 GB)</td>\n",
       "      <td>₹8,999</td>\n",
       "      <td>So Blue</td>\n",
       "      <td>Dual Sim</td>\n",
       "      <td>16.56 cm (6.52 inch)</td>\n",
       "      <td>1600 x 720 Pixels</td>\n",
       "      <td>Android 10</td>\n",
       "      <td>Octa Core</td>\n",
       "      <td>2 GHz</td>\n",
       "      <td>32 GB</td>\n",
       "      <td>3 GB</td>\n",
       "      <td>12MP + 2MP + 2MP</td>\n",
       "      <td>5MP Front Camera</td>\n",
       "      <td>4G VOLTE, 4G, 3G, 2G</td>\n",
       "      <td>Yes</td>\n",
       "      <td>5000 mAh</td>\n",
       "      <td>75 mm</td>\n",
       "      <td>164.4 mm</td>\n",
       "      <td>8.95 mm</td>\n",
       "      <td>195 g</td>\n",
       "    </tr>\n",
       "    <tr>\n",
       "      <th>2</th>\n",
       "      <td>Realme Narzo 10A (So Blue, 64 GB)</td>\n",
       "      <td>₹9,999</td>\n",
       "      <td>So Blue</td>\n",
       "      <td>Dual Sim</td>\n",
       "      <td>16.56 cm (6.52 inch)</td>\n",
       "      <td>1600 x 720 Pixels</td>\n",
       "      <td>Android 10</td>\n",
       "      <td>Octa Core</td>\n",
       "      <td>2 GHz</td>\n",
       "      <td>64 GB</td>\n",
       "      <td>4 GB</td>\n",
       "      <td>12MP + 2MP + 2MP</td>\n",
       "      <td>5MP Front Camera</td>\n",
       "      <td>4G VOLTE, 4G, 3G, 2G</td>\n",
       "      <td>Yes</td>\n",
       "      <td>5000 mAh</td>\n",
       "      <td>75 mm</td>\n",
       "      <td>164.4 mm</td>\n",
       "      <td>8.95 mm</td>\n",
       "      <td>195 g</td>\n",
       "    </tr>\n",
       "    <tr>\n",
       "      <th>3</th>\n",
       "      <td>Realme Narzo 10A (So White, 64 GB)</td>\n",
       "      <td>₹9,999</td>\n",
       "      <td>So White</td>\n",
       "      <td>Dual Sim</td>\n",
       "      <td>16.56 cm (6.52 inch)</td>\n",
       "      <td>1600 x 720 Pixels</td>\n",
       "      <td>Android 10</td>\n",
       "      <td>Octa Core</td>\n",
       "      <td>2 GHz</td>\n",
       "      <td>64 GB</td>\n",
       "      <td>4 GB</td>\n",
       "      <td>12MP + 2MP + 2MP</td>\n",
       "      <td>5MP Front Camera</td>\n",
       "      <td>4G VOLTE, 4G, 3G, 2G</td>\n",
       "      <td>Yes</td>\n",
       "      <td>5000 mAh</td>\n",
       "      <td>75 mm</td>\n",
       "      <td>164.4 mm</td>\n",
       "      <td>8.95 mm</td>\n",
       "      <td>195 g</td>\n",
       "    </tr>\n",
       "    <tr>\n",
       "      <th>4</th>\n",
       "      <td>Realme Narzo 10 (That Green, 128 GB)</td>\n",
       "      <td>₹11,999</td>\n",
       "      <td>That Green</td>\n",
       "      <td>Dual Sim</td>\n",
       "      <td>16.51 cm (6.5 inch)</td>\n",
       "      <td>1600 x 720 Pixels</td>\n",
       "      <td>Android 10</td>\n",
       "      <td>Octa Core</td>\n",
       "      <td>2 GHz</td>\n",
       "      <td>128 GB</td>\n",
       "      <td>4 GB</td>\n",
       "      <td>48MP + 8MP + 2MP + 2MP</td>\n",
       "      <td>16MP Front Camera</td>\n",
       "      <td>4G VOLTE, 4G, 3G, 2G</td>\n",
       "      <td>Yes</td>\n",
       "      <td>5000 mAh</td>\n",
       "      <td>75.4 mm</td>\n",
       "      <td>164.4 mm</td>\n",
       "      <td>9 mm</td>\n",
       "      <td>199 g</td>\n",
       "    </tr>\n",
       "    <tr>\n",
       "      <th>...</th>\n",
       "      <td>...</td>\n",
       "      <td>...</td>\n",
       "      <td>...</td>\n",
       "      <td>...</td>\n",
       "      <td>...</td>\n",
       "      <td>...</td>\n",
       "      <td>...</td>\n",
       "      <td>...</td>\n",
       "      <td>...</td>\n",
       "      <td>...</td>\n",
       "      <td>...</td>\n",
       "      <td>...</td>\n",
       "      <td>...</td>\n",
       "      <td>...</td>\n",
       "      <td>...</td>\n",
       "      <td>...</td>\n",
       "      <td>...</td>\n",
       "      <td>...</td>\n",
       "      <td>...</td>\n",
       "      <td>...</td>\n",
       "    </tr>\n",
       "    <tr>\n",
       "      <th>454</th>\n",
       "      <td>OPPO A83 (Black, 32 GB)</td>\n",
       "      <td>₹13,490</td>\n",
       "      <td>Black</td>\n",
       "      <td>Dual Sim</td>\n",
       "      <td>14.48 cm (5.7 inch)</td>\n",
       "      <td>1440 x 720 Pixels</td>\n",
       "      <td>Android Nougat 7.1</td>\n",
       "      <td>Octa Core</td>\n",
       "      <td>2.5 GHz</td>\n",
       "      <td>32 GB</td>\n",
       "      <td>3 GB</td>\n",
       "      <td>13MP Rear Camera</td>\n",
       "      <td>8MP Front Camera</td>\n",
       "      <td>3G, 4G VOLTE, 2G</td>\n",
       "      <td>Yes</td>\n",
       "      <td>3180 mAh</td>\n",
       "      <td>73.1 mm</td>\n",
       "      <td>150.5 mm</td>\n",
       "      <td>7.7 mm</td>\n",
       "      <td>143 g</td>\n",
       "    </tr>\n",
       "    <tr>\n",
       "      <th>455</th>\n",
       "      <td>OPPO A83 (Red, 16 GB)</td>\n",
       "      <td>₹9,490</td>\n",
       "      <td>Red</td>\n",
       "      <td>Dual Sim</td>\n",
       "      <td>14.48 cm (5.7 inch)</td>\n",
       "      <td>1440 x 720 Pixels</td>\n",
       "      <td>Android Nougat 7.1</td>\n",
       "      <td>Octa Core</td>\n",
       "      <td>2.5 GHz</td>\n",
       "      <td>16 GB</td>\n",
       "      <td>2 GB</td>\n",
       "      <td>13MP Rear Camera</td>\n",
       "      <td>8MP Front Camera</td>\n",
       "      <td>3G, 4G VOLTE, 4G, 2G</td>\n",
       "      <td>Yes</td>\n",
       "      <td>3180 mAh</td>\n",
       "      <td>73.1 mm</td>\n",
       "      <td>150.5 mm</td>\n",
       "      <td>7.7 mm</td>\n",
       "      <td>143 g</td>\n",
       "    </tr>\n",
       "    <tr>\n",
       "      <th>456</th>\n",
       "      <td>OPPO F7 (Red, 64 GB)</td>\n",
       "      <td>₹22,990</td>\n",
       "      <td>Red</td>\n",
       "      <td>Dual Sim</td>\n",
       "      <td>15.82 cm (6.23 inch)</td>\n",
       "      <td>2280 x 1080 Pixels</td>\n",
       "      <td>Android Oreo 8.1.0</td>\n",
       "      <td>Octa Core</td>\n",
       "      <td>2 GHz</td>\n",
       "      <td>64 GB</td>\n",
       "      <td>4 GB</td>\n",
       "      <td>16MP Rear Camera</td>\n",
       "      <td>25MP Front Camera</td>\n",
       "      <td>3G, 4G, 2G</td>\n",
       "      <td>Yes</td>\n",
       "      <td>3400 mAh</td>\n",
       "      <td>75.3 mm</td>\n",
       "      <td>156 mm</td>\n",
       "      <td>7.8 mm</td>\n",
       "      <td>158 g</td>\n",
       "    </tr>\n",
       "    <tr>\n",
       "      <th>457</th>\n",
       "      <td>OPPO F11 (Marble Green, 128 GB)</td>\n",
       "      <td>₹13,990</td>\n",
       "      <td>Marble Green</td>\n",
       "      <td>Dual Sim</td>\n",
       "      <td>16.59 cm (6.53 inch)</td>\n",
       "      <td>1080 x 2340 pixels</td>\n",
       "      <td>Android Pie 9.0</td>\n",
       "      <td>Octa Core</td>\n",
       "      <td>2.1 GHz</td>\n",
       "      <td>128 GB</td>\n",
       "      <td>4 GB</td>\n",
       "      <td>48MP + 5MP</td>\n",
       "      <td>16MP Front Camera</td>\n",
       "      <td>3G, 4G VOLTE, 4G, 2G</td>\n",
       "      <td>Yes</td>\n",
       "      <td>4020 mAh</td>\n",
       "      <td>76.1 mm</td>\n",
       "      <td>162 mm</td>\n",
       "      <td>8.3 mm</td>\n",
       "      <td>188 g</td>\n",
       "    </tr>\n",
       "    <tr>\n",
       "      <th>458</th>\n",
       "      <td>OPPO F11 (Fluorite Purple, 128 GB)</td>\n",
       "      <td>₹13,990</td>\n",
       "      <td>Fluorite Purple</td>\n",
       "      <td>Dual Sim</td>\n",
       "      <td>16.59 cm (6.53 inch)</td>\n",
       "      <td>1080 x 2340 pixels</td>\n",
       "      <td>Android Pie 9.0</td>\n",
       "      <td>Octa Core</td>\n",
       "      <td>2.1 GHz</td>\n",
       "      <td>128 GB</td>\n",
       "      <td>4 GB</td>\n",
       "      <td>48MP + 5MP</td>\n",
       "      <td>16MP Front Camera</td>\n",
       "      <td>3G, 4G VOLTE, 4G, 2G</td>\n",
       "      <td>Yes</td>\n",
       "      <td>4020 mAh</td>\n",
       "      <td>76.1 mm</td>\n",
       "      <td>162 mm</td>\n",
       "      <td>8.3 mm</td>\n",
       "      <td>188 g</td>\n",
       "    </tr>\n",
       "  </tbody>\n",
       "</table>\n",
       "<p>459 rows × 20 columns</p>\n",
       "</div>"
      ],
      "text/plain": [
       "                              mobile_name mobile_price     mobile_color  \\\n",
       "0      Realme Narzo 10A (So White, 32 GB)       ₹8,999         So White   \n",
       "1       Realme Narzo 10A (So Blue, 32 GB)       ₹8,999          So Blue   \n",
       "2       Realme Narzo 10A (So Blue, 64 GB)       ₹9,999          So Blue   \n",
       "3      Realme Narzo 10A (So White, 64 GB)       ₹9,999         So White   \n",
       "4    Realme Narzo 10 (That Green, 128 GB)      ₹11,999       That Green   \n",
       "..                                    ...          ...              ...   \n",
       "454               OPPO A83 (Black, 32 GB)      ₹13,490            Black   \n",
       "455                 OPPO A83 (Red, 16 GB)       ₹9,490              Red   \n",
       "456                  OPPO F7 (Red, 64 GB)      ₹22,990              Red   \n",
       "457       OPPO F11 (Marble Green, 128 GB)      ₹13,990     Marble Green   \n",
       "458    OPPO F11 (Fluorite Purple, 128 GB)      ₹13,990  Fluorite Purple   \n",
       "\n",
       "     dual_sim             disp_size          resolution                  os  \\\n",
       "0    Dual Sim  16.56 cm (6.52 inch)   1600 x 720 Pixels          Android 10   \n",
       "1    Dual Sim  16.56 cm (6.52 inch)   1600 x 720 Pixels          Android 10   \n",
       "2    Dual Sim  16.56 cm (6.52 inch)   1600 x 720 Pixels          Android 10   \n",
       "3    Dual Sim  16.56 cm (6.52 inch)   1600 x 720 Pixels          Android 10   \n",
       "4    Dual Sim   16.51 cm (6.5 inch)   1600 x 720 Pixels          Android 10   \n",
       "..        ...                   ...                 ...                 ...   \n",
       "454  Dual Sim   14.48 cm (5.7 inch)   1440 x 720 Pixels  Android Nougat 7.1   \n",
       "455  Dual Sim   14.48 cm (5.7 inch)   1440 x 720 Pixels  Android Nougat 7.1   \n",
       "456  Dual Sim  15.82 cm (6.23 inch)  2280 x 1080 Pixels  Android Oreo 8.1.0   \n",
       "457  Dual Sim  16.59 cm (6.53 inch)  1080 x 2340 pixels     Android Pie 9.0   \n",
       "458  Dual Sim  16.59 cm (6.53 inch)  1080 x 2340 pixels     Android Pie 9.0   \n",
       "\n",
       "     num_cores mp_speed int_memory   ram                   p_cam  \\\n",
       "0    Octa Core    2 GHz      32 GB  3 GB        12MP + 2MP + 2MP   \n",
       "1    Octa Core    2 GHz      32 GB  3 GB        12MP + 2MP + 2MP   \n",
       "2    Octa Core    2 GHz      64 GB  4 GB        12MP + 2MP + 2MP   \n",
       "3    Octa Core    2 GHz      64 GB  4 GB        12MP + 2MP + 2MP   \n",
       "4    Octa Core    2 GHz     128 GB  4 GB  48MP + 8MP + 2MP + 2MP   \n",
       "..         ...      ...        ...   ...                     ...   \n",
       "454  Octa Core  2.5 GHz      32 GB  3 GB        13MP Rear Camera   \n",
       "455  Octa Core  2.5 GHz      16 GB  2 GB        13MP Rear Camera   \n",
       "456  Octa Core    2 GHz      64 GB  4 GB        16MP Rear Camera   \n",
       "457  Octa Core  2.1 GHz     128 GB  4 GB              48MP + 5MP   \n",
       "458  Octa Core  2.1 GHz     128 GB  4 GB              48MP + 5MP   \n",
       "\n",
       "                 f_cam               network bluetooth battery_power  \\\n",
       "0     5MP Front Camera  4G VOLTE, 4G, 3G, 2G       Yes      5000 mAh   \n",
       "1     5MP Front Camera  4G VOLTE, 4G, 3G, 2G       Yes      5000 mAh   \n",
       "2     5MP Front Camera  4G VOLTE, 4G, 3G, 2G       Yes      5000 mAh   \n",
       "3     5MP Front Camera  4G VOLTE, 4G, 3G, 2G       Yes      5000 mAh   \n",
       "4    16MP Front Camera  4G VOLTE, 4G, 3G, 2G       Yes      5000 mAh   \n",
       "..                 ...                   ...       ...           ...   \n",
       "454   8MP Front Camera      3G, 4G VOLTE, 2G       Yes      3180 mAh   \n",
       "455   8MP Front Camera  3G, 4G VOLTE, 4G, 2G       Yes      3180 mAh   \n",
       "456  25MP Front Camera            3G, 4G, 2G       Yes      3400 mAh   \n",
       "457  16MP Front Camera  3G, 4G VOLTE, 4G, 2G       Yes      4020 mAh   \n",
       "458  16MP Front Camera  3G, 4G VOLTE, 4G, 2G       Yes      4020 mAh   \n",
       "\n",
       "    mob_width mob_height mob_depth mob_weight  \n",
       "0       75 mm   164.4 mm   8.95 mm      195 g  \n",
       "1       75 mm   164.4 mm   8.95 mm      195 g  \n",
       "2       75 mm   164.4 mm   8.95 mm      195 g  \n",
       "3       75 mm   164.4 mm   8.95 mm      195 g  \n",
       "4     75.4 mm   164.4 mm      9 mm      199 g  \n",
       "..        ...        ...       ...        ...  \n",
       "454   73.1 mm   150.5 mm    7.7 mm      143 g  \n",
       "455   73.1 mm   150.5 mm    7.7 mm      143 g  \n",
       "456   75.3 mm     156 mm    7.8 mm      158 g  \n",
       "457   76.1 mm     162 mm    8.3 mm      188 g  \n",
       "458   76.1 mm     162 mm    8.3 mm      188 g  \n",
       "\n",
       "[459 rows x 20 columns]"
      ]
     },
     "execution_count": 3,
     "metadata": {},
     "output_type": "execute_result"
    }
   ],
   "source": [
    "df"
   ]
  },
  {
   "cell_type": "code",
   "execution_count": 4,
   "id": "31ce6852",
   "metadata": {},
   "outputs": [
    {
     "data": {
      "text/plain": [
       "mobile_name      0\n",
       "mobile_price     0\n",
       "mobile_color     0\n",
       "dual_sim         0\n",
       "disp_size        0\n",
       "resolution       0\n",
       "os               0\n",
       "num_cores        0\n",
       "mp_speed         0\n",
       "int_memory       0\n",
       "ram              0\n",
       "p_cam            0\n",
       "f_cam            0\n",
       "network          0\n",
       "bluetooth        0\n",
       "battery_power    0\n",
       "mob_width        0\n",
       "mob_height       0\n",
       "mob_depth        0\n",
       "mob_weight       0\n",
       "dtype: int64"
      ]
     },
     "execution_count": 4,
     "metadata": {},
     "output_type": "execute_result"
    }
   ],
   "source": [
    "df.isna().sum()"
   ]
  },
  {
   "cell_type": "code",
   "execution_count": 5,
   "id": "fe6c6a68",
   "metadata": {},
   "outputs": [],
   "source": [
    "num_features = df.select_dtypes(exclude=\"object\").columns\n",
    "cat_features = df.select_dtypes(include=\"object\").columns"
   ]
  },
  {
   "cell_type": "code",
   "execution_count": 6,
   "id": "790afa71",
   "metadata": {},
   "outputs": [
    {
     "data": {
      "text/plain": [
       "array(['Realme Narzo 10A (So White, 32 GB)',\n",
       "       'Realme Narzo 10A (So Blue, 32 GB)',\n",
       "       'Realme Narzo 10A (So Blue, 64 GB)',\n",
       "       'Realme Narzo 10A (So White, 64 GB)',\n",
       "       'Realme Narzo 10 (That Green, 128 GB)',\n",
       "       'Realme Narzo 10 (That White, 128 GB)',\n",
       "       'Realme 5 Pro (Crystal Green, 64 GB)',\n",
       "       'Realme 5 Pro (Crystal Green, 128 GB)',\n",
       "       'Realme 5 Pro (Sparkling Blue, 128 GB)',\n",
       "       'Realme 5 Pro (Sparkling Blue, 64 GB)',\n",
       "       'Realme X2 Pro (Lunar White, 256 GB)',\n",
       "       'Realme X2 Pro (Neptune Blue, 256 GB)',\n",
       "       'Realme X2 Pro (Neptune Blue, 128 GB)',\n",
       "       'Realme X2 Pro (Lunar White, 128 GB)',\n",
       "       'Realme 2 Pro (Black Sea, 128 GB)',\n",
       "       'Realme XT (Pearl Blue, 64 GB)', 'Realme XT (Pearl White, 64 GB)',\n",
       "       'Realme X50 Pro (Rust Red, 128 GB)',\n",
       "       'Realme X50 Pro (Moss Green, 128 GB)',\n",
       "       'Realme X50 Pro (Moss Green, 256 GB)',\n",
       "       'Realme C3 (Frozen Blue, 32 GB)', 'Realme 6 (Comet White, 128 GB)',\n",
       "       'Realme 6 Pro (Lightning Orange, 128 GB)',\n",
       "       'Realme 6 Pro (Lightning Blue, 128 GB)',\n",
       "       'Realme C2 (Diamond Black, 32 GB)',\n",
       "       'Realme C2 (Diamond Blue, 32 GB)',\n",
       "       'Realme C2 (Diamond Ruby, 32 GB)', 'Realme 6 (Comet Blue, 128 GB)',\n",
       "       'Realme C2 (Diamond Sapphire, 32 GB)',\n",
       "       'Realme 5s (Crystal Red, 128 GB)',\n",
       "       'Realme 5s (Crystal Blue, 64 GB)',\n",
       "       'Realme 5s (Crystal Purple, 128 GB)',\n",
       "       'Realme 5s (Crystal Red, 64 GB)',\n",
       "       'Realme 5s (Crystal Blue, 128 GB)',\n",
       "       'Realme 5s (Crystal Purple, 64 GB)',\n",
       "       'Realme X2 Pro (Neptune Blue, 64 GB)',\n",
       "       'Realme X2 Pro (Lunar White, 64 GB)',\n",
       "       'Realme X2 Pro (Red Brick, 256 GB)',\n",
       "       'Realme X2 Pro (Concrete, 256 GB)',\n",
       "       'Realme X2 (Pearl White, 128 GB)',\n",
       "       'Realme X2 (Pearl Green, 128 GB)', 'Realme X2 (Pearl Blue, 64 GB)',\n",
       "       'Realme X2 (Pearl Green, 64 GB)', 'Realme X2 (Pearl Blue, 128 GB)',\n",
       "       'Realme C2 (Diamond Blue, 16 GB)',\n",
       "       'Realme Narzo 10 (That Blue, 128 GB)',\n",
       "       'Realme X3 (Glacier Blue, 128 GB)',\n",
       "       'Realme X3 (Arctic White, 128 GB)',\n",
       "       'Realme X3 SuperZoom (Glacier Blue, 128 GB)',\n",
       "       'Realme X3 SuperZoom (Glacier Blue, 256 GB)',\n",
       "       'Realme X3 SuperZoom (Arctic White, 256 GB)',\n",
       "       'Realme X3 SuperZoom (Arctic White, 128 GB)',\n",
       "       'Realme 3 (Dynamic Black, 32 GB)', 'Realme 3 (Diamond Red, 64 GB)',\n",
       "       'Realme 3 (Radiant Blue, 64 GB)',\n",
       "       'Realme 3 (Dynamic Black, 64 GB)', 'Realme 3 (Diamond Red, 32 GB)',\n",
       "       'Realme 3 (Black, 64 GB)', 'Redmi 8 (Sapphire Blue, 64 GB)',\n",
       "       'Redmi 8 (Onyx Black, 64 GB)', 'Redmi K20 Pro (Flame Red, 128 GB)',\n",
       "       'Redmi Note 9 Pro (Aurora Blue, 64 GB)',\n",
       "       'Redmi K20 Pro (Carbon Black, 128 GB)',\n",
       "       'Mi A3 (More Than White, 128 GB)',\n",
       "       'Redmi K20 Pro (Glacier Blue, 128 GB)',\n",
       "       'Redmi Note 7 Pro (Space Black, 128 GB)',\n",
       "       'Mi A3 (Not just Blue, 128 GB)', 'Mi Mix 2 (Black, 128 GB)',\n",
       "       'Redmi K20 Pro (Pearl White, 128 GB)',\n",
       "       'Mi A3 (Kind of Grey, 128 GB)',\n",
       "       'Redmi K20 Pro (Carbon Black, 256 GB)',\n",
       "       'Redmi Note 7 Pro (Nebula Red, 128 GB)',\n",
       "       'Redmi K20 (Carbon Black, 64 GB)', 'Redmi Y2 (Gold, 64 GB)',\n",
       "       'Redmi K20 Pro (Pearl White, 256 GB)',\n",
       "       'Redmi K20 (Glacier Blue, 128 GB)',\n",
       "       'Redmi Note 6 Pro (Rose Gold, 64 GB)', 'Mi A2 (Red, 64 GB)',\n",
       "       'Mi 10 (Twilight Grey, 256 GB)', 'Mi 10 (Coral Green, 128 GB)',\n",
       "       'Redmi K20 (Flame Red, 128 GB)', 'Mi A2 (Red, 128 GB)',\n",
       "       'Mi A2 (Gold, 128 GB)', 'Redmi K20 (Carbon Black, 128 GB)',\n",
       "       'Mi A2 (Lake Blue, 128 GB)', 'Redmi Note 5 Pro (Red, 64 GB)',\n",
       "       'Redmi K20 (Pearl White, 128 GB)', 'MI3 (Metallic Grey, 16 GB)',\n",
       "       'Redmi 8 (Emerald Green, 64 GB)', 'Redmi 8 (Ruby Red, 64 GB)',\n",
       "       'Mi A3 (Kind of Grey, 64 GB)',\n",
       "       'Redmi Note 9 Pro (Interstellar Black, 128 GB)',\n",
       "       'Redmi Note 9 Pro (Aurora Blue, 128 GB)',\n",
       "       'Redmi 8A Dual (Sea Blue, 32 GB)',\n",
       "       'Redmi 8A Dual (Midnight Grey, 32 GB)',\n",
       "       'Redmi Note 8 (Moonlight White, 64 GB)',\n",
       "       'Redmi Note 8 (Neptune Blue, 128 GB)',\n",
       "       'Redmi Note 8 (Neptune Blue, 32 GB)',\n",
       "       'Mi A3 (Not just Blue, 64 GB)', 'Mi A3 (More Than White, 64 GB)',\n",
       "       'Redmi Note 8 (Neptune Blue, 64 GB)',\n",
       "       'Redmi Note 8 (Space Black, 64 GB)',\n",
       "       'Redmi 8A Dual (Sky White, 32 GB)',\n",
       "       'Redmi Note 7 Pro (Space Black, 64 GB)',\n",
       "       'Redmi K20 Pro (Flame Red, 256 GB)',\n",
       "       'Redmi Note 9 Pro (Glacier White, 64 GB)',\n",
       "       'Redmi Note 9 Pro (Interstellar Black, 64 GB)',\n",
       "       'Redmi Note 6 Pro (Black, 64 GB)', 'Redmi Note 6 Pro (Red, 64 GB)',\n",
       "       'Redmi Note 4 (Black, 64 GB)', 'Redmi K20 (Glacier Blue, 64 GB)',\n",
       "       'Redmi Note 5 Pro (Gold, 64 GB)',\n",
       "       'Redmi Note 7 Pro (Astro Moonlight White, 128 GB)',\n",
       "       'Redmi Note 9 Pro Max (Interstellar Black, 128 GB)',\n",
       "       'Redmi Note 9 Pro Max (Glacier White, 128 GB)',\n",
       "       'Redmi 8A (Sunset Red, 32 GB)', 'Mi 10 (Coral Green, 256 GB)',\n",
       "       'Redmi Note 5 Pro (Black, 64 GB)',\n",
       "       'Redmi Note 5 Pro (Rose Gold, 64 GB)',\n",
       "       'Mi A2 (Blue/Lake Blue, 64 GB)', 'Redmi Go (Blue, 16 GB)',\n",
       "       'Redmi Note 7S (Sapphire Blue, 32 GB)',\n",
       "       'Redmi Y2 (Rose Gold, 64 GB)', 'Redmi 7A (Matte Black, 32 GB)',\n",
       "       'Redmi Note 7S (Onyx Black, 64 GB)', 'Redmi Y2 (Blue, 32 GB)',\n",
       "       'Redmi Y2 (Black, 64 GB)', 'Redmi Note 7 (Onyx Black, 32 GB)',\n",
       "       'Redmi 7A (Matte Black, 16 GB)', 'Redmi 6 (Rose Gold, 32 GB)',\n",
       "       'Redmi Note 7 (Ruby Red, 32 GB)',\n",
       "       'Redmi Note 7S (Ruby Red, 64 GB)', 'Redmi 7A (Matte Gold, 16 GB)',\n",
       "       'Redmi Note 5 Pro (Blue, 64 GB)', 'Redmi Y3 (Elegant Blue, 32 GB)',\n",
       "       'Redmi Y3 (Prime Black, 32 GB)',\n",
       "       'Redmi Note 7 (Sapphire Blue, 32 GB)',\n",
       "       'Redmi K20 (Flame Red, 64 GB)',\n",
       "       'Redmi Note 7S (Astro Moonlight White, 32 GB)',\n",
       "       'Redmi Note 4 (Gold, 64 GB)', 'Redmi 8A Dual (Sky White, 64 GB)',\n",
       "       'Redmi 8A Dual (Sea Blue, 64 GB)',\n",
       "       'Redmi Note 7 Pro (Neptune Blue, 128 GB)',\n",
       "       'Redmi 8A Dual (Midnight Grey, 64 GB)',\n",
       "       'Redmi Note 9 Pro (Glacier White, 128 GB)',\n",
       "       'Redmi Note 7 (Sapphire Blue, 64 GB)', 'Mi A2 (Rose Gold, 64 GB)',\n",
       "       'Redmi 7A (Matte Gold, 32 GB)', 'Redmi Y2 (Rose Gold, 32 GB)',\n",
       "       'Redmi Y1 (Grey, 64 GB)', 'Redmi Y2 (Dark Grey, 32 GB)',\n",
       "       'Vivo Y12 (Burgundy Red, 64 GB)',\n",
       "       'Vivo U10 (Thunder Black, 32 GB)',\n",
       "       'Vivo Y11 (Mineral Blue, 32 GB)', 'Vivo Z1x (Fusion Blue, 64 GB)',\n",
       "       'Vivo Z1x (Phantom Purple, 64 GB)',\n",
       "       'Vivo Z1x (Fusion Blue, 128 GB)',\n",
       "       'Vivo Z1x (Phantom Purple, 128 GB)',\n",
       "       'Vivo Y15 (Burgundy Red, 64 GB)', 'Vivo Y11 (Agate Red, 32 GB)',\n",
       "       'Vivo S1 Pro (Mystic Black, 128 GB)',\n",
       "       'Vivo S1 Pro (Jazzy Blue, 128 GB)',\n",
       "       'Vivo S1 Pro (Dreamy White, 128 GB)',\n",
       "       'Vivo Y91i (Fusion Black, 32 GB)', 'Vivo Y91i (Ocean Blue, 32 GB)',\n",
       "       'Vivo Y50 (Pearl White, 128 GB)', 'Vivo Y50 (Iris Blue, 128 GB)',\n",
       "       'Vivo Z1Pro (Sonic Black, 128 GB)',\n",
       "       'Vivo Z1Pro (Sonic Black, 64 GB)',\n",
       "       'Vivo Z1Pro (Sonic Blue, 128 GB)',\n",
       "       'Vivo Y19 (Magnetic Black, 128 GB)',\n",
       "       'Vivo V19 (Mystic Silver, 256 GB)',\n",
       "       'Vivo V19 (Mystic Silver, 128 GB)',\n",
       "       'Vivo V19 (Piano Black, 128 GB)', 'Vivo V19 (Piano Black, 256 GB)',\n",
       "       'Vivo V17 (Glacier ice white, 128 GB)',\n",
       "       'Vivo V17 (Midnight Ocean Black, 128 GB)',\n",
       "       'Vivo U10 (Electric Blue, 64 GB)', 'Vivo S1 (Skyline Blue, 64 GB)',\n",
       "       'Vivo S1 (Skyline Blue, 128 GB)',\n",
       "       'Vivo S1 (Diamond Black, 128 GB)',\n",
       "       'Vivo Y91i (Fusion Black, 16 GB)',\n",
       "       'Vivo V15 Pro (Topaz Blue, 128 GB)',\n",
       "       'Vivo Y17 (Mystic Purple, 128 GB)',\n",
       "       'Vivo V15 Pro (Ruby Red, 128 GB)',\n",
       "       'Vivo V17Pro (Midnight Ocean Black, 128 GB)',\n",
       "       'Vivo V17Pro (Glacier Ice White, 128 GB)',\n",
       "       'Vivo U10 (Thunder Black, 64 GB)',\n",
       "       'Vivo V11 Pro (Starry Night Black, 64 GB)',\n",
       "       'Vivo NEX (Black, 128 GB)', 'Vivo Y81 (Black, 32 GB)',\n",
       "       'Vivo V9 Youth (Black, 32 GB)', 'Vivo V15 (Frozen Black, 64 GB)',\n",
       "       'Vivo Y93 (Starry Black, 32 GB)', 'Vivo Y93 (Starry Black, 64 GB)',\n",
       "       'Vivo Y91 (Ocean Blue, 32 GB)', 'Vivo V7 (Matte Black, 32 GB)',\n",
       "       'Vivo V7 (Energetic Blue, 32 GB)', 'Vivo Y83 (Gold, 32 GB)',\n",
       "       'Vivo V9 (Gold, 64 GB)', 'Vivo Y71i (Matte Black, 16 GB)',\n",
       "       'Vivo Y93 (Nebula Purple, 32 GB)',\n",
       "       'Vivo U10 (Electric Blue, 32 GB)',\n",
       "       'Vivo Z1Pro (Sonic Blue, 64 GB)', 'Vivo V9 Pro (Black, 64 GB)',\n",
       "       'Vivo V9 Pro (Nebula Purple, 64 GB)', 'Vivo Y81 (Gold, 32 GB)',\n",
       "       'Vivo V9 Youth (Gold, 32 GB)', 'Vivo Y91 (Starry Black, 32 GB)',\n",
       "       'Vivo Y71 (Gold, 16 GB)', 'Vivo Y71 (Matte Black, 32 GB)',\n",
       "       'Vivo V7+ (Energetic Blue, 64 GB)',\n",
       "       'Vivo Y55S (Matte Black, 16 GB)', 'Vivo Y55S (Grey, 16 GB)',\n",
       "       'Vivo Y81i (Gold, 16 GB)', 'Vivo Y71 (Matte Black, 16 GB)',\n",
       "       'Vivo Y71 (Gold, 32 GB)', 'Vivo Y91i (Black, 32 GB)',\n",
       "       'Vivo Y69 (Gold, 32 GB)', 'Samsung Galaxy M30S (Blue, 128 GB)',\n",
       "       'Samsung Galaxy A21s (Blue, 64 GB)',\n",
       "       'Samsung Galaxy A21s (Black, 64 GB)',\n",
       "       'Samsung Galaxy A21s (White, 64 GB)',\n",
       "       'Samsung Galaxy M21 (Midnight Blue, 64 GB)',\n",
       "       'Samsung Galaxy M21 (Raven Black, 64 GB)',\n",
       "       'Samsung Galaxy J2 Core (Black, 16 GB)',\n",
       "       'Samsung Galaxy M31 (Ocean Blue, 128 GB)',\n",
       "       'Samsung Galaxy S10 Lite (Prism Blue, 512 GB)',\n",
       "       'Samsung Galaxy S10 Lite (Prism Black, 512 GB)',\n",
       "       'Samsung Galaxy J2-2017 (Metallic gold, 8 GB)',\n",
       "       'Samsung Galaxy J7 Pro (Black, 64 GB)',\n",
       "       'Samsung Galaxy J7 Nxt (Black, 16 GB)',\n",
       "       'Samsung Galaxy J7 Nxt (Gold, 16 GB)',\n",
       "       'Infinix Hot 9 Pro (Violet, 64 GB)',\n",
       "       'Infinix Hot 9 Pro (Ocean Wave, 64 GB)',\n",
       "       'Infinix Hot 9 (Violet, 64 GB)',\n",
       "       'Infinix Hot 9 (Ocean Wave, 64 GB)',\n",
       "       'Infinix Note 5 Stylus (Charcoal Blue, 64 GB)',\n",
       "       'Infinix S5 Pro (Forest Green, 64 GB)',\n",
       "       'Infinix S5 Pro (Violet, 64 GB)',\n",
       "       'Infinix Note 5 Stylus (Bordeaux Red, 64 GB)',\n",
       "       'Infinix Hot S3X (Tradew Gray, 32 GB)',\n",
       "       'Infinix Hot S3X (Milan Black, 32 GB)',\n",
       "       'Infinix Note 5 (Ice Blue, 64 GB)',\n",
       "       'Infinix Note 5 (Berlin Gray, 64 GB)',\n",
       "       'Infinix Hot 7 (Midnight Black, 64 GB)',\n",
       "       'Infinix Hot 7 (Mocha Brown, 64 GB)',\n",
       "       'Infinix Hot 7 (Aqua Blue, 64 GB)',\n",
       "       'Infinix Note 5 (Berlin Gray, 32 GB)',\n",
       "       'Infinix Hot S3 (Topaz Blue, 64 GB)',\n",
       "       'Infinix Hot S3 (Sandstone Black, 64 GB)',\n",
       "       'Infinix Hot S3 (Blush Gold, 64 GB)',\n",
       "       'Infinix S5 Lite (Violet, 64 GB)',\n",
       "       'Infinix S5 Lite (Quetzal Cyan, 64 GB)',\n",
       "       'Infinix S5 Lite (Midnight Black, 64 GB)',\n",
       "       'Infinix Note 5 (Milan Black, 32 GB)',\n",
       "       'Infinix Zero 5 Pro (Bronze Gold Black, 128 GB)',\n",
       "       'Infinix S4 (Nebula Blue, 32 GB)',\n",
       "       'Infinix S4 (Twilight Purple, 32 GB)',\n",
       "       'Infinix S4 (Space Gray, 32 GB)',\n",
       "       'Infinix S5 (Quetzal Cyan, 64 GB)', 'Infinix S5 (Violet, 64 GB)',\n",
       "       'Infinix Hot S3 (Blush Gold, 32 GB)',\n",
       "       'Infinix Hot S3 (Sandstone Black, 32 GB)',\n",
       "       'Infinix Hot S3 (Topaz Blue, 32 GB)',\n",
       "       'Infinix Hot S3 (Bordeaux Red, 32 GB)',\n",
       "       'Infinix Note 5 (Milan Black, 64 GB)',\n",
       "       'Infinix Zero 5 (Sandstone Black, 64 GB)',\n",
       "       'Infinix Zero 5 (Bordeaux Red, 64 GB)',\n",
       "       'POCO F1 (Steel Blue, 128 GB)', 'POCO F1 (Steel Blue, 256 GB)',\n",
       "       'POCO F1 (Graphite Black, 256 GB)',\n",
       "       'POCO F1 (Armoured Edition, 256 GB)', 'POCO F1 (Rosso Red, 64 GB)',\n",
       "       'POCO X2 (Matrix Purple, 256 GB)',\n",
       "       'POCO X2 (Matrix Purple, 64 GB)', 'POCO X2 (Atlantis Blue, 64 GB)',\n",
       "       'POCO X2 (Phoenix Red, 128 GB)', 'POCO X2 (Atlantis Blue, 128 GB)',\n",
       "       'POCO X2 (Atlantis Blue, 256 GB)', 'POCO X2 (Phoenix Red, 256 GB)',\n",
       "       'POCO X2 (Phoenix Red, 64 GB)',\n",
       "       'POCO X2 Special Edition (Matrix Purple, 128 GB)',\n",
       "       'POCO F1 (Rosso Red, 128 GB)', 'POCO F1 (Graphite Black, 128 GB)',\n",
       "       'POCO F1 (Rosso Red, 256 GB)',\n",
       "       'POCO F1 (Armoured Edition, 128 GB)',\n",
       "       'POCO X2 Special Edition (Atlantis Blue, 128 GB)',\n",
       "       'POCO X2 Special Edition (Phoenix Red, 128 GB)',\n",
       "       'POCO F1 (Steel Blue, 64 GB)', 'POCO F1 (Graphite Black, 64 GB)',\n",
       "       'POCO M2 Pro (Green and Greener, 64 GB)',\n",
       "       'POCO M2 Pro (Green and Greener, 128 GB)',\n",
       "       'POCO M2 Pro (Out of the Blue, 128 GB)',\n",
       "       'POCO M2 Pro (Two Shades of Black, 128 GB)',\n",
       "       'POCO M2 Pro (Two Shades of Black, 64 GB)',\n",
       "       'POCO M2 Pro (Out of the Blue, 64 GB)',\n",
       "       'OPPO A31 (Fantasy White, 64 GB)',\n",
       "       'OPPO A31 (Fantasy White, 128 GB)',\n",
       "       'OPPO A31 (Mystery Black, 128 GB)',\n",
       "       'OPPO A31 (Mystery Black, 64 GB)',\n",
       "       'OPPO A9 2020 (Marine Green, 128 GB)', 'OPPO A12 (Black, 32 GB)',\n",
       "       'OPPO A12 (Blue, 32 GB)', 'OPPO A5s (Blue, 32 GB)',\n",
       "       'OPPO F15 (Unicorn White, 128 GB)',\n",
       "       'OPPO F15 (Blazing Blue, 128 GB)',\n",
       "       'OPPO A52 (Twilight Black, 128 GB)',\n",
       "       'OPPO A52 (Stream White, 128 GB)', 'OPPO A11K (Deep Blue, 32 GB)',\n",
       "       'OPPO A11K (Flowing Silver, 32 GB)', 'OPPO A5s (Green, 64 GB)',\n",
       "       'OPPO A9 2020 (Space Purple, 128 GB)',\n",
       "       'OPPO F15 (Lightening Black, 128 GB)', 'OPPO A5s (Gold, 64 GB)',\n",
       "       'OPPO Reno3 Pro (Sky White, 128 GB)',\n",
       "       'OPPO Reno3 Pro (Auroral Blue, 128 GB)',\n",
       "       'OPPO Reno3 Pro (Midnight Black, 128 GB)',\n",
       "       'OPPO A5s (Black, 32 GB)', 'OPPO F11 Pro (Thunder Black, 64 GB)',\n",
       "       'OPPO Reno 10x Zoom (Ocean Green, 256 GB)',\n",
       "       'OPPO Reno2 (Ocean Blue, 256 GB)',\n",
       "       'OPPO Find X (Glacier Blue, 256 GB)',\n",
       "       'OPPO Find X (Bordeaux Red, 256 GB)',\n",
       "       'OPPO Reno2 Z (Luminous Black, 256 GB)',\n",
       "       'OPPO A83 (2018 Edition) (Champagne, 64 GB)',\n",
       "       'OPPO A9 2020 (Vanilla Mint, 128 GB)', 'OPPO A5s (Red, 32 GB)',\n",
       "       'OPPO K1 (Piano Black, 64 GB)', 'OPPO F9 Pro (Sunrise Red, 64 GB)',\n",
       "       'OPPO K1 (Astral Blue, 64 GB)', 'OPPO F11 (Marble Green, 128 GB)',\n",
       "       'OPPO A1K (Red, 32 GB)', 'OPPO A7 (Glaring Gold, 64 GB)',\n",
       "       'OPPO F9 Pro (Twilight Blue, 64 GB)',\n",
       "       'OPPO F9 Pro (Starry Purple, 64 GB)',\n",
       "       'OPPO A7 (Glaze Blue, 64 GB)', 'OPPO A3s (Red, 64 GB)',\n",
       "       'OPPO A3s (Red, 16 GB)', 'OPPO A3s (Purple, 16 GB)',\n",
       "       'OPPO A12 (Black, 64 GB)', 'OPPO A12 (Blue, 64 GB)',\n",
       "       'OPPO F11 Pro (Waterfall Grey, 128 GB)',\n",
       "       'OPPO F11 Pro (Thunder Black, 128 GB)',\n",
       "       'OPPO R17 Pro (Radiant Mist, 128 GB)', 'OPPO A83 (Black, 32 GB)',\n",
       "       'OPPO A83 (Red, 16 GB)', 'OPPO F7 (Red, 64 GB)',\n",
       "       'OPPO F11 (Fluorite Purple, 128 GB)',\n",
       "       'OPPO F11 (Jewelry White, 128 GB)', 'OPPO F1S (Rose Gold, 64 GB)',\n",
       "       'OPPO F1S (Grey, 64 GB)', 'OPPO F1S (Gold, 64 GB)',\n",
       "       'OPPO F1S (Grey, 32 GB)', 'OPPO A71k (New Edition) (Blue, 16 GB)',\n",
       "       'OPPO A3s (Purple, 32 GB)', 'OPPO F3 (Rose Gold, 64 GB)',\n",
       "       'OPPO A5 (Diamond Red, 32 GB)',\n",
       "       'OPPO A83 (2018 Edition) (Red, 64 GB)',\n",
       "       'OPPO F9 (Stellar Purple, 64 GB)', 'OPPO A3s (Purple, 64 GB)',\n",
       "       'OPPO Reno 10x Zoom (Jet Black, 256 GB)',\n",
       "       'OPPO Reno 10x Zoom (Jet Black, 128 GB)'], dtype=object)"
      ]
     },
     "execution_count": 6,
     "metadata": {},
     "output_type": "execute_result"
    }
   ],
   "source": [
    "df['mobile_name'].unique()"
   ]
  },
  {
   "cell_type": "code",
   "execution_count": 7,
   "id": "402a7a48",
   "metadata": {},
   "outputs": [
    {
     "data": {
      "text/plain": [
       "array(['₹8,999', '₹9,999', '₹11,999', '₹14,999', '₹16,999', '₹13,999',\n",
       "       '₹35,999', '₹31,999', '₹15,490', '₹41,999', '₹46,999', '₹19,999',\n",
       "       '₹6,999', '₹7,499', '₹17,999', '₹10,999', '₹29,999', '₹36,999',\n",
       "       '₹20,999', '₹6,499', '₹25,999', '₹24,999', '₹27,999', '₹32,999',\n",
       "       '₹8,499', '₹9,499', '₹10,499', '₹9,799', '₹16,939', '₹17,350',\n",
       "       '₹21,999', '₹13,495', '₹15,990', '₹55,799', '₹51,800', '₹16,899',\n",
       "       '₹12,999', '₹16,998', '₹7,399', '₹11,199', '₹13,261', '₹10,978',\n",
       "       '₹11,280', '₹10,100', '₹7,450', '₹55,400', '₹6,700', '₹6,699',\n",
       "       '₹7,999', '₹8,369', '₹8,090', '₹8,498', '₹9,990', '₹11,349',\n",
       "       '₹14,800', '₹13,990', '₹8,689', '₹11,599', '₹9,900', '₹10,990',\n",
       "       '₹10,849', '₹16,990', '₹18,990', '₹12,990', '₹19,990', '₹8,990',\n",
       "       '₹11,982', '₹17,990', '₹8,705', '₹8,949', '₹16,375', '₹31,990',\n",
       "       '₹27,990', '₹24,990', '₹11,990', '₹9,199', '₹22,399', '₹21,099',\n",
       "       '₹29,499', '₹11,490', '₹28,499', '₹28,990', '₹29,990', '₹15,500',\n",
       "       '₹14,990', '₹18,900', '₹24,000', '₹8,900', '₹11,500', '₹10,900',\n",
       "       '₹12,000', '₹22,325', '₹13,995', '₹13,529', '₹8,998', '₹14,914',\n",
       "       '₹14,538', '₹17,490', '₹16,499', '₹18,499', '₹15,999', '₹6,299',\n",
       "       '₹19,900', '₹47,999', '₹6,000', '₹20,995', '₹11,995', '₹10,995',\n",
       "       '₹11,499', '₹7,699', '₹7,599', '₹9,599', '₹18,999', '₹22,999',\n",
       "       '₹21,499', '₹17,499', '₹12,490', '₹15,899', '₹41,990', '₹38,990',\n",
       "       '₹60,990', '₹14,499', '₹13,744', '₹9,490', '₹18,989', '₹19,038',\n",
       "       '₹8,490', '₹19,600', '₹21,150', '₹17,500', '₹14,495', '₹9,500',\n",
       "       '₹31,590', '₹13,490', '₹22,990', '₹18,000', '₹13,500', '₹17,000',\n",
       "       '₹15,000'], dtype=object)"
      ]
     },
     "execution_count": 7,
     "metadata": {},
     "output_type": "execute_result"
    }
   ],
   "source": [
    "df['mobile_price'].unique()"
   ]
  },
  {
   "cell_type": "code",
   "execution_count": 8,
   "id": "109de3bd",
   "metadata": {},
   "outputs": [],
   "source": [
    "df['mobile_price']=df['mobile_price'].str.replace('₹','')\n",
    "df['mobile_price']=df['mobile_price'].str.replace(',','')\n",
    "df['mobile_price']=df['mobile_price'].astype('int32')"
   ]
  },
  {
   "cell_type": "code",
   "execution_count": 9,
   "id": "9abe870d",
   "metadata": {},
   "outputs": [
    {
     "name": "stdout",
     "output_type": "stream",
     "text": [
      "165\n"
     ]
    },
    {
     "data": {
      "text/plain": [
       "array(['So White', 'So Blue', 'That Green', 'That White', 'Crystal Green',\n",
       "       'Sparkling Blue', 'Lunar White', 'Neptune Blue', 'Black Sea',\n",
       "       'Pearl Blue', 'Pearl White', 'Rust Red', 'Moss Green',\n",
       "       'Frozen Blue', 'Comet White', 'Lightning Orange', 'Lightning Blue',\n",
       "       'Diamond Black', 'Diamond Blue', 'Diamond Ruby', 'Comet Blue',\n",
       "       'Diamond Sapphire', 'Crystal Red', 'Crystal Blue',\n",
       "       'Crystal Purple', 'Red Brick', 'Concrete', 'Pearl Green',\n",
       "       'That Blue', 'Glacier Blue', 'Arctic White', 'Dynamic Black',\n",
       "       'Diamond Red', 'Radiant Blue', 'Black', 'Sapphire Blue',\n",
       "       'Onyx Black', 'Flame Red', 'Aurora Blue', 'Carbon Black',\n",
       "       'More Than White', 'Space Black', 'Not just Blue', 'Kind of Grey',\n",
       "       'Nebula Red', 'Gold', 'Rose Gold', 'Red', 'Twilight Grey',\n",
       "       'Coral Green', 'Lake Blue', 'Metallic Grey', 'Emerald Green',\n",
       "       'Ruby Red', 'Interstellar Black', 'Sea Blue', 'Midnight Grey',\n",
       "       'Moonlight White', 'Sky White', 'Glacier White',\n",
       "       'Astro Moonlight White', 'Sunset Red', 'Blue/Lake Blue', 'Blue',\n",
       "       'Matte Black', 'Matte Gold', 'Elegant Blue', 'Prime Black', 'Grey',\n",
       "       'Dark Grey', 'Burgundy Red', 'Thunder Black', 'Mineral Blue',\n",
       "       'Fusion Blue', 'Phantom Purple', 'Agate Red', 'Mystic Black',\n",
       "       'Jazzy Blue', 'Dreamy White', 'Fusion Black', 'Ocean Blue',\n",
       "       'Iris Blue', 'Sonic Black', 'Sonic Blue', 'Magnetic Black',\n",
       "       'Mystic Silver', 'Piano Black', 'Glacier ice white',\n",
       "       'Midnight Ocean Black', 'Electric Blue', 'Skyline Blue',\n",
       "       'Topaz Blue', 'Mystic Purple', 'Glacier Ice White',\n",
       "       'Starry Night Black', 'Frozen Black', 'Starry Black',\n",
       "       'Energetic Blue', 'Nebula Purple', 'White', 'Midnight Blue',\n",
       "       'Raven Black', 'Prism Blue', 'Prism Black', 'Metallic gold',\n",
       "       'Violet', 'Ocean Wave', 'Charcoal Blue', 'Forest Green',\n",
       "       'Bordeaux Red', 'Tradew Gray', 'Milan Black', 'Ice Blue',\n",
       "       'Berlin Gray', 'Midnight Black', 'Mocha Brown', 'Aqua Blue',\n",
       "       'Sandstone Black', 'Blush Gold', 'Quetzal Cyan',\n",
       "       'Bronze Gold Black', 'Nebula Blue', 'Twilight Purple',\n",
       "       'Space Gray', 'Steel Blue', 'Graphite Black', 'Armoured Edition',\n",
       "       'Rosso Red', 'Matrix Purple', 'Atlantis Blue', 'Phoenix Red',\n",
       "       'Green and Greener', 'Out of the Blue', 'Two Shades of Black',\n",
       "       'Fantasy White', 'Mystery Black', 'Marine Green', 'Unicorn White',\n",
       "       'Blazing Blue', 'Twilight Black', 'Stream White', 'Deep Blue',\n",
       "       'Flowing Silver', 'Green', 'Space Purple', 'Lightening Black',\n",
       "       'Auroral Blue', 'Ocean Green', 'Luminous Black', 'Champagne',\n",
       "       'Vanilla Mint', 'Sunrise Red', 'Astral Blue', 'Marble Green',\n",
       "       'Glaring Gold', 'Twilight Blue', 'Starry Purple', 'Glaze Blue',\n",
       "       'Purple', 'Waterfall Grey', 'Radiant Mist', 'Fluorite Purple',\n",
       "       'Jewelry White', 'Stellar Purple', 'Jet Black'], dtype=object)"
      ]
     },
     "execution_count": 9,
     "metadata": {},
     "output_type": "execute_result"
    }
   ],
   "source": [
    "print(df['mobile_color'].nunique())\n",
    "df['mobile_color'].unique()"
   ]
  },
  {
   "cell_type": "code",
   "execution_count": 10,
   "id": "c118d10e",
   "metadata": {},
   "outputs": [
    {
     "name": "stdout",
     "output_type": "stream",
     "text": [
      "Count of various whites 19\n",
      "Count of various blues 45\n",
      "Count of various greens 12\n",
      "Count of various blacks 33\n",
      "Count of various reds 16\n",
      "Count of various grays 10\n",
      "Count of various purples 11\n",
      "Count of various golds 7\n",
      "13\n"
     ]
    },
    {
     "data": {
      "text/plain": [
       "array(['White', 'Blue', 'Green', 'Black', 'Red', 'Orange', 'Violet',\n",
       "       'Purple', 'Gray', 'Gold', 'Silver', 'Brown', 'Cyan'], dtype=object)"
      ]
     },
     "execution_count": 10,
     "metadata": {},
     "output_type": "execute_result"
    }
   ],
   "source": [
    "diff_white=list(df['mobile_color'][(df['mobile_color'].str.contains('white')) |(df['mobile_color'].str.contains('White')) ].unique())\n",
    "print('Count of various whites',len(diff_white))\n",
    "\n",
    "diff_blue=list(df['mobile_color'][(df['mobile_color'].str.contains('blue')) |(df['mobile_color'].str.contains('Blue')) ].unique())\n",
    "print('Count of various blues',len(diff_blue))\n",
    "\n",
    "diff_green=list(df['mobile_color'][(df['mobile_color'].str.contains('green')) |(df['mobile_color'].str.contains('Green')) ].unique())\n",
    "print('Count of various greens',len(diff_green))\n",
    "\n",
    "diff_black=list(df['mobile_color'][(df['mobile_color'].str.contains('black')) |(df['mobile_color'].str.contains('Black')) ].unique())\n",
    "print('Count of various blacks',len(diff_black))\n",
    "\n",
    "diff_red=list(df['mobile_color'][(df['mobile_color'].str.contains('red')) |(df['mobile_color'].str.contains('Red')) ].unique())\n",
    "print('Count of various reds',len(diff_red))\n",
    "\n",
    "list(df['mobile_color'][(df['mobile_color'].str.contains('orange')) |(df['mobile_color'].str.contains('Orange')) ].unique())\n",
    "\n",
    "df[df['mobile_color']=='Diamond Ruby'] #it looks like red , merging them into red category\n",
    "\n",
    "list(df['mobile_color'][(df['mobile_color'].str.contains('ruby')) |(df['mobile_color'].str.contains('Ruby')) ].unique())\n",
    "\n",
    "df[df['mobile_color']=='Diamond Sapphire'] #looking like violet/purple\n",
    "\n",
    "gray_1=list(df['mobile_color'][(df['mobile_color'].str.contains('gray'))|(df['mobile_color'].str.contains('Gray')) ].unique())\n",
    "gray_2=list(df['mobile_color'][(df['mobile_color'].str.contains('grey'))|(df['mobile_color'].str.contains('Grey')) ].unique())\n",
    "diff_gray=gray_1+gray_2\n",
    "print('Count of various grays',len(diff_gray))\n",
    "\n",
    "df[df['mobile_color'].str.contains('Mint')]  # looks like white\n",
    "\n",
    "diff_purple=list(df['mobile_color'][(df['mobile_color'].str.contains('purple')) |(df['mobile_color'].str.contains('Purple')) ].unique())\n",
    "print('Count of various purples',len(diff_purple))\n",
    "\n",
    "df[df['mobile_color']=='Concrete'] #looks like grey\n",
    "\n",
    "diff_gold=list(df['mobile_color'][(df['mobile_color'].str.contains('gold')) |(df['mobile_color'].str.contains('Gold')) ].unique())\n",
    "print('Count of various golds',len(diff_gold))\n",
    "\n",
    "list(df['mobile_color'][(df['mobile_color'].str.contains('Violet')) |(df['mobile_color'].str.contains('violet')) ].unique())\n",
    "\n",
    "list(df['mobile_color'][(df['mobile_color'].str.contains('brown')) |(df['mobile_color'].str.contains('Brown')) ].unique())\n",
    "\n",
    "df['mobile_color']=df['mobile_color'].replace(diff_black,'Black')\n",
    "df['mobile_color']=df['mobile_color'].replace(diff_white,'White')\n",
    "df['mobile_color']=df['mobile_color'].replace(diff_blue,'Blue')\n",
    "df['mobile_color']=df['mobile_color'].replace(diff_green,'Green')\n",
    "df['mobile_color']=df['mobile_color'].replace(diff_gold,'Gold')\n",
    "df['mobile_color']=df['mobile_color'].replace(diff_purple,'Purple')\n",
    "df['mobile_color']=df['mobile_color'].replace(diff_red,'Red')\n",
    "\n",
    "df['mobile_color']=df['mobile_color'].replace(diff_gray,'Gray')\n",
    "\n",
    "df[df['mobile_color']=='Ocean Wave'] #looks like green\n",
    "df['mobile_color']=df['mobile_color'].replace('Ocean Wave','Green')\n",
    "\n",
    "df[df['mobile_color']=='Champagne']# gold\n",
    "df['mobile_color']=df['mobile_color'].replace('Champagne','Gold')\n",
    "\n",
    "df[df['mobile_color']=='Radiant Mist'] #blue\n",
    "df['mobile_color']=df['mobile_color'].replace('Radiant Mist','Blue')\n",
    "\n",
    "df['mobile_color']=df['mobile_color'].replace('Lightning Orange','Orange')\n",
    "df['mobile_color']=df['mobile_color'].replace('Diamond Ruby','Red')\n",
    "df['mobile_color']=df['mobile_color'].replace('Diamond Sapphire','Violet')\n",
    "df['mobile_color']=df['mobile_color'].replace('Concrete','Gray')\n",
    "df['mobile_color']=df['mobile_color'].replace(['Mystic Silver','Flowing Silver'],'Silver')\n",
    "df['mobile_color']=df['mobile_color'].replace('Lightning Orange','Orange')\n",
    "df['mobile_color']=df['mobile_color'].replace('Vanilla Mint','White')\n",
    "df['mobile_color']=df['mobile_color'].replace('Quetzal Cyan','Cyan')\n",
    "df['mobile_color']=df['mobile_color'].replace('Mocha Brown','Brown')\n",
    "\n",
    "print(df['mobile_color'].nunique())\n",
    "df['mobile_color'].unique()"
   ]
  },
  {
   "cell_type": "markdown",
   "id": "308cb7a0",
   "metadata": {},
   "source": [
    "## Unique Color count reduced from 165 to 13"
   ]
  },
  {
   "cell_type": "code",
   "execution_count": 11,
   "id": "c24cd6e8",
   "metadata": {},
   "outputs": [
    {
     "data": {
      "text/plain": [
       "array(['Dual Sim', 'Single Sim'], dtype=object)"
      ]
     },
     "execution_count": 11,
     "metadata": {},
     "output_type": "execute_result"
    }
   ],
   "source": [
    "df['dual_sim'].unique()"
   ]
  },
  {
   "cell_type": "code",
   "execution_count": 12,
   "id": "64f353f5",
   "metadata": {},
   "outputs": [],
   "source": [
    "df['dual_sim']=df['dual_sim'].replace({'Dual Sim':2,'Single Sim':1})\n",
    "df.rename(columns={'dual_sim':'Sims'},inplace=True)"
   ]
  },
  {
   "cell_type": "code",
   "execution_count": 13,
   "id": "4d2ecfd3",
   "metadata": {},
   "outputs": [
    {
     "name": "stdout",
     "output_type": "stream",
     "text": [
      "363\n"
     ]
    },
    {
     "data": {
      "text/plain": [
       "array(['Realme Narzo 10A (So White, 32 GB)',\n",
       "       'Realme Narzo 10A (So Blue, 32 GB)',\n",
       "       'Realme Narzo 10A (So Blue, 64 GB)',\n",
       "       'Realme Narzo 10A (So White, 64 GB)',\n",
       "       'Realme Narzo 10 (That Green, 128 GB)',\n",
       "       'Realme Narzo 10 (That White, 128 GB)',\n",
       "       'Realme 5 Pro (Crystal Green, 64 GB)',\n",
       "       'Realme 5 Pro (Crystal Green, 128 GB)',\n",
       "       'Realme 5 Pro (Sparkling Blue, 128 GB)',\n",
       "       'Realme 5 Pro (Sparkling Blue, 64 GB)',\n",
       "       'Realme X2 Pro (Lunar White, 256 GB)',\n",
       "       'Realme X2 Pro (Neptune Blue, 256 GB)',\n",
       "       'Realme X2 Pro (Neptune Blue, 128 GB)',\n",
       "       'Realme X2 Pro (Lunar White, 128 GB)',\n",
       "       'Realme 2 Pro (Black Sea, 128 GB)',\n",
       "       'Realme XT (Pearl Blue, 64 GB)', 'Realme XT (Pearl White, 64 GB)',\n",
       "       'Realme X50 Pro (Rust Red, 128 GB)',\n",
       "       'Realme X50 Pro (Moss Green, 128 GB)',\n",
       "       'Realme X50 Pro (Moss Green, 256 GB)',\n",
       "       'Realme C3 (Frozen Blue, 32 GB)', 'Realme 6 (Comet White, 128 GB)',\n",
       "       'Realme 6 Pro (Lightning Orange, 128 GB)',\n",
       "       'Realme 6 Pro (Lightning Blue, 128 GB)',\n",
       "       'Realme C2 (Diamond Black, 32 GB)',\n",
       "       'Realme C2 (Diamond Blue, 32 GB)',\n",
       "       'Realme C2 (Diamond Ruby, 32 GB)', 'Realme 6 (Comet Blue, 128 GB)',\n",
       "       'Realme C2 (Diamond Sapphire, 32 GB)',\n",
       "       'Realme 5s (Crystal Red, 128 GB)',\n",
       "       'Realme 5s (Crystal Blue, 64 GB)',\n",
       "       'Realme 5s (Crystal Purple, 128 GB)',\n",
       "       'Realme 5s (Crystal Red, 64 GB)',\n",
       "       'Realme 5s (Crystal Blue, 128 GB)',\n",
       "       'Realme 5s (Crystal Purple, 64 GB)',\n",
       "       'Realme X2 Pro (Neptune Blue, 64 GB)',\n",
       "       'Realme X2 Pro (Lunar White, 64 GB)',\n",
       "       'Realme X2 Pro (Red Brick, 256 GB)',\n",
       "       'Realme X2 Pro (Concrete, 256 GB)',\n",
       "       'Realme X2 (Pearl White, 128 GB)',\n",
       "       'Realme X2 (Pearl Green, 128 GB)', 'Realme X2 (Pearl Blue, 64 GB)',\n",
       "       'Realme X2 (Pearl Green, 64 GB)', 'Realme X2 (Pearl Blue, 128 GB)',\n",
       "       'Realme C2 (Diamond Blue, 16 GB)',\n",
       "       'Realme Narzo 10 (That Blue, 128 GB)',\n",
       "       'Realme X3 (Glacier Blue, 128 GB)',\n",
       "       'Realme X3 (Arctic White, 128 GB)',\n",
       "       'Realme X3 SuperZoom (Glacier Blue, 128 GB)',\n",
       "       'Realme X3 SuperZoom (Glacier Blue, 256 GB)',\n",
       "       'Realme X3 SuperZoom (Arctic White, 256 GB)',\n",
       "       'Realme X3 SuperZoom (Arctic White, 128 GB)',\n",
       "       'Realme 3 (Dynamic Black, 32 GB)', 'Realme 3 (Diamond Red, 64 GB)',\n",
       "       'Realme 3 (Radiant Blue, 64 GB)',\n",
       "       'Realme 3 (Dynamic Black, 64 GB)', 'Realme 3 (Diamond Red, 32 GB)',\n",
       "       'Realme 3 (Black, 64 GB)', 'Redmi 8 (Sapphire Blue, 64 GB)',\n",
       "       'Redmi 8 (Onyx Black, 64 GB)', 'Redmi K20 Pro (Flame Red, 128 GB)',\n",
       "       'Redmi Note 9 Pro (Aurora Blue, 64 GB)',\n",
       "       'Redmi K20 Pro (Carbon Black, 128 GB)',\n",
       "       'Mi A3 (More Than White, 128 GB)',\n",
       "       'Redmi K20 Pro (Glacier Blue, 128 GB)',\n",
       "       'Redmi Note 7 Pro (Space Black, 128 GB)',\n",
       "       'Mi A3 (Not just Blue, 128 GB)', 'Mi Mix 2 (Black, 128 GB)',\n",
       "       'Redmi K20 Pro (Pearl White, 128 GB)',\n",
       "       'Mi A3 (Kind of Grey, 128 GB)',\n",
       "       'Redmi K20 Pro (Carbon Black, 256 GB)',\n",
       "       'Redmi Note 7 Pro (Nebula Red, 128 GB)',\n",
       "       'Redmi K20 (Carbon Black, 64 GB)', 'Redmi Y2 (Gold, 64 GB)',\n",
       "       'Redmi K20 Pro (Pearl White, 256 GB)',\n",
       "       'Redmi K20 (Glacier Blue, 128 GB)',\n",
       "       'Redmi Note 6 Pro (Rose Gold, 64 GB)', 'Mi A2 (Red, 64 GB)',\n",
       "       'Mi 10 (Twilight Grey, 256 GB)', 'Mi 10 (Coral Green, 128 GB)',\n",
       "       'Redmi K20 (Flame Red, 128 GB)', 'Mi A2 (Red, 128 GB)',\n",
       "       'Mi A2 (Gold, 128 GB)', 'Redmi K20 (Carbon Black, 128 GB)',\n",
       "       'Mi A2 (Lake Blue, 128 GB)', 'Redmi Note 5 Pro (Red, 64 GB)',\n",
       "       'Redmi K20 (Pearl White, 128 GB)', 'MI3 (Metallic Grey, 16 GB)',\n",
       "       'Redmi 8 (Emerald Green, 64 GB)', 'Redmi 8 (Ruby Red, 64 GB)',\n",
       "       'Mi A3 (Kind of Grey, 64 GB)',\n",
       "       'Redmi Note 9 Pro (Interstellar Black, 128 GB)',\n",
       "       'Redmi Note 9 Pro (Aurora Blue, 128 GB)',\n",
       "       'Redmi 8A Dual (Sea Blue, 32 GB)',\n",
       "       'Redmi 8A Dual (Midnight Grey, 32 GB)',\n",
       "       'Redmi Note 8 (Moonlight White, 64 GB)',\n",
       "       'Redmi Note 8 (Neptune Blue, 128 GB)',\n",
       "       'Redmi Note 8 (Neptune Blue, 32 GB)',\n",
       "       'Mi A3 (Not just Blue, 64 GB)', 'Mi A3 (More Than White, 64 GB)',\n",
       "       'Redmi Note 8 (Neptune Blue, 64 GB)',\n",
       "       'Redmi Note 8 (Space Black, 64 GB)',\n",
       "       'Redmi 8A Dual (Sky White, 32 GB)',\n",
       "       'Redmi Note 7 Pro (Space Black, 64 GB)',\n",
       "       'Redmi K20 Pro (Flame Red, 256 GB)',\n",
       "       'Redmi Note 9 Pro (Glacier White, 64 GB)',\n",
       "       'Redmi Note 9 Pro (Interstellar Black, 64 GB)',\n",
       "       'Redmi Note 6 Pro (Black, 64 GB)', 'Redmi Note 6 Pro (Red, 64 GB)',\n",
       "       'Redmi Note 4 (Black, 64 GB)', 'Redmi K20 (Glacier Blue, 64 GB)',\n",
       "       'Redmi Note 5 Pro (Gold, 64 GB)',\n",
       "       'Redmi Note 7 Pro (Astro Moonlight White, 128 GB)',\n",
       "       'Redmi Note 9 Pro Max (Interstellar Black, 128 GB)',\n",
       "       'Redmi Note 9 Pro Max (Glacier White, 128 GB)',\n",
       "       'Redmi 8A (Sunset Red, 32 GB)', 'Mi 10 (Coral Green, 256 GB)',\n",
       "       'Redmi Note 5 Pro (Black, 64 GB)',\n",
       "       'Redmi Note 5 Pro (Rose Gold, 64 GB)',\n",
       "       'Mi A2 (Blue/Lake Blue, 64 GB)', 'Redmi Go (Blue, 16 GB)',\n",
       "       'Redmi Note 7S (Sapphire Blue, 32 GB)',\n",
       "       'Redmi Y2 (Rose Gold, 64 GB)', 'Redmi 7A (Matte Black, 32 GB)',\n",
       "       'Redmi Note 7S (Onyx Black, 64 GB)', 'Redmi Y2 (Blue, 32 GB)',\n",
       "       'Redmi Y2 (Black, 64 GB)', 'Redmi Note 7 (Onyx Black, 32 GB)',\n",
       "       'Redmi 7A (Matte Black, 16 GB)', 'Redmi 6 (Rose Gold, 32 GB)',\n",
       "       'Redmi Note 7 (Ruby Red, 32 GB)',\n",
       "       'Redmi Note 7S (Ruby Red, 64 GB)', 'Redmi 7A (Matte Gold, 16 GB)',\n",
       "       'Redmi Note 5 Pro (Blue, 64 GB)', 'Redmi Y3 (Elegant Blue, 32 GB)',\n",
       "       'Redmi Y3 (Prime Black, 32 GB)',\n",
       "       'Redmi Note 7 (Sapphire Blue, 32 GB)',\n",
       "       'Redmi K20 (Flame Red, 64 GB)',\n",
       "       'Redmi Note 7S (Astro Moonlight White, 32 GB)',\n",
       "       'Redmi Note 4 (Gold, 64 GB)', 'Redmi 8A Dual (Sky White, 64 GB)',\n",
       "       'Redmi 8A Dual (Sea Blue, 64 GB)',\n",
       "       'Redmi Note 7 Pro (Neptune Blue, 128 GB)',\n",
       "       'Redmi 8A Dual (Midnight Grey, 64 GB)',\n",
       "       'Redmi Note 9 Pro (Glacier White, 128 GB)',\n",
       "       'Redmi Note 7 (Sapphire Blue, 64 GB)', 'Mi A2 (Rose Gold, 64 GB)',\n",
       "       'Redmi 7A (Matte Gold, 32 GB)', 'Redmi Y2 (Rose Gold, 32 GB)',\n",
       "       'Redmi Y1 (Grey, 64 GB)', 'Redmi Y2 (Dark Grey, 32 GB)',\n",
       "       'Vivo Y12 (Burgundy Red, 64 GB)',\n",
       "       'Vivo U10 (Thunder Black, 32 GB)',\n",
       "       'Vivo Y11 (Mineral Blue, 32 GB)', 'Vivo Z1x (Fusion Blue, 64 GB)',\n",
       "       'Vivo Z1x (Phantom Purple, 64 GB)',\n",
       "       'Vivo Z1x (Fusion Blue, 128 GB)',\n",
       "       'Vivo Z1x (Phantom Purple, 128 GB)',\n",
       "       'Vivo Y15 (Burgundy Red, 64 GB)', 'Vivo Y11 (Agate Red, 32 GB)',\n",
       "       'Vivo S1 Pro (Mystic Black, 128 GB)',\n",
       "       'Vivo S1 Pro (Jazzy Blue, 128 GB)',\n",
       "       'Vivo S1 Pro (Dreamy White, 128 GB)',\n",
       "       'Vivo Y91i (Fusion Black, 32 GB)', 'Vivo Y91i (Ocean Blue, 32 GB)',\n",
       "       'Vivo Y50 (Pearl White, 128 GB)', 'Vivo Y50 (Iris Blue, 128 GB)',\n",
       "       'Vivo Z1Pro (Sonic Black, 128 GB)',\n",
       "       'Vivo Z1Pro (Sonic Black, 64 GB)',\n",
       "       'Vivo Z1Pro (Sonic Blue, 128 GB)',\n",
       "       'Vivo Y19 (Magnetic Black, 128 GB)',\n",
       "       'Vivo V19 (Mystic Silver, 256 GB)',\n",
       "       'Vivo V19 (Mystic Silver, 128 GB)',\n",
       "       'Vivo V19 (Piano Black, 128 GB)', 'Vivo V19 (Piano Black, 256 GB)',\n",
       "       'Vivo V17 (Glacier ice white, 128 GB)',\n",
       "       'Vivo V17 (Midnight Ocean Black, 128 GB)',\n",
       "       'Vivo U10 (Electric Blue, 64 GB)', 'Vivo S1 (Skyline Blue, 64 GB)',\n",
       "       'Vivo S1 (Skyline Blue, 128 GB)',\n",
       "       'Vivo S1 (Diamond Black, 128 GB)',\n",
       "       'Vivo Y91i (Fusion Black, 16 GB)',\n",
       "       'Vivo V15 Pro (Topaz Blue, 128 GB)',\n",
       "       'Vivo Y17 (Mystic Purple, 128 GB)',\n",
       "       'Vivo V15 Pro (Ruby Red, 128 GB)',\n",
       "       'Vivo V17Pro (Midnight Ocean Black, 128 GB)',\n",
       "       'Vivo V17Pro (Glacier Ice White, 128 GB)',\n",
       "       'Vivo U10 (Thunder Black, 64 GB)',\n",
       "       'Vivo V11 Pro (Starry Night Black, 64 GB)',\n",
       "       'Vivo NEX (Black, 128 GB)', 'Vivo Y81 (Black, 32 GB)',\n",
       "       'Vivo V9 Youth (Black, 32 GB)', 'Vivo V15 (Frozen Black, 64 GB)',\n",
       "       'Vivo Y93 (Starry Black, 32 GB)', 'Vivo Y93 (Starry Black, 64 GB)',\n",
       "       'Vivo Y91 (Ocean Blue, 32 GB)', 'Vivo V7 (Matte Black, 32 GB)',\n",
       "       'Vivo V7 (Energetic Blue, 32 GB)', 'Vivo Y83 (Gold, 32 GB)',\n",
       "       'Vivo V9 (Gold, 64 GB)', 'Vivo Y71i (Matte Black, 16 GB)',\n",
       "       'Vivo Y93 (Nebula Purple, 32 GB)',\n",
       "       'Vivo U10 (Electric Blue, 32 GB)',\n",
       "       'Vivo Z1Pro (Sonic Blue, 64 GB)', 'Vivo V9 Pro (Black, 64 GB)',\n",
       "       'Vivo V9 Pro (Nebula Purple, 64 GB)', 'Vivo Y81 (Gold, 32 GB)',\n",
       "       'Vivo V9 Youth (Gold, 32 GB)', 'Vivo Y91 (Starry Black, 32 GB)',\n",
       "       'Vivo Y71 (Gold, 16 GB)', 'Vivo Y71 (Matte Black, 32 GB)',\n",
       "       'Vivo V7+ (Energetic Blue, 64 GB)',\n",
       "       'Vivo Y55S (Matte Black, 16 GB)', 'Vivo Y55S (Grey, 16 GB)',\n",
       "       'Vivo Y81i (Gold, 16 GB)', 'Vivo Y71 (Matte Black, 16 GB)',\n",
       "       'Vivo Y71 (Gold, 32 GB)', 'Vivo Y91i (Black, 32 GB)',\n",
       "       'Vivo Y69 (Gold, 32 GB)', 'Samsung Galaxy M30S (Blue, 128 GB)',\n",
       "       'Samsung Galaxy A21s (Blue, 64 GB)',\n",
       "       'Samsung Galaxy A21s (Black, 64 GB)',\n",
       "       'Samsung Galaxy A21s (White, 64 GB)',\n",
       "       'Samsung Galaxy M21 (Midnight Blue, 64 GB)',\n",
       "       'Samsung Galaxy M21 (Raven Black, 64 GB)',\n",
       "       'Samsung Galaxy J2 Core (Black, 16 GB)',\n",
       "       'Samsung Galaxy M31 (Ocean Blue, 128 GB)',\n",
       "       'Samsung Galaxy S10 Lite (Prism Blue, 512 GB)',\n",
       "       'Samsung Galaxy S10 Lite (Prism Black, 512 GB)',\n",
       "       'Samsung Galaxy J2-2017 (Metallic gold, 8 GB)',\n",
       "       'Samsung Galaxy J7 Pro (Black, 64 GB)',\n",
       "       'Samsung Galaxy J7 Nxt (Black, 16 GB)',\n",
       "       'Samsung Galaxy J7 Nxt (Gold, 16 GB)',\n",
       "       'Infinix Hot 9 Pro (Violet, 64 GB)',\n",
       "       'Infinix Hot 9 Pro (Ocean Wave, 64 GB)',\n",
       "       'Infinix Hot 9 (Violet, 64 GB)',\n",
       "       'Infinix Hot 9 (Ocean Wave, 64 GB)',\n",
       "       'Infinix Note 5 Stylus (Charcoal Blue, 64 GB)',\n",
       "       'Infinix S5 Pro (Forest Green, 64 GB)',\n",
       "       'Infinix S5 Pro (Violet, 64 GB)',\n",
       "       'Infinix Note 5 Stylus (Bordeaux Red, 64 GB)',\n",
       "       'Infinix Hot S3X (Tradew Gray, 32 GB)',\n",
       "       'Infinix Hot S3X (Milan Black, 32 GB)',\n",
       "       'Infinix Note 5 (Ice Blue, 64 GB)',\n",
       "       'Infinix Note 5 (Berlin Gray, 64 GB)',\n",
       "       'Infinix Hot 7 (Midnight Black, 64 GB)',\n",
       "       'Infinix Hot 7 (Mocha Brown, 64 GB)',\n",
       "       'Infinix Hot 7 (Aqua Blue, 64 GB)',\n",
       "       'Infinix Note 5 (Berlin Gray, 32 GB)',\n",
       "       'Infinix Hot S3 (Topaz Blue, 64 GB)',\n",
       "       'Infinix Hot S3 (Sandstone Black, 64 GB)',\n",
       "       'Infinix Hot S3 (Blush Gold, 64 GB)',\n",
       "       'Infinix S5 Lite (Violet, 64 GB)',\n",
       "       'Infinix S5 Lite (Quetzal Cyan, 64 GB)',\n",
       "       'Infinix S5 Lite (Midnight Black, 64 GB)',\n",
       "       'Infinix Note 5 (Milan Black, 32 GB)',\n",
       "       'Infinix Zero 5 Pro (Bronze Gold Black, 128 GB)',\n",
       "       'Infinix S4 (Nebula Blue, 32 GB)',\n",
       "       'Infinix S4 (Twilight Purple, 32 GB)',\n",
       "       'Infinix S4 (Space Gray, 32 GB)',\n",
       "       'Infinix S5 (Quetzal Cyan, 64 GB)', 'Infinix S5 (Violet, 64 GB)',\n",
       "       'Infinix Hot S3 (Blush Gold, 32 GB)',\n",
       "       'Infinix Hot S3 (Sandstone Black, 32 GB)',\n",
       "       'Infinix Hot S3 (Topaz Blue, 32 GB)',\n",
       "       'Infinix Hot S3 (Bordeaux Red, 32 GB)',\n",
       "       'Infinix Note 5 (Milan Black, 64 GB)',\n",
       "       'Infinix Zero 5 (Sandstone Black, 64 GB)',\n",
       "       'Infinix Zero 5 (Bordeaux Red, 64 GB)',\n",
       "       'POCO F1 (Steel Blue, 128 GB)', 'POCO F1 (Steel Blue, 256 GB)',\n",
       "       'POCO F1 (Graphite Black, 256 GB)',\n",
       "       'POCO F1 (Armoured Edition, 256 GB)', 'POCO F1 (Rosso Red, 64 GB)',\n",
       "       'POCO X2 (Matrix Purple, 256 GB)',\n",
       "       'POCO X2 (Matrix Purple, 64 GB)', 'POCO X2 (Atlantis Blue, 64 GB)',\n",
       "       'POCO X2 (Phoenix Red, 128 GB)', 'POCO X2 (Atlantis Blue, 128 GB)',\n",
       "       'POCO X2 (Atlantis Blue, 256 GB)', 'POCO X2 (Phoenix Red, 256 GB)',\n",
       "       'POCO X2 (Phoenix Red, 64 GB)',\n",
       "       'POCO X2 Special Edition (Matrix Purple, 128 GB)',\n",
       "       'POCO F1 (Rosso Red, 128 GB)', 'POCO F1 (Graphite Black, 128 GB)',\n",
       "       'POCO F1 (Rosso Red, 256 GB)',\n",
       "       'POCO F1 (Armoured Edition, 128 GB)',\n",
       "       'POCO X2 Special Edition (Atlantis Blue, 128 GB)',\n",
       "       'POCO X2 Special Edition (Phoenix Red, 128 GB)',\n",
       "       'POCO F1 (Steel Blue, 64 GB)', 'POCO F1 (Graphite Black, 64 GB)',\n",
       "       'POCO M2 Pro (Green and Greener, 64 GB)',\n",
       "       'POCO M2 Pro (Green and Greener, 128 GB)',\n",
       "       'POCO M2 Pro (Out of the Blue, 128 GB)',\n",
       "       'POCO M2 Pro (Two Shades of Black, 128 GB)',\n",
       "       'POCO M2 Pro (Two Shades of Black, 64 GB)',\n",
       "       'POCO M2 Pro (Out of the Blue, 64 GB)',\n",
       "       'OPPO A31 (Fantasy White, 64 GB)',\n",
       "       'OPPO A31 (Fantasy White, 128 GB)',\n",
       "       'OPPO A31 (Mystery Black, 128 GB)',\n",
       "       'OPPO A31 (Mystery Black, 64 GB)',\n",
       "       'OPPO A9 2020 (Marine Green, 128 GB)', 'OPPO A12 (Black, 32 GB)',\n",
       "       'OPPO A12 (Blue, 32 GB)', 'OPPO A5s (Blue, 32 GB)',\n",
       "       'OPPO F15 (Unicorn White, 128 GB)',\n",
       "       'OPPO F15 (Blazing Blue, 128 GB)',\n",
       "       'OPPO A52 (Twilight Black, 128 GB)',\n",
       "       'OPPO A52 (Stream White, 128 GB)', 'OPPO A11K (Deep Blue, 32 GB)',\n",
       "       'OPPO A11K (Flowing Silver, 32 GB)', 'OPPO A5s (Green, 64 GB)',\n",
       "       'OPPO A9 2020 (Space Purple, 128 GB)',\n",
       "       'OPPO F15 (Lightening Black, 128 GB)', 'OPPO A5s (Gold, 64 GB)',\n",
       "       'OPPO Reno3 Pro (Sky White, 128 GB)',\n",
       "       'OPPO Reno3 Pro (Auroral Blue, 128 GB)',\n",
       "       'OPPO Reno3 Pro (Midnight Black, 128 GB)',\n",
       "       'OPPO A5s (Black, 32 GB)', 'OPPO F11 Pro (Thunder Black, 64 GB)',\n",
       "       'OPPO Reno 10x Zoom (Ocean Green, 256 GB)',\n",
       "       'OPPO Reno2 (Ocean Blue, 256 GB)',\n",
       "       'OPPO Find X (Glacier Blue, 256 GB)',\n",
       "       'OPPO Find X (Bordeaux Red, 256 GB)',\n",
       "       'OPPO Reno2 Z (Luminous Black, 256 GB)',\n",
       "       'OPPO A83 (2018 Edition) (Champagne, 64 GB)',\n",
       "       'OPPO A9 2020 (Vanilla Mint, 128 GB)', 'OPPO A5s (Red, 32 GB)',\n",
       "       'OPPO K1 (Piano Black, 64 GB)', 'OPPO F9 Pro (Sunrise Red, 64 GB)',\n",
       "       'OPPO K1 (Astral Blue, 64 GB)', 'OPPO F11 (Marble Green, 128 GB)',\n",
       "       'OPPO A1K (Red, 32 GB)', 'OPPO A7 (Glaring Gold, 64 GB)',\n",
       "       'OPPO F9 Pro (Twilight Blue, 64 GB)',\n",
       "       'OPPO F9 Pro (Starry Purple, 64 GB)',\n",
       "       'OPPO A7 (Glaze Blue, 64 GB)', 'OPPO A3s (Red, 64 GB)',\n",
       "       'OPPO A3s (Red, 16 GB)', 'OPPO A3s (Purple, 16 GB)',\n",
       "       'OPPO A12 (Black, 64 GB)', 'OPPO A12 (Blue, 64 GB)',\n",
       "       'OPPO F11 Pro (Waterfall Grey, 128 GB)',\n",
       "       'OPPO F11 Pro (Thunder Black, 128 GB)',\n",
       "       'OPPO R17 Pro (Radiant Mist, 128 GB)', 'OPPO A83 (Black, 32 GB)',\n",
       "       'OPPO A83 (Red, 16 GB)', 'OPPO F7 (Red, 64 GB)',\n",
       "       'OPPO F11 (Fluorite Purple, 128 GB)',\n",
       "       'OPPO F11 (Jewelry White, 128 GB)', 'OPPO F1S (Rose Gold, 64 GB)',\n",
       "       'OPPO F1S (Grey, 64 GB)', 'OPPO F1S (Gold, 64 GB)',\n",
       "       'OPPO F1S (Grey, 32 GB)', 'OPPO A71k (New Edition) (Blue, 16 GB)',\n",
       "       'OPPO A3s (Purple, 32 GB)', 'OPPO F3 (Rose Gold, 64 GB)',\n",
       "       'OPPO A5 (Diamond Red, 32 GB)',\n",
       "       'OPPO A83 (2018 Edition) (Red, 64 GB)',\n",
       "       'OPPO F9 (Stellar Purple, 64 GB)', 'OPPO A3s (Purple, 64 GB)',\n",
       "       'OPPO Reno 10x Zoom (Jet Black, 256 GB)',\n",
       "       'OPPO Reno 10x Zoom (Jet Black, 128 GB)'], dtype=object)"
      ]
     },
     "execution_count": 13,
     "metadata": {},
     "output_type": "execute_result"
    }
   ],
   "source": [
    "print(df['mobile_name'].nunique())\n",
    "df['mobile_name'].unique()"
   ]
  },
  {
   "cell_type": "code",
   "execution_count": 14,
   "id": "d8582a4e",
   "metadata": {},
   "outputs": [],
   "source": [
    "# AS colour , storage are already getting recorded in other features we would trim the name to a shorter length"
   ]
  },
  {
   "cell_type": "code",
   "execution_count": 15,
   "id": "ef0c37db",
   "metadata": {},
   "outputs": [
    {
     "name": "stdout",
     "output_type": "stream",
     "text": [
      "127\n"
     ]
    }
   ],
   "source": [
    "df['mobile_name']=df['mobile_name'].str.split('(').str[0]\n",
    "\n",
    "print(df['mobile_name'].nunique())\n",
    "\n",
    "df['Brand']=df['mobile_name'].str.split(' ').str[0]\n",
    "\n",
    "df[['Brand','mobile_name']]=df['mobile_name'].str.extract(r'^(\\S+)\\s+(.*)$')"
   ]
  },
  {
   "cell_type": "code",
   "execution_count": 16,
   "id": "8a4c6e74",
   "metadata": {},
   "outputs": [
    {
     "data": {
      "text/plain": [
       "array(['Realme', 'Redmi', 'Mi', 'MI3', 'Vivo', 'Samsung', 'Infinix',\n",
       "       'POCO', 'OPPO'], dtype=object)"
      ]
     },
     "execution_count": 16,
     "metadata": {},
     "output_type": "execute_result"
    }
   ],
   "source": [
    "df['Brand'].unique()"
   ]
  },
  {
   "cell_type": "code",
   "execution_count": 17,
   "id": "0ee16ca9",
   "metadata": {},
   "outputs": [],
   "source": [
    "df['Brand']=df['Brand'].replace('MI3','Mi')"
   ]
  },
  {
   "cell_type": "code",
   "execution_count": 18,
   "id": "621f5f1b",
   "metadata": {},
   "outputs": [
    {
     "data": {
      "text/plain": [
       "8"
      ]
     },
     "execution_count": 18,
     "metadata": {},
     "output_type": "execute_result"
    }
   ],
   "source": [
    "df['Brand'].nunique()"
   ]
  },
  {
   "cell_type": "markdown",
   "id": "f694c14a",
   "metadata": {},
   "source": [
    "## Unique mobile names count reduced from 363 to 127"
   ]
  },
  {
   "cell_type": "code",
   "execution_count": 19,
   "id": "3cbbeddf",
   "metadata": {},
   "outputs": [
    {
     "data": {
      "text/plain": [
       "439               A5 \n",
       "440              A83 \n",
       "441               F9 \n",
       "442              A3s \n",
       "443              A3s \n",
       "444              A3s \n",
       "445              A3s \n",
       "446    Reno 10x Zoom \n",
       "447    Reno 10x Zoom \n",
       "448          A9 2020 \n",
       "449              A12 \n",
       "450              A12 \n",
       "451          F11 Pro \n",
       "452          F11 Pro \n",
       "453          R17 Pro \n",
       "454              A83 \n",
       "455              A83 \n",
       "456               F7 \n",
       "457              F11 \n",
       "458              F11 \n",
       "Name: mobile_name, dtype: object"
      ]
     },
     "execution_count": 19,
     "metadata": {},
     "output_type": "execute_result"
    }
   ],
   "source": [
    "df['mobile_name'].tail(20)"
   ]
  },
  {
   "cell_type": "code",
   "execution_count": 20,
   "id": "e6b8e9bd",
   "metadata": {},
   "outputs": [
    {
     "name": "stdout",
     "output_type": "stream",
     "text": [
      "36\n"
     ]
    },
    {
     "data": {
      "text/plain": [
       "array(['16.56 cm (6.52 inch)', '16.51 cm (6.5 inch)',\n",
       "       '16.0 cm (6.3 inch)', '16.26 cm (6.4 inch)',\n",
       "       '16.36 cm (6.44 inch)', '16.76 cm (6.6 inch)',\n",
       "       '15.49 cm (6.1 inch)', '16.69 cm (6.57 inch)',\n",
       "       '15.8 cm (6.22 inch)', '16.23 cm (6.39 inch)',\n",
       "       '16.94 cm (6.67 inch)', '15.44 cm (6.08 inch)',\n",
       "       '15.21 cm (5.99 inch)', '15.9 cm (6.26 inch)', '12.7 cm (5 inch)',\n",
       "       '15.46 cm (6.088 inch)', '13.97 cm (5.5 inch)',\n",
       "       '13.84 cm (5.45 inch)', '16.13 cm (6.35 inch)',\n",
       "       '16.21 cm (6.38 inch)', '16.59 cm (6.53 inch)',\n",
       "       '16.28 cm (6.41 inch)', '16.74 cm (6.59 inch)',\n",
       "       '14.48 cm (5.7 inch)', '15.24 cm (6 inch)', '13.21 cm (5.2 inch)',\n",
       "       '17.02 cm (6.7 inch)', '11.94 cm (4.7 inch)',\n",
       "       '15.06 cm (5.93 inch)', '15.75 cm (6.2 inch)',\n",
       "       '15.72 cm (6.19 inch)', '14.35 cm (5.65 inch)',\n",
       "       '15.19 cm (5.98 inch)', '15.77 cm (6.21 inch)',\n",
       "       '15.7 cm (6.18 inch)', '15.82 cm (6.23 inch)'], dtype=object)"
      ]
     },
     "execution_count": 20,
     "metadata": {},
     "output_type": "execute_result"
    }
   ],
   "source": [
    "print(df['disp_size'].nunique())\n",
    "df['disp_size'].unique()"
   ]
  },
  {
   "cell_type": "code",
   "execution_count": 21,
   "id": "37d15a3b",
   "metadata": {},
   "outputs": [],
   "source": [
    "df['disp_size']=df['disp_size'].str.split('(').str[1].str.split(' ').str[0]"
   ]
  },
  {
   "cell_type": "code",
   "execution_count": 22,
   "id": "556fb38e",
   "metadata": {},
   "outputs": [],
   "source": [
    "df['disp_size']=df['disp_size'].astype('float')"
   ]
  },
  {
   "cell_type": "code",
   "execution_count": 23,
   "id": "f52b1b95",
   "metadata": {},
   "outputs": [
    {
     "data": {
      "text/plain": [
       "array([6.52 , 6.5  , 6.3  , 6.4  , 6.44 , 6.6  , 6.1  , 6.57 , 6.22 ,\n",
       "       6.39 , 6.67 , 6.08 , 5.99 , 6.26 , 5.   , 6.088, 5.5  , 5.45 ,\n",
       "       6.35 , 6.38 , 6.53 , 6.41 , 6.59 , 5.7  , 6.   , 5.2  , 6.7  ,\n",
       "       4.7  , 5.93 , 6.2  , 6.19 , 5.65 , 5.98 , 6.21 , 6.18 , 6.23 ])"
      ]
     },
     "execution_count": 23,
     "metadata": {},
     "output_type": "execute_result"
    }
   ],
   "source": [
    "df['disp_size'].unique()"
   ]
  },
  {
   "cell_type": "code",
   "execution_count": 24,
   "id": "8f4515c0",
   "metadata": {},
   "outputs": [
    {
     "data": {
      "text/html": [
       "<div>\n",
       "<style scoped>\n",
       "    .dataframe tbody tr th:only-of-type {\n",
       "        vertical-align: middle;\n",
       "    }\n",
       "\n",
       "    .dataframe tbody tr th {\n",
       "        vertical-align: top;\n",
       "    }\n",
       "\n",
       "    .dataframe thead th {\n",
       "        text-align: right;\n",
       "    }\n",
       "</style>\n",
       "<table border=\"1\" class=\"dataframe\">\n",
       "  <thead>\n",
       "    <tr style=\"text-align: right;\">\n",
       "      <th></th>\n",
       "      <th>mobile_price</th>\n",
       "      <th>Sims</th>\n",
       "      <th>disp_size</th>\n",
       "    </tr>\n",
       "  </thead>\n",
       "  <tbody>\n",
       "    <tr>\n",
       "      <th>mobile_price</th>\n",
       "      <td>1.000000</td>\n",
       "      <td>0.014217</td>\n",
       "      <td>0.362075</td>\n",
       "    </tr>\n",
       "    <tr>\n",
       "      <th>Sims</th>\n",
       "      <td>0.014217</td>\n",
       "      <td>1.000000</td>\n",
       "      <td>0.184165</td>\n",
       "    </tr>\n",
       "    <tr>\n",
       "      <th>disp_size</th>\n",
       "      <td>0.362075</td>\n",
       "      <td>0.184165</td>\n",
       "      <td>1.000000</td>\n",
       "    </tr>\n",
       "  </tbody>\n",
       "</table>\n",
       "</div>"
      ],
      "text/plain": [
       "              mobile_price      Sims  disp_size\n",
       "mobile_price      1.000000  0.014217   0.362075\n",
       "Sims              0.014217  1.000000   0.184165\n",
       "disp_size         0.362075  0.184165   1.000000"
      ]
     },
     "execution_count": 24,
     "metadata": {},
     "output_type": "execute_result"
    }
   ],
   "source": [
    "df.corr()"
   ]
  },
  {
   "cell_type": "code",
   "execution_count": 25,
   "id": "cf17ea53",
   "metadata": {},
   "outputs": [
    {
     "name": "stdout",
     "output_type": "stream",
     "text": [
      "48\n"
     ]
    },
    {
     "data": {
      "text/plain": [
       "array(['1600 x 720 Pixels', '2340 x 1080 pixels', '2400 x 1080 Pixels',\n",
       "       '1080 x 2340 Pixels', '1080 x 2400 Pixels', '720 x 1600 Pixels',\n",
       "       '1560 x 720 pixels', '2400 × 1080 Pixels', '1520 x 720 pixels',\n",
       "       '1520 x 720 Pixels', '2400 x 1080 pixel', '1560 x 720 Pixels',\n",
       "       '2160 x 1080 Pixels', '1440 x 720 pixels', '2280 x 1080 pixels',\n",
       "       '2160 x 1080 pixels', '2340 x 1080 Pixel', '1920 x 1080 Pixels',\n",
       "       '1520 x 720$$Pixels', '1520 x 720$$pixel', '2280 x 1080$$Pixels',\n",
       "       '1920 x 1080 pixels', '2400 x 1080 Pixel', '1280 x 720 pixels',\n",
       "       '2400 x 1080$$pixel', '1280 x 720 Pixels', '720 x 1544 pixels',\n",
       "       '720 x 1544 Pixels', '2340 x 1080 Pixels', '2316 x 1080 pixels',\n",
       "       '2280 x 1080 Pixels', '1440 x 720 Pixels', '1440 x 720 Pixel',\n",
       "       '1520 x 720$$ pixels', '1520 x 720$pixels', '2340 x 1080$$pixel',\n",
       "       '2340 x 1080$$Pixel', '960 x 540 Pixels', '540 x 960 Pixels',\n",
       "       '1080 x 2160 pixels', '1500 x 720 pixels', '720 x 1440 Pixels',\n",
       "       '720*1440 Pixels', '1080 x 1920 Pixels', '720 x 1520 pixels',\n",
       "       '1080 x 2340 pixels', '720 x 1560 pixels', '720 x 1280'],\n",
       "      dtype=object)"
      ]
     },
     "execution_count": 25,
     "metadata": {},
     "output_type": "execute_result"
    }
   ],
   "source": [
    "print(df['resolution'].nunique())\n",
    "df['resolution'].unique()"
   ]
  },
  {
   "cell_type": "code",
   "execution_count": 26,
   "id": "6bf3dfab",
   "metadata": {},
   "outputs": [],
   "source": [
    "df['resolution']=df['resolution'].str.replace(r'\\$+',' ')"
   ]
  },
  {
   "cell_type": "code",
   "execution_count": 27,
   "id": "2de65623",
   "metadata": {},
   "outputs": [
    {
     "data": {
      "text/plain": [
       "array(['1600 x 720 Pixels', '2340 x 1080 pixels', '2400 x 1080 Pixels',\n",
       "       '1080 x 2340 Pixels', '1080 x 2400 Pixels', '720 x 1600 Pixels',\n",
       "       '1560 x 720 pixels', '2400 × 1080 Pixels', '1520 x 720 pixels',\n",
       "       '1520 x 720 Pixels', '2400 x 1080 pixel', '1560 x 720 Pixels',\n",
       "       '2160 x 1080 Pixels', '1440 x 720 pixels', '2280 x 1080 pixels',\n",
       "       '2160 x 1080 pixels', '2340 x 1080 Pixel', '1920 x 1080 Pixels',\n",
       "       '1520 x 720 pixel', '2280 x 1080 Pixels', '1920 x 1080 pixels',\n",
       "       '2400 x 1080 Pixel', '1280 x 720 pixels', '1280 x 720 Pixels',\n",
       "       '720 x 1544 pixels', '720 x 1544 Pixels', '2340 x 1080 Pixels',\n",
       "       '2316 x 1080 pixels', '1440 x 720 Pixels', '1440 x 720 Pixel',\n",
       "       '1520 x 720  pixels', '2340 x 1080 pixel', '960 x 540 Pixels',\n",
       "       '540 x 960 Pixels', '1080 x 2160 pixels', '1500 x 720 pixels',\n",
       "       '720 x 1440 Pixels', '720*1440 Pixels', '1080 x 1920 Pixels',\n",
       "       '720 x 1520 pixels', '1080 x 2340 pixels', '720 x 1560 pixels',\n",
       "       '720 x 1280'], dtype=object)"
      ]
     },
     "execution_count": 27,
     "metadata": {},
     "output_type": "execute_result"
    }
   ],
   "source": [
    "df['resolution'].unique()"
   ]
  },
  {
   "cell_type": "code",
   "execution_count": 28,
   "id": "6d155156",
   "metadata": {},
   "outputs": [],
   "source": [
    "df['resolution']=df['resolution'].str.replace('*',' x ')"
   ]
  },
  {
   "cell_type": "code",
   "execution_count": 29,
   "id": "4bb0d86d",
   "metadata": {},
   "outputs": [
    {
     "data": {
      "text/plain": [
       "0       1600 x 720 Pixels\n",
       "1       1600 x 720 Pixels\n",
       "2       1600 x 720 Pixels\n",
       "3       1600 x 720 Pixels\n",
       "4       1600 x 720 Pixels\n",
       "              ...        \n",
       "454     1440 x 720 Pixels\n",
       "455     1440 x 720 Pixels\n",
       "456    2280 x 1080 Pixels\n",
       "457    1080 x 2340 pixels\n",
       "458    1080 x 2340 pixels\n",
       "Name: resolution, Length: 459, dtype: object"
      ]
     },
     "execution_count": 29,
     "metadata": {},
     "output_type": "execute_result"
    }
   ],
   "source": [
    "df['resolution'].str.replace(r'\\[pP]+','')"
   ]
  },
  {
   "cell_type": "code",
   "execution_count": 30,
   "id": "4300fb11",
   "metadata": {},
   "outputs": [
    {
     "name": "stdout",
     "output_type": "stream",
     "text": [
      "42\n"
     ]
    },
    {
     "data": {
      "text/plain": [
       "array(['1600 x 720 Pixels', '2340 x 1080 pixels', '2400 x 1080 Pixels',\n",
       "       '1080 x 2340 Pixels', '1080 x 2400 Pixels', '720 x 1600 Pixels',\n",
       "       '1560 x 720 pixels', '2400 × 1080 Pixels', '1520 x 720 pixels',\n",
       "       '1520 x 720 Pixels', '2400 x 1080 pixel', '1560 x 720 Pixels',\n",
       "       '2160 x 1080 Pixels', '1440 x 720 pixels', '2280 x 1080 pixels',\n",
       "       '2160 x 1080 pixels', '2340 x 1080 Pixel', '1920 x 1080 Pixels',\n",
       "       '1520 x 720 pixel', '2280 x 1080 Pixels', '1920 x 1080 pixels',\n",
       "       '2400 x 1080 Pixel', '1280 x 720 pixels', '1280 x 720 Pixels',\n",
       "       '720 x 1544 pixels', '720 x 1544 Pixels', '2340 x 1080 Pixels',\n",
       "       '2316 x 1080 pixels', '1440 x 720 Pixels', '1440 x 720 Pixel',\n",
       "       '1520 x 720  pixels', '2340 x 1080 pixel', '960 x 540 Pixels',\n",
       "       '540 x 960 Pixels', '1080 x 2160 pixels', '1500 x 720 pixels',\n",
       "       '720 x 1440 Pixels', '1080 x 1920 Pixels', '720 x 1520 pixels',\n",
       "       '1080 x 2340 pixels', '720 x 1560 pixels', '720 x 1280'],\n",
       "      dtype=object)"
      ]
     },
     "execution_count": 30,
     "metadata": {},
     "output_type": "execute_result"
    }
   ],
   "source": [
    "print(df['resolution'].nunique())\n",
    "df['resolution'].unique()"
   ]
  },
  {
   "cell_type": "code",
   "execution_count": 31,
   "id": "c5565156",
   "metadata": {},
   "outputs": [],
   "source": [
    "df['resolution']=df['resolution'].str.replace('720 x 1280','720 x 1280 pixels')"
   ]
  },
  {
   "cell_type": "code",
   "execution_count": 32,
   "id": "4137fede",
   "metadata": {},
   "outputs": [],
   "source": [
    "df['resolution']=df['resolution'].str.rsplit(' ',n=1).str[0]"
   ]
  },
  {
   "cell_type": "code",
   "execution_count": 33,
   "id": "9e9b4192",
   "metadata": {},
   "outputs": [],
   "source": [
    "df['resolution']=df['resolution'].str.replace('720 x 1600','1600 x 720')\n",
    "df['resolution']=df['resolution'].str.replace('1080 x 2340','2340 x 1080')\n",
    "df['resolution']=df['resolution'].str.replace('1080 x 2400','2400 x 1080')\n",
    "df['resolution']=df['resolution'].str.replace('540 x 960','960 x 540')\n",
    "df['resolution']=df['resolution'].str.replace('720 x 1440','1440 x 720')\n",
    "df['resolution']=df['resolution'].str.replace('1080 x 1920','1920 x 1080')\n",
    "df['resolution']=df['resolution'].str.replace('720 x 1520','1520 x 720 ')\n",
    "df['resolution']=df['resolution'].str.replace('1080 x 2160','2160 x 1080')\n",
    "df['resolution']=df['resolution'].str.replace('×','X')\n",
    "df['resolution']=df['resolution'].str.replace('720 X 1544','1544 X 720')\n",
    "df['resolution']=df['resolution'].str.replace('720 X 1560','1560 X 720')\n",
    "df['resolution']=df['resolution'].str.replace('720 X 1280','1280 X 720')"
   ]
  },
  {
   "cell_type": "code",
   "execution_count": 34,
   "id": "f3693428",
   "metadata": {},
   "outputs": [
    {
     "name": "stdout",
     "output_type": "stream",
     "text": [
      "18\n"
     ]
    },
    {
     "data": {
      "text/plain": [
       "array(['1600 x 720', '2340 x 1080', '2400 x 1080', '1560 x 720',\n",
       "       '2400 X 1080', '1520 x 720', '2160 x 1080', '1440 x 720',\n",
       "       '2280 x 1080', '1920 x 1080', '1280 x 720', '720 x 1544',\n",
       "       '2316 x 1080', '1520 x 720 ', '960 x 540', '1500 x 720',\n",
       "       '720 x 1560', '720 x 1280'], dtype=object)"
      ]
     },
     "execution_count": 34,
     "metadata": {},
     "output_type": "execute_result"
    }
   ],
   "source": [
    "print(df['resolution'].nunique())\n",
    "df['resolution'].unique()"
   ]
  },
  {
   "cell_type": "markdown",
   "id": "c6903f4e",
   "metadata": {},
   "source": [
    "### Based on this resolutions we can trim down the kind of display and use them instead of this values"
   ]
  },
  {
   "cell_type": "code",
   "execution_count": 35,
   "id": "0d136bb5",
   "metadata": {},
   "outputs": [],
   "source": [
    "old_hd = ['1600 X 720','1600 x 720','1280 x 720','2316 x 1080','1500 x 720',\n",
    "       '720 x 1560', '720 x 1280', '720 x 1544', '1560 X 720','1560 x 720', '1520 X 720','1520 x 720','1440 x 720', '1440 X 720', '1280 X 720', '1544 X 720', '1520 X 720', '1500 X 720']\n",
    "new_hd = 'HD+'\n",
    "old_fhdp = ['2400 X 1080','2340 x 1080', '2400 x 1080','2280 x 1080', '2340 X 1080', '2340 X 1080','2160 x 1080', '2160 X 1080', '2280 X 1080', '2316 X 1080']\n",
    "new_fhdp = 'FHD+'\n",
    "\n",
    "df['resolution'] = df['resolution'].str.strip().str.lower()\n",
    "df['resolution'] = df['resolution'].replace(old_hd, new_hd)\n",
    "df['resolution'] = df['resolution'].replace(old_fhdp, new_fhdp)\n",
    "df['resolution'] = df['resolution'].replace('1920 x 1080', 'FHD')\n",
    "df['resolution'] = df['resolution'].replace('960 x 540', 'qHD')"
   ]
  },
  {
   "cell_type": "code",
   "execution_count": 36,
   "id": "1a832738",
   "metadata": {},
   "outputs": [
    {
     "name": "stdout",
     "output_type": "stream",
     "text": [
      "4\n"
     ]
    },
    {
     "data": {
      "text/plain": [
       "array(['HD+', 'FHD+', 'FHD', 'qHD'], dtype=object)"
      ]
     },
     "execution_count": 36,
     "metadata": {},
     "output_type": "execute_result"
    }
   ],
   "source": [
    "print(df['resolution'].nunique())\n",
    "df['resolution'].unique()"
   ]
  },
  {
   "cell_type": "markdown",
   "id": "5489de23",
   "metadata": {},
   "source": [
    "## Unique resolutions count reduced from 42 to 4"
   ]
  },
  {
   "cell_type": "code",
   "execution_count": 37,
   "id": "8c149dc1",
   "metadata": {},
   "outputs": [],
   "source": [
    "# qHD Least quality\n",
    "# HD+ medium quality\n",
    "# FHD better quality\n",
    "# FHD+ good quality\n",
    "# QHD+ Best quality"
   ]
  },
  {
   "cell_type": "code",
   "execution_count": 38,
   "id": "e5d3623e",
   "metadata": {},
   "outputs": [],
   "source": [
    "#df['resolution']=df['resolution'].replace({'qHD':1,'HD+':2,'FHD':3,'FHD+':4})"
   ]
  },
  {
   "cell_type": "code",
   "execution_count": 39,
   "id": "3317dfa9",
   "metadata": {},
   "outputs": [
    {
     "data": {
      "text/plain": [
       "array(['Octa Core', 'Quad Core', 'Single Core'], dtype=object)"
      ]
     },
     "execution_count": 39,
     "metadata": {},
     "output_type": "execute_result"
    }
   ],
   "source": [
    "df['num_cores'].unique()"
   ]
  },
  {
   "cell_type": "code",
   "execution_count": 40,
   "id": "ff1348a9",
   "metadata": {},
   "outputs": [
    {
     "data": {
      "text/plain": [
       "array(['2 GHz', '2.3 GHz', '2.96 GHz', '1.95 GHz', '2.8 GHz', '2.05 GHz',\n",
       "       '2.2 GHz', '2.1 GHz', '2.84 GHz', '2.5 GHz', '1.8 GHz', '1.4 GHz',\n",
       "       '1.5 GHz', '1.3 GHz', '1.6 GHz', '2.39 GHz', '2.6 GHz',\n",
       "       '2.649 GHz'], dtype=object)"
      ]
     },
     "execution_count": 40,
     "metadata": {},
     "output_type": "execute_result"
    }
   ],
   "source": [
    "df['mp_speed'].unique()"
   ]
  },
  {
   "cell_type": "code",
   "execution_count": 41,
   "id": "782c87e4",
   "metadata": {},
   "outputs": [],
   "source": [
    "df['mp_speed']=df['mp_speed'].str.split(' ').str[0]\n",
    "df['mp_speed']=df['mp_speed'].astype('float')"
   ]
  },
  {
   "cell_type": "code",
   "execution_count": 42,
   "id": "e99842aa",
   "metadata": {},
   "outputs": [
    {
     "data": {
      "text/plain": [
       "array(['32 GB', '64 GB', '128 GB', '256 GB', '16 GB', '512 GB', '8 GB'],\n",
       "      dtype=object)"
      ]
     },
     "execution_count": 42,
     "metadata": {},
     "output_type": "execute_result"
    }
   ],
   "source": [
    "df['int_memory'].unique()"
   ]
  },
  {
   "cell_type": "code",
   "execution_count": 43,
   "id": "c5a17fdf",
   "metadata": {},
   "outputs": [],
   "source": [
    "df['int_memory']=df['int_memory'].str.split(' ').str[0]\n",
    "df['int_memory']=df['int_memory'].astype('int32')"
   ]
  },
  {
   "cell_type": "code",
   "execution_count": 44,
   "id": "08cb65d9",
   "metadata": {},
   "outputs": [
    {
     "data": {
      "text/plain": [
       "array(['3 GB', '4 GB', '6 GB', '8 GB', '12 GB', '2 GB', '1 GB'],\n",
       "      dtype=object)"
      ]
     },
     "execution_count": 44,
     "metadata": {},
     "output_type": "execute_result"
    }
   ],
   "source": [
    "df['ram'].unique()"
   ]
  },
  {
   "cell_type": "code",
   "execution_count": 45,
   "id": "d4f69d76",
   "metadata": {},
   "outputs": [],
   "source": [
    "df['ram']=df['ram'].str.split(' ').str[0]\n",
    "df['ram']=df['ram'].astype('int32')"
   ]
  },
  {
   "cell_type": "code",
   "execution_count": 46,
   "id": "4b5e968b",
   "metadata": {},
   "outputs": [
    {
     "data": {
      "text/plain": [
       "array(['Yes'], dtype=object)"
      ]
     },
     "execution_count": 46,
     "metadata": {},
     "output_type": "execute_result"
    }
   ],
   "source": [
    "df['bluetooth'].unique()"
   ]
  },
  {
   "cell_type": "code",
   "execution_count": 47,
   "id": "60128f88",
   "metadata": {},
   "outputs": [],
   "source": [
    "df.drop('bluetooth',axis=1,inplace=True)"
   ]
  },
  {
   "cell_type": "code",
   "execution_count": 48,
   "id": "e53b345b",
   "metadata": {},
   "outputs": [
    {
     "name": "stdout",
     "output_type": "stream",
     "text": [
      "4G VOLTE, 4G, 3G, 2G\n",
      "3G, 4G VOLTE, 2G\n",
      "3G, 4G VOLTE, 4G, 2G\n",
      "3G, 4G, 2G\n",
      "4G, 2G, 3G\n",
      "5G, 4G VOLTE, 4G, 3G, 2G\n",
      "4G VOLTE, 3G, 2G\n",
      "4G VOLTE, 3G\n",
      "4G VOLTE, 4G, 2G, 3G\n",
      "4G VOLTE, 5G\n",
      "3G, 4G VOLTE, 4G\n",
      "3G\n",
      "4G VOLTE\n",
      "3G, 4G VOLTE\n",
      "2G\n",
      "4G, 3G, 2G\n",
      "3G, 4G\n",
      "4G VOLTE, 4G\n"
     ]
    }
   ],
   "source": [
    "for i in df['network'].unique():\n",
    "    print(i)"
   ]
  },
  {
   "cell_type": "code",
   "execution_count": 49,
   "id": "50ab892e",
   "metadata": {},
   "outputs": [],
   "source": [
    "df['network']=df['network'].str.strip()"
   ]
  },
  {
   "cell_type": "code",
   "execution_count": 50,
   "id": "97016cf3",
   "metadata": {},
   "outputs": [
    {
     "data": {
      "text/plain": [
       "3G, 4G VOLTE, 4G, 2G        139\n",
       "3G, 4G VOLTE, 2G             85\n",
       "4G VOLTE, 4G, 3G, 2G         79\n",
       "3G, 4G, 2G                   39\n",
       "4G, 3G, 2G                   26\n",
       "4G VOLTE, 4G, 2G, 3G         20\n",
       "4G VOLTE, 3G, 2G             14\n",
       "3G, 4G VOLTE, 4G             13\n",
       "4G VOLTE, 3G                 10\n",
       "4G VOLTE                      8\n",
       "3G, 4G VOLTE                  8\n",
       "4G VOLTE, 5G                  4\n",
       "5G, 4G VOLTE, 4G, 3G, 2G      3\n",
       "4G, 2G, 3G                    3\n",
       "4G VOLTE, 4G                  3\n",
       "2G                            2\n",
       "3G, 4G                        2\n",
       "3G                            1\n",
       "Name: network, dtype: int64"
      ]
     },
     "execution_count": 50,
     "metadata": {},
     "output_type": "execute_result"
    }
   ],
   "source": [
    "df['network'].value_counts()"
   ]
  },
  {
   "cell_type": "code",
   "execution_count": 51,
   "id": "d51bd309",
   "metadata": {},
   "outputs": [
    {
     "name": "stdout",
     "output_type": "stream",
     "text": [
      "!! 4G VOLTE, 4G, 3G, 2G !!\n",
      "!! 3G, 4G VOLTE, 2G !!\n",
      "!! 3G, 4G VOLTE, 4G, 2G !!\n",
      "!! 3G, 4G, 2G !!\n",
      "!! 4G, 2G, 3G !!\n",
      "!! 5G, 4G VOLTE, 4G, 3G, 2G !!\n",
      "!! 4G VOLTE, 3G, 2G !!\n",
      "!! 4G VOLTE, 3G !!\n",
      "!! 4G VOLTE, 4G, 2G, 3G !!\n",
      "!! 4G VOLTE, 5G !!\n",
      "!! 3G, 4G VOLTE, 4G !!\n",
      "!! 3G !!\n",
      "!! 4G VOLTE !!\n",
      "!! 3G, 4G VOLTE !!\n",
      "!! 2G !!\n",
      "!! 4G, 3G, 2G !!\n",
      "!! 3G, 4G !!\n",
      "!! 4G VOLTE, 4G !!\n",
      "18\n"
     ]
    }
   ],
   "source": [
    "for i in df['network'].unique():\n",
    "    print('!!',i,'!!')\n",
    "print(df['network'].nunique())"
   ]
  },
  {
   "cell_type": "code",
   "execution_count": 52,
   "id": "b4ea6ccf",
   "metadata": {},
   "outputs": [],
   "source": [
    "df['network']=df['network'].str.replace(' ','@@')\n",
    "df['network']=df['network'].replace(['4G@@VOLTE,@@4G,@@3G,@@2G','3G,@@4G@@VOLTE','4G@@VOLTE','2G','3G,@@4G@@VOLTE,@@4G,@@2G','4G@@VOLTE,@@3G','4G@@VOLTE,@@4G','4G@@VOLTE,@@4G,@@2G,@@3G','3G,@@4G@@VOLTE,@@4G','4G@@VOLTE,@@4G'],'4G VOLTE, 4G, 3G, 2G')\n",
    "df['network']=df['network'].replace(['3G,@@4G@@VOLTE,@@2G','4G@@VOLTE,@@3G,@@2G'],'4G VOLTE, 3G, 2G')\n",
    "df['network']=df['network'].replace(['3G,@@4G,@@2G','4G,@@2G,@@3G','4G,@@3G,@@2G','3G,@@4G','3G'],'4G, 3G, 2G')\n",
    "df['network']=df['network'].replace(['5G,@@4G@@VOLTE,@@4G,@@3G,@@2G','4G@@VOLTE,@@5G'],'5G,4G VOLTE,4G,3G,2G')\n",
    "#df['network']=df['network'].replace('4G@@VOLTE,@@3G','4G VOLTE,3G')"
   ]
  },
  {
   "cell_type": "code",
   "execution_count": 53,
   "id": "d02e56d5",
   "metadata": {},
   "outputs": [
    {
     "name": "stdout",
     "output_type": "stream",
     "text": [
      "4G VOLTE, 4G, 3G, 2G\n",
      "4G VOLTE, 3G, 2G\n",
      "4G, 3G, 2G\n",
      "5G,4G VOLTE,4G,3G,2G\n",
      "4\n"
     ]
    }
   ],
   "source": [
    "for i in df['network'].unique():\n",
    "    print(i)\n",
    "print(df['network'].nunique())"
   ]
  },
  {
   "cell_type": "markdown",
   "id": "8f056881",
   "metadata": {},
   "source": [
    "## Unique Network count reduced from 18 to 4\n"
   ]
  },
  {
   "cell_type": "code",
   "execution_count": 54,
   "id": "1fa8bf93",
   "metadata": {},
   "outputs": [],
   "source": [
    "def connector(g):\n",
    "    name=g+'_connectivity'\n",
    "    if g=='4G':\n",
    "        df[name] = df['network'].str.contains(g) & ~df['network'].str.contains('VOLTE')\n",
    "        df[name] = df[name].replace({True: 'Yes', False: 'No'})\n",
    "    else:\n",
    "        df[name]=df['network'].str.contains(g).map({True: 'Yes', False: 'No'})"
   ]
  },
  {
   "cell_type": "code",
   "execution_count": 55,
   "id": "903c951f",
   "metadata": {},
   "outputs": [],
   "source": [
    "connector('5G')\n",
    "connector('VOLTE')\n",
    "connector('4G')\n",
    "connector('3G')\n",
    "connector('2G')"
   ]
  },
  {
   "cell_type": "code",
   "execution_count": 56,
   "id": "912fa4cd",
   "metadata": {},
   "outputs": [
    {
     "data": {
      "text/html": [
       "<div>\n",
       "<style scoped>\n",
       "    .dataframe tbody tr th:only-of-type {\n",
       "        vertical-align: middle;\n",
       "    }\n",
       "\n",
       "    .dataframe tbody tr th {\n",
       "        vertical-align: top;\n",
       "    }\n",
       "\n",
       "    .dataframe thead th {\n",
       "        text-align: right;\n",
       "    }\n",
       "</style>\n",
       "<table border=\"1\" class=\"dataframe\">\n",
       "  <thead>\n",
       "    <tr style=\"text-align: right;\">\n",
       "      <th></th>\n",
       "      <th>mobile_name</th>\n",
       "      <th>mobile_price</th>\n",
       "      <th>mobile_color</th>\n",
       "      <th>Sims</th>\n",
       "      <th>disp_size</th>\n",
       "      <th>resolution</th>\n",
       "      <th>os</th>\n",
       "      <th>num_cores</th>\n",
       "      <th>mp_speed</th>\n",
       "      <th>int_memory</th>\n",
       "      <th>...</th>\n",
       "      <th>mob_width</th>\n",
       "      <th>mob_height</th>\n",
       "      <th>mob_depth</th>\n",
       "      <th>mob_weight</th>\n",
       "      <th>Brand</th>\n",
       "      <th>5G_connectivity</th>\n",
       "      <th>VOLTE_connectivity</th>\n",
       "      <th>4G_connectivity</th>\n",
       "      <th>3G_connectivity</th>\n",
       "      <th>2G_connectivity</th>\n",
       "    </tr>\n",
       "  </thead>\n",
       "  <tbody>\n",
       "    <tr>\n",
       "      <th>0</th>\n",
       "      <td>Narzo 10A</td>\n",
       "      <td>8999</td>\n",
       "      <td>White</td>\n",
       "      <td>2</td>\n",
       "      <td>6.52</td>\n",
       "      <td>HD+</td>\n",
       "      <td>Android 10</td>\n",
       "      <td>Octa Core</td>\n",
       "      <td>2.0</td>\n",
       "      <td>32</td>\n",
       "      <td>...</td>\n",
       "      <td>75 mm</td>\n",
       "      <td>164.4 mm</td>\n",
       "      <td>8.95 mm</td>\n",
       "      <td>195 g</td>\n",
       "      <td>Realme</td>\n",
       "      <td>No</td>\n",
       "      <td>Yes</td>\n",
       "      <td>No</td>\n",
       "      <td>Yes</td>\n",
       "      <td>Yes</td>\n",
       "    </tr>\n",
       "    <tr>\n",
       "      <th>1</th>\n",
       "      <td>Narzo 10A</td>\n",
       "      <td>8999</td>\n",
       "      <td>Blue</td>\n",
       "      <td>2</td>\n",
       "      <td>6.52</td>\n",
       "      <td>HD+</td>\n",
       "      <td>Android 10</td>\n",
       "      <td>Octa Core</td>\n",
       "      <td>2.0</td>\n",
       "      <td>32</td>\n",
       "      <td>...</td>\n",
       "      <td>75 mm</td>\n",
       "      <td>164.4 mm</td>\n",
       "      <td>8.95 mm</td>\n",
       "      <td>195 g</td>\n",
       "      <td>Realme</td>\n",
       "      <td>No</td>\n",
       "      <td>Yes</td>\n",
       "      <td>No</td>\n",
       "      <td>Yes</td>\n",
       "      <td>Yes</td>\n",
       "    </tr>\n",
       "    <tr>\n",
       "      <th>2</th>\n",
       "      <td>Narzo 10A</td>\n",
       "      <td>9999</td>\n",
       "      <td>Blue</td>\n",
       "      <td>2</td>\n",
       "      <td>6.52</td>\n",
       "      <td>HD+</td>\n",
       "      <td>Android 10</td>\n",
       "      <td>Octa Core</td>\n",
       "      <td>2.0</td>\n",
       "      <td>64</td>\n",
       "      <td>...</td>\n",
       "      <td>75 mm</td>\n",
       "      <td>164.4 mm</td>\n",
       "      <td>8.95 mm</td>\n",
       "      <td>195 g</td>\n",
       "      <td>Realme</td>\n",
       "      <td>No</td>\n",
       "      <td>Yes</td>\n",
       "      <td>No</td>\n",
       "      <td>Yes</td>\n",
       "      <td>Yes</td>\n",
       "    </tr>\n",
       "    <tr>\n",
       "      <th>3</th>\n",
       "      <td>Narzo 10A</td>\n",
       "      <td>9999</td>\n",
       "      <td>White</td>\n",
       "      <td>2</td>\n",
       "      <td>6.52</td>\n",
       "      <td>HD+</td>\n",
       "      <td>Android 10</td>\n",
       "      <td>Octa Core</td>\n",
       "      <td>2.0</td>\n",
       "      <td>64</td>\n",
       "      <td>...</td>\n",
       "      <td>75 mm</td>\n",
       "      <td>164.4 mm</td>\n",
       "      <td>8.95 mm</td>\n",
       "      <td>195 g</td>\n",
       "      <td>Realme</td>\n",
       "      <td>No</td>\n",
       "      <td>Yes</td>\n",
       "      <td>No</td>\n",
       "      <td>Yes</td>\n",
       "      <td>Yes</td>\n",
       "    </tr>\n",
       "    <tr>\n",
       "      <th>4</th>\n",
       "      <td>Narzo 10</td>\n",
       "      <td>11999</td>\n",
       "      <td>Green</td>\n",
       "      <td>2</td>\n",
       "      <td>6.50</td>\n",
       "      <td>HD+</td>\n",
       "      <td>Android 10</td>\n",
       "      <td>Octa Core</td>\n",
       "      <td>2.0</td>\n",
       "      <td>128</td>\n",
       "      <td>...</td>\n",
       "      <td>75.4 mm</td>\n",
       "      <td>164.4 mm</td>\n",
       "      <td>9 mm</td>\n",
       "      <td>199 g</td>\n",
       "      <td>Realme</td>\n",
       "      <td>No</td>\n",
       "      <td>Yes</td>\n",
       "      <td>No</td>\n",
       "      <td>Yes</td>\n",
       "      <td>Yes</td>\n",
       "    </tr>\n",
       "  </tbody>\n",
       "</table>\n",
       "<p>5 rows × 25 columns</p>\n",
       "</div>"
      ],
      "text/plain": [
       "  mobile_name  mobile_price mobile_color  Sims  disp_size resolution  \\\n",
       "0  Narzo 10A           8999        White     2       6.52        HD+   \n",
       "1  Narzo 10A           8999         Blue     2       6.52        HD+   \n",
       "2  Narzo 10A           9999         Blue     2       6.52        HD+   \n",
       "3  Narzo 10A           9999        White     2       6.52        HD+   \n",
       "4   Narzo 10          11999        Green     2       6.50        HD+   \n",
       "\n",
       "           os  num_cores  mp_speed  int_memory  ...  mob_width mob_height  \\\n",
       "0  Android 10  Octa Core       2.0          32  ...      75 mm   164.4 mm   \n",
       "1  Android 10  Octa Core       2.0          32  ...      75 mm   164.4 mm   \n",
       "2  Android 10  Octa Core       2.0          64  ...      75 mm   164.4 mm   \n",
       "3  Android 10  Octa Core       2.0          64  ...      75 mm   164.4 mm   \n",
       "4  Android 10  Octa Core       2.0         128  ...    75.4 mm   164.4 mm   \n",
       "\n",
       "  mob_depth mob_weight   Brand 5G_connectivity VOLTE_connectivity  \\\n",
       "0   8.95 mm      195 g  Realme              No                Yes   \n",
       "1   8.95 mm      195 g  Realme              No                Yes   \n",
       "2   8.95 mm      195 g  Realme              No                Yes   \n",
       "3   8.95 mm      195 g  Realme              No                Yes   \n",
       "4      9 mm      199 g  Realme              No                Yes   \n",
       "\n",
       "  4G_connectivity 3G_connectivity 2G_connectivity  \n",
       "0              No             Yes             Yes  \n",
       "1              No             Yes             Yes  \n",
       "2              No             Yes             Yes  \n",
       "3              No             Yes             Yes  \n",
       "4              No             Yes             Yes  \n",
       "\n",
       "[5 rows x 25 columns]"
      ]
     },
     "execution_count": 56,
     "metadata": {},
     "output_type": "execute_result"
    }
   ],
   "source": [
    "df.head()"
   ]
  },
  {
   "cell_type": "code",
   "execution_count": 57,
   "id": "073c9f2e",
   "metadata": {},
   "outputs": [],
   "source": [
    "df.drop('network',axis=1,inplace=True)"
   ]
  },
  {
   "cell_type": "code",
   "execution_count": 58,
   "id": "f2347400",
   "metadata": {},
   "outputs": [
    {
     "data": {
      "text/plain": [
       "Index(['mobile_name', 'mobile_price', 'mobile_color', 'Sims', 'disp_size',\n",
       "       'resolution', 'os', 'num_cores', 'mp_speed', 'int_memory', 'ram',\n",
       "       'p_cam', 'f_cam', 'battery_power', 'mob_width', 'mob_height',\n",
       "       'mob_depth', 'mob_weight', 'Brand', '5G_connectivity',\n",
       "       'VOLTE_connectivity', '4G_connectivity', '3G_connectivity',\n",
       "       '2G_connectivity'],\n",
       "      dtype='object')"
      ]
     },
     "execution_count": 58,
     "metadata": {},
     "output_type": "execute_result"
    }
   ],
   "source": [
    "df.columns"
   ]
  },
  {
   "cell_type": "code",
   "execution_count": 59,
   "id": "91c8c42d",
   "metadata": {},
   "outputs": [
    {
     "data": {
      "text/plain": [
       "Android Pie 9                126\n",
       "Android Oreo 8.1              96\n",
       "Android Pie 9.0               82\n",
       "Android 10                    68\n",
       "Android Pie 10                16\n",
       "Android Nougat 7.1.2          14\n",
       "Android Oreo 8.1.0            13\n",
       "Android Nougat 7.1            12\n",
       "Android Oreo 8                 7\n",
       "Android Nougat 7               7\n",
       "Android Oreo 8.0               6\n",
       "Android Lollipop 5.1           3\n",
       "Android Marshmallow 6          3\n",
       "Android Marshmallow 6.0.1      2\n",
       "Android Lollipop 5.4.1         1\n",
       "Android KitKat 4.4.2           1\n",
       "Android Nougat 7.1.1           1\n",
       "Android Lollipop 5.1.1         1\n",
       "Name: os, dtype: int64"
      ]
     },
     "execution_count": 59,
     "metadata": {},
     "output_type": "execute_result"
    }
   ],
   "source": [
    "df['os'].value_counts()"
   ]
  },
  {
   "cell_type": "code",
   "execution_count": 60,
   "id": "45465183",
   "metadata": {},
   "outputs": [],
   "source": [
    "df['os']=df['os'].replace('Android Pie 10','Android 10')\n",
    "df['os']=df['os'].replace(['Android Pie 9.0','Android Pie 9'],'Android Pie 9')\n",
    "df['os']=df['os'].replace(['Android Oreo 8.1','Android Oreo 8.0','Android Oreo 8.1.0','Android Oreo 8'],'Android Oreo 8')\n",
    "df['os']=df['os'].replace(['Android Nougat 7.1.1','Android Nougat 7.1.2','Android Nougat 7.1'],'Android Nougat 7')\n",
    "df['os']=df['os'].replace(['Android Lollipop 5.1','Android Lollipop 5.1.1','Android Lollipop 5.4.1'],'Android Lollipop 5')\n",
    "df['os']=df['os'].replace('Android Marshmallow 6.0.1','Android Marshmallow 6')\n",
    "df['os']=df['os'].replace('Android KitKat 4.4.2','Android KitKat 4')"
   ]
  },
  {
   "cell_type": "code",
   "execution_count": 61,
   "id": "47b799a3",
   "metadata": {},
   "outputs": [
    {
     "data": {
      "text/plain": [
       "array(['Android 10', 'Android Pie 9', 'Android Oreo 8',\n",
       "       'Android Nougat 7', 'Android KitKat 4', 'Android Marshmallow 6',\n",
       "       'Android Lollipop 5'], dtype=object)"
      ]
     },
     "execution_count": 61,
     "metadata": {},
     "output_type": "execute_result"
    }
   ],
   "source": [
    "df['os'].unique()"
   ]
  },
  {
   "cell_type": "markdown",
   "id": "268ef21e",
   "metadata": {},
   "source": [
    "## Unique OS count reduced from 18 to 7"
   ]
  },
  {
   "cell_type": "code",
   "execution_count": 62,
   "id": "5ece95b9",
   "metadata": {},
   "outputs": [
    {
     "data": {
      "text/html": [
       "<div>\n",
       "<style scoped>\n",
       "    .dataframe tbody tr th:only-of-type {\n",
       "        vertical-align: middle;\n",
       "    }\n",
       "\n",
       "    .dataframe tbody tr th {\n",
       "        vertical-align: top;\n",
       "    }\n",
       "\n",
       "    .dataframe thead th {\n",
       "        text-align: right;\n",
       "    }\n",
       "</style>\n",
       "<table border=\"1\" class=\"dataframe\">\n",
       "  <thead>\n",
       "    <tr style=\"text-align: right;\">\n",
       "      <th></th>\n",
       "      <th>ram</th>\n",
       "      <th>p_cam</th>\n",
       "      <th>f_cam</th>\n",
       "      <th>battery_power</th>\n",
       "      <th>mob_width</th>\n",
       "      <th>mob_height</th>\n",
       "      <th>mob_depth</th>\n",
       "      <th>mob_weight</th>\n",
       "      <th>Brand</th>\n",
       "      <th>5G_connectivity</th>\n",
       "      <th>VOLTE_connectivity</th>\n",
       "      <th>4G_connectivity</th>\n",
       "      <th>3G_connectivity</th>\n",
       "      <th>2G_connectivity</th>\n",
       "    </tr>\n",
       "  </thead>\n",
       "  <tbody>\n",
       "    <tr>\n",
       "      <th>0</th>\n",
       "      <td>3</td>\n",
       "      <td>12MP + 2MP + 2MP</td>\n",
       "      <td>5MP Front Camera</td>\n",
       "      <td>5000 mAh</td>\n",
       "      <td>75 mm</td>\n",
       "      <td>164.4 mm</td>\n",
       "      <td>8.95 mm</td>\n",
       "      <td>195 g</td>\n",
       "      <td>Realme</td>\n",
       "      <td>No</td>\n",
       "      <td>Yes</td>\n",
       "      <td>No</td>\n",
       "      <td>Yes</td>\n",
       "      <td>Yes</td>\n",
       "    </tr>\n",
       "    <tr>\n",
       "      <th>1</th>\n",
       "      <td>3</td>\n",
       "      <td>12MP + 2MP + 2MP</td>\n",
       "      <td>5MP Front Camera</td>\n",
       "      <td>5000 mAh</td>\n",
       "      <td>75 mm</td>\n",
       "      <td>164.4 mm</td>\n",
       "      <td>8.95 mm</td>\n",
       "      <td>195 g</td>\n",
       "      <td>Realme</td>\n",
       "      <td>No</td>\n",
       "      <td>Yes</td>\n",
       "      <td>No</td>\n",
       "      <td>Yes</td>\n",
       "      <td>Yes</td>\n",
       "    </tr>\n",
       "    <tr>\n",
       "      <th>2</th>\n",
       "      <td>4</td>\n",
       "      <td>12MP + 2MP + 2MP</td>\n",
       "      <td>5MP Front Camera</td>\n",
       "      <td>5000 mAh</td>\n",
       "      <td>75 mm</td>\n",
       "      <td>164.4 mm</td>\n",
       "      <td>8.95 mm</td>\n",
       "      <td>195 g</td>\n",
       "      <td>Realme</td>\n",
       "      <td>No</td>\n",
       "      <td>Yes</td>\n",
       "      <td>No</td>\n",
       "      <td>Yes</td>\n",
       "      <td>Yes</td>\n",
       "    </tr>\n",
       "    <tr>\n",
       "      <th>3</th>\n",
       "      <td>4</td>\n",
       "      <td>12MP + 2MP + 2MP</td>\n",
       "      <td>5MP Front Camera</td>\n",
       "      <td>5000 mAh</td>\n",
       "      <td>75 mm</td>\n",
       "      <td>164.4 mm</td>\n",
       "      <td>8.95 mm</td>\n",
       "      <td>195 g</td>\n",
       "      <td>Realme</td>\n",
       "      <td>No</td>\n",
       "      <td>Yes</td>\n",
       "      <td>No</td>\n",
       "      <td>Yes</td>\n",
       "      <td>Yes</td>\n",
       "    </tr>\n",
       "    <tr>\n",
       "      <th>4</th>\n",
       "      <td>4</td>\n",
       "      <td>48MP + 8MP + 2MP + 2MP</td>\n",
       "      <td>16MP Front Camera</td>\n",
       "      <td>5000 mAh</td>\n",
       "      <td>75.4 mm</td>\n",
       "      <td>164.4 mm</td>\n",
       "      <td>9 mm</td>\n",
       "      <td>199 g</td>\n",
       "      <td>Realme</td>\n",
       "      <td>No</td>\n",
       "      <td>Yes</td>\n",
       "      <td>No</td>\n",
       "      <td>Yes</td>\n",
       "      <td>Yes</td>\n",
       "    </tr>\n",
       "  </tbody>\n",
       "</table>\n",
       "</div>"
      ],
      "text/plain": [
       "   ram                   p_cam              f_cam battery_power mob_width  \\\n",
       "0    3        12MP + 2MP + 2MP   5MP Front Camera      5000 mAh     75 mm   \n",
       "1    3        12MP + 2MP + 2MP   5MP Front Camera      5000 mAh     75 mm   \n",
       "2    4        12MP + 2MP + 2MP   5MP Front Camera      5000 mAh     75 mm   \n",
       "3    4        12MP + 2MP + 2MP   5MP Front Camera      5000 mAh     75 mm   \n",
       "4    4  48MP + 8MP + 2MP + 2MP  16MP Front Camera      5000 mAh   75.4 mm   \n",
       "\n",
       "  mob_height mob_depth mob_weight   Brand 5G_connectivity VOLTE_connectivity  \\\n",
       "0   164.4 mm   8.95 mm      195 g  Realme              No                Yes   \n",
       "1   164.4 mm   8.95 mm      195 g  Realme              No                Yes   \n",
       "2   164.4 mm   8.95 mm      195 g  Realme              No                Yes   \n",
       "3   164.4 mm   8.95 mm      195 g  Realme              No                Yes   \n",
       "4   164.4 mm      9 mm      199 g  Realme              No                Yes   \n",
       "\n",
       "  4G_connectivity 3G_connectivity 2G_connectivity  \n",
       "0              No             Yes             Yes  \n",
       "1              No             Yes             Yes  \n",
       "2              No             Yes             Yes  \n",
       "3              No             Yes             Yes  \n",
       "4              No             Yes             Yes  "
      ]
     },
     "execution_count": 62,
     "metadata": {},
     "output_type": "execute_result"
    }
   ],
   "source": [
    "df.iloc[:,10:].head()"
   ]
  },
  {
   "cell_type": "code",
   "execution_count": 63,
   "id": "30eb1d2d",
   "metadata": {},
   "outputs": [
    {
     "name": "stdout",
     "output_type": "stream",
     "text": [
      "49\n",
      "108MP Rear Camera\n",
      "12MP + 13MP\n",
      "12MP + 20MP\n",
      "12MP + 2MP\n",
      "12MP + 2MP + 2MP\n",
      "12MP + 5MP\n",
      "12MP + 5MP + 8MP\n",
      "12MP + 8MP + 2MP + 2MP\n",
      "12MP Rear Camera\n",
      "13 MP + 2 MP + 2 MP + Low Light Sensor\n",
      "13MP + 2MP\n",
      "13MP + 2MP + 8MP\n",
      "13MP + 2MP Depth Sensor + 8MP Wide Angle sensor\n",
      "13MP + 8MP + 2MP\n",
      "13MP + 8MP + 2MP + 2MP\n",
      "13MP Rear Camera\n",
      "16MP + 20MP\n",
      "16MP + 2MP\n",
      "16MP + 2MP + 8MP\n",
      "16MP + 2MP + Low Light Sensor\n",
      "16MP + 5MP\n",
      "16MP + 5MP + 2MP + Low Light Sensor\n",
      "16MP + 8MP + 2MP\n",
      "16MP Rear Camera\n",
      "20MP + 12MP\n",
      "48 MP + 2 MP + 2 MP + Low Light Sensor\n",
      "48 Million Quad Pixel Sensor (12 Million Effective Pixel) + 8MP + 5MP, AI Triple Rear Camera\n",
      "48MP + 12MP + 5MP\n",
      "48MP + 13MP + 8MP\n",
      "48MP + 13MP + 8MP + 2MP\n",
      "48MP + 2MP + Low Light Sensor\n",
      "48MP + 5MP\n",
      "48MP + 5MP + 8MP\n",
      "48MP + 8MP\n",
      "48MP + 8MP + 13MP + 2MP\n",
      "48MP + 8MP + 2MP\n",
      "48MP + 8MP + 2MP + 2MP\n",
      "48MP + 8MP + 2MP + 2MP Quad Camera\n",
      "48MP + 8MP + 5MP\n",
      "48MP + 8MP + 5MP + 2MP\n",
      "5MP Rear Camera\n",
      "64MP + 12MP + 8MP + 2MP\n",
      "64MP + 13MP + 8MP + 2MP\n",
      "64MP + 8MP + 2MP + 2MP\n",
      "64MP + 8MP + 2MP + 2MP Quad Camera\n",
      "64MP + 8MP + 5MP + 2MP\n",
      "64MP + 8MP + 5MP + 5MP\n",
      "64MP + 8MP + 8MP + 2MP\n",
      "8MP Rear Camera\n"
     ]
    }
   ],
   "source": [
    "print(df['p_cam'].nunique())\n",
    "for i in df['p_cam'].sort_values().unique():\n",
    "    print(i)"
   ]
  },
  {
   "cell_type": "code",
   "execution_count": 64,
   "id": "5bf010bb",
   "metadata": {},
   "outputs": [],
   "source": [
    "df_backup1=df.copy()"
   ]
  },
  {
   "cell_type": "code",
   "execution_count": 65,
   "id": "7087e37e",
   "metadata": {},
   "outputs": [],
   "source": [
    "df=df_backup1"
   ]
  },
  {
   "cell_type": "code",
   "execution_count": 66,
   "id": "835ccef1",
   "metadata": {},
   "outputs": [
    {
     "name": "stdout",
     "output_type": "stream",
     "text": [
      "45\n",
      "108MP Rear Camera\n",
      "12MP + 13MP\n",
      "12MP + 20MP\n",
      "12MP + 2MP\n",
      "12MP + 2MP + 2MP\n",
      "12MP + 5MP\n",
      "12MP + 5MP + 8MP\n",
      "12MP + 8MP + 2MP + 2MP\n",
      "12MP Rear Camera\n",
      "13 MP + 2 MP + 2 MP + Low Light Sensor\n",
      "13MP + 2MP\n",
      "13MP + 8MP + 2MP\n",
      "13MP + 8MP + 2MP + 2MP\n",
      "13MP Rear Camera\n",
      "16MP + 20MP\n",
      "16MP + 2MP\n",
      "16MP + 2MP + 8MP\n",
      "16MP + 2MP + Low Light Sensor\n",
      "16MP + 5MP\n",
      "16MP + 5MP + 2MP + Low Light Sensor\n",
      "16MP + 8MP + 2MP\n",
      "16MP Rear Camera\n",
      "20MP + 12MP\n",
      "48 MP + 2 MP + 2 MP + Low Light Sensor\n",
      "48MP + 12MP + 5MP\n",
      "48MP + 13MP + 8MP\n",
      "48MP + 13MP + 8MP + 2MP\n",
      "48MP + 2MP + Low Light Sensor\n",
      "48MP + 5MP\n",
      "48MP + 5MP + 8MP\n",
      "48MP + 8MP\n",
      "48MP + 8MP + 13MP + 2MP\n",
      "48MP + 8MP + 2MP\n",
      "48MP + 8MP + 2MP + 2MP\n",
      "48MP + 8MP + 5MP\n",
      "48MP + 8MP + 5MP + 2MP\n",
      "5MP Rear Camera\n",
      "64MP + 12MP + 8MP + 2MP\n",
      "64MP + 13MP + 8MP + 2MP\n",
      "64MP + 8MP + 2MP + 2MP\n",
      "64MP + 8MP + 2MP + 2MP Quad Camera\n",
      "64MP + 8MP + 5MP + 2MP\n",
      "64MP + 8MP + 5MP + 5MP\n",
      "64MP + 8MP + 8MP + 2MP\n",
      "8MP Rear Camera\n"
     ]
    }
   ],
   "source": [
    "df['p_cam']=df['p_cam'].replace('48 Million Quad Pixel Sensor (12 Million Effective Pixel) + 8MP + 5MP, AI Triple Rear Camera','48MP + 8MP + 5MP')\n",
    "df['p_cam']=df['p_cam'].replace(['48MP + 8MP + 2MP + 2MP','48MP + 8MP + 2MP + 2MP Quad Camera'],'48MP + 8MP + 2MP + 2MP')\n",
    "df['p_cam']=df['p_cam'].replace(['64MP + 8MP + 2MP + 2MP','48MP + 8MP + 2MP + 2MP Quad Camera'],'64MP + 8MP + 2MP + 2MP')\n",
    "df['p_cam']=df['p_cam'].replace(['13MP + 2MP + 8MP','13MP + 2MP Depth Sensor + 8MP Wide Angle sensor','13MP + 8MP + 2MP'],'13MP + 8MP + 2MP')\n",
    "\n",
    "print(df['p_cam'].nunique())\n",
    "for i in df['p_cam'].sort_values().unique():\n",
    "    print(i)"
   ]
  },
  {
   "cell_type": "code",
   "execution_count": 67,
   "id": "9fd2f565",
   "metadata": {},
   "outputs": [],
   "source": [
    "df['p_cam']=df['p_cam'].str.replace('108MP Rear Camera','108MP')\n",
    "df['p_cam']=df['p_cam'].str.replace('12MP Rear Camera','12MP')\n",
    "df['p_cam']=df['p_cam'].str.replace('13MP Rear Camera','13MP')\n",
    "df['p_cam']=df['p_cam'].str.replace('16MP Rear Camera','16MP')\n",
    "df['p_cam']=df['p_cam'].str.replace('5MP Rear Camera','5MP')\n",
    "df['p_cam']=df['p_cam'].str.replace('8MP Rear Camera','8MP')"
   ]
  },
  {
   "cell_type": "code",
   "execution_count": 68,
   "id": "23b9b095",
   "metadata": {},
   "outputs": [],
   "source": [
    "df[['primary_cam','secondary_cam','tertiary_cam','quaternary_cam']]=df['p_cam'].str.split('+', expand=True)\n",
    "\n",
    "cols=['primary_cam','secondary_cam','tertiary_cam','quaternary_cam']\n",
    "for i in cols:\n",
    "    df[i]=df[i].str.replace('MP','').str.strip()"
   ]
  },
  {
   "cell_type": "code",
   "execution_count": 69,
   "id": "4a89b9ee",
   "metadata": {},
   "outputs": [],
   "source": [
    "df['Low_light_sensor']=df['tertiary_cam'].str.contains('Low Light Sensor').map({True: 'Yes', False: 'No'})\n",
    "df['Low_light_sensor']=df['quaternary_cam'].str.contains('Low Light Sensor').map({True: 'Yes', False: 'No'})\n",
    "df['tertiary_cam']=df['tertiary_cam'].replace('Low Light Sensor',None)\n",
    "df['quaternary_cam']=df['quaternary_cam'].replace('Low Light Sensor',None)\n",
    "df['quaternary_cam']=df['quaternary_cam'].replace('2 Quad Camera','2')\n",
    "df['Low_light_sensor']=df['Low_light_sensor'].replace(np.NaN,'No')"
   ]
  },
  {
   "cell_type": "code",
   "execution_count": 70,
   "id": "74242f41",
   "metadata": {},
   "outputs": [
    {
     "name": "stdout",
     "output_type": "stream",
     "text": [
      "primary_cam\n",
      "['12' '48' '64' '16' '13' '20' '108' '8' '5']\n",
      "\n",
      "secondary_cam\n",
      "['2' '8' '13' '12' '5' None '20']\n",
      "\n",
      "tertiary_cam\n",
      "['2' '8' None '5' '13']\n",
      "\n",
      "quaternary_cam\n",
      "[None '2' '5']\n",
      "\n"
     ]
    }
   ],
   "source": [
    "for i in cols:\n",
    "    print(i)\n",
    "    print(df[i].unique())\n",
    "    print()"
   ]
  },
  {
   "cell_type": "code",
   "execution_count": 71,
   "id": "e4aac55d",
   "metadata": {},
   "outputs": [
    {
     "name": "stdout",
     "output_type": "stream",
     "text": [
      "primary_cam\n",
      "[ 12  48  64  16  13  20 108   8   5]\n",
      "\n",
      "secondary_cam\n",
      "[ 2  8 13 12  5  0 20]\n",
      "\n",
      "tertiary_cam\n",
      "[ 2  8  0  5 13]\n",
      "\n",
      "quaternary_cam\n",
      "[0 2 5]\n",
      "\n"
     ]
    }
   ],
   "source": [
    "for i in cols:\n",
    "    df[i]=df[i].fillna(0)\n",
    "\n",
    "for i in cols:\n",
    "    df[i]=df[i].astype('int32')\n",
    "\n",
    "for i in cols:\n",
    "    print(i)\n",
    "    print(df[i].unique())\n",
    "    print()"
   ]
  },
  {
   "cell_type": "code",
   "execution_count": 72,
   "id": "f19fe65a",
   "metadata": {},
   "outputs": [],
   "source": [
    "df.drop('p_cam',axis=1,inplace=True)"
   ]
  },
  {
   "cell_type": "code",
   "execution_count": 73,
   "id": "f66e8bf5",
   "metadata": {},
   "outputs": [],
   "source": [
    "df_backup2=df.copy()"
   ]
  },
  {
   "cell_type": "code",
   "execution_count": 74,
   "id": "f29ff4d7",
   "metadata": {},
   "outputs": [],
   "source": [
    "df=df_backup2"
   ]
  },
  {
   "cell_type": "code",
   "execution_count": 75,
   "id": "250ac636",
   "metadata": {},
   "outputs": [
    {
     "data": {
      "text/plain": [
       "array(['5MP Front Camera', '16MP Front Camera',\n",
       "       '32MP + 8MP Dual Front Camera', '16MP + 8MP Dual Front Camera',\n",
       "       '13MP Front Camera', '32MP Front Camera', '8MP Front Camera',\n",
       "       '20MP Front Camera', '20MP + 2MP Dual Front Camera',\n",
       "       '2MP Front Camera', '8MP Dual Front Camera', '25MP Front Camera',\n",
       "       '24MP Front Camera', '13MP + 2MP Dual Front Camera',\n",
       "       '44MP + 2MP Dual Front Camera'], dtype=object)"
      ]
     },
     "execution_count": 75,
     "metadata": {},
     "output_type": "execute_result"
    }
   ],
   "source": [
    "df['f_cam'].unique()"
   ]
  },
  {
   "cell_type": "code",
   "execution_count": 76,
   "id": "da06c624",
   "metadata": {},
   "outputs": [
    {
     "data": {
      "text/plain": [
       "array(['5MP', '16MP', '32MP + 8MP', '16MP + 8MP', '13MP', '32MP', '8MP',\n",
       "       '20MP', '20MP + 2MP', '2MP', '25MP', '24MP', '13MP + 2MP',\n",
       "       '44MP + 2MP'], dtype=object)"
      ]
     },
     "execution_count": 76,
     "metadata": {},
     "output_type": "execute_result"
    }
   ],
   "source": [
    "df['f_cam']=df['f_cam'].str.replace('Front Camera','')\n",
    "df['f_cam']=df['f_cam'].str.replace(' Dual ','')\n",
    "df['f_cam']=df['f_cam'].str.strip()\n",
    "df['f_cam'].unique()"
   ]
  },
  {
   "cell_type": "code",
   "execution_count": 77,
   "id": "1cf890f0",
   "metadata": {},
   "outputs": [],
   "source": [
    "df['f_cam_primary']=df['f_cam'].str.split('+').str[0]\n",
    "df['f_cam_secondary']=df['f_cam'].str.split('+').str[1]\n",
    "\n",
    "df['f_cam_primary']=df['f_cam_primary'].str.replace('MP','')\n",
    "df['f_cam_secondary']=df['f_cam_secondary'].str.replace('MP','')\n",
    "\n",
    "df['f_cam_secondary']=df['f_cam_secondary'].replace(np.NaN,0)\n",
    "df['f_cam_primary']=df['f_cam_primary'].astype('int16')\n",
    "df['f_cam_secondary']=df['f_cam_secondary'].astype('int16')"
   ]
  },
  {
   "cell_type": "code",
   "execution_count": 78,
   "id": "27aecaba",
   "metadata": {},
   "outputs": [],
   "source": [
    "df.drop('f_cam',axis=1,inplace=True)"
   ]
  },
  {
   "cell_type": "code",
   "execution_count": 79,
   "id": "9cb1f545",
   "metadata": {},
   "outputs": [],
   "source": [
    "df_backup3=df.copy()"
   ]
  },
  {
   "cell_type": "code",
   "execution_count": 80,
   "id": "5538eb3a",
   "metadata": {},
   "outputs": [],
   "source": [
    "df=df_backup3"
   ]
  },
  {
   "cell_type": "code",
   "execution_count": 81,
   "id": "d4ed3819",
   "metadata": {},
   "outputs": [],
   "source": [
    "df['battery_power']=df['battery_power'].str.split(' ').str[0]\n",
    "df['battery_power']=df['battery_power'].astype('int32')"
   ]
  },
  {
   "cell_type": "code",
   "execution_count": 82,
   "id": "d65c5a52",
   "metadata": {},
   "outputs": [],
   "source": [
    "df['mob_height']=df['mob_height'].str.split(' ').str[0]\n",
    "df['mob_height']=df['mob_height'].astype('float')"
   ]
  },
  {
   "cell_type": "code",
   "execution_count": 83,
   "id": "5df915b1",
   "metadata": {},
   "outputs": [],
   "source": [
    "df['mob_width']=df['mob_width'].str.split(' ').str[0]\n",
    "df['mob_width']=df['mob_width'].astype('float')"
   ]
  },
  {
   "cell_type": "code",
   "execution_count": 84,
   "id": "3c81daa7",
   "metadata": {},
   "outputs": [],
   "source": [
    "df['mob_depth']=df['mob_depth'].str.split(' ').str[0]\n",
    "df['mob_depth']=df['mob_depth'].astype('float')"
   ]
  },
  {
   "cell_type": "code",
   "execution_count": 85,
   "id": "fc702c6b",
   "metadata": {},
   "outputs": [
    {
     "data": {
      "text/plain": [
       "8.800     48\n",
       "8.100     28\n",
       "8.300     28\n",
       "9.300     22\n",
       "7.900     21\n",
       "8.200     17\n",
       "8.280     16\n",
       "8.700     16\n",
       "8.920     14\n",
       "8.900     14\n",
       "8.050     13\n",
       "8.500     13\n",
       "8.400     12\n",
       "7.700     12\n",
       "8.790     11\n",
       "9.400     11\n",
       "7.300     10\n",
       "8.130      9\n",
       "8.850      9\n",
       "7.800      9\n",
       "7.890      8\n",
       "8.950      8\n",
       "8.600      8\n",
       "8.475      6\n",
       "92.000     6\n",
       "75.300     5\n",
       "9.100      5\n",
       "9.000      5\n",
       "8.650      5\n",
       "9.600      5\n",
       "8.260      5\n",
       "7.990      4\n",
       "7.770      4\n",
       "9.550      4\n",
       "8.960      4\n",
       "8.540      3\n",
       "7.600      3\n",
       "7.380      3\n",
       "7.400      3\n",
       "9.650      3\n",
       "7.950      3\n",
       "8.210      3\n",
       "8.680      3\n",
       "8.350      3\n",
       "75.000     2\n",
       "7.500      2\n",
       "9.110      2\n",
       "8.470      2\n",
       "8.550      2\n",
       "9.800      2\n",
       "9.500      1\n",
       "8.670      1\n",
       "7.980      1\n",
       "8.890      1\n",
       "76.000     1\n",
       "Name: mob_depth, dtype: int64"
      ]
     },
     "execution_count": 85,
     "metadata": {},
     "output_type": "execute_result"
    }
   ],
   "source": [
    "df['mob_depth'].value_counts()"
   ]
  },
  {
   "cell_type": "code",
   "execution_count": 86,
   "id": "ab3bd4f8",
   "metadata": {},
   "outputs": [
    {
     "data": {
      "text/html": [
       "<div>\n",
       "<style scoped>\n",
       "    .dataframe tbody tr th:only-of-type {\n",
       "        vertical-align: middle;\n",
       "    }\n",
       "\n",
       "    .dataframe tbody tr th {\n",
       "        vertical-align: top;\n",
       "    }\n",
       "\n",
       "    .dataframe thead th {\n",
       "        text-align: right;\n",
       "    }\n",
       "</style>\n",
       "<table border=\"1\" class=\"dataframe\">\n",
       "  <thead>\n",
       "    <tr style=\"text-align: right;\">\n",
       "      <th></th>\n",
       "      <th>ram</th>\n",
       "      <th>battery_power</th>\n",
       "      <th>mob_width</th>\n",
       "      <th>mob_height</th>\n",
       "      <th>mob_depth</th>\n",
       "      <th>mob_weight</th>\n",
       "      <th>Brand</th>\n",
       "      <th>5G_connectivity</th>\n",
       "      <th>VOLTE_connectivity</th>\n",
       "      <th>4G_connectivity</th>\n",
       "      <th>3G_connectivity</th>\n",
       "      <th>2G_connectivity</th>\n",
       "      <th>primary_cam</th>\n",
       "      <th>secondary_cam</th>\n",
       "      <th>tertiary_cam</th>\n",
       "      <th>quaternary_cam</th>\n",
       "      <th>Low_light_sensor</th>\n",
       "      <th>f_cam_primary</th>\n",
       "      <th>f_cam_secondary</th>\n",
       "    </tr>\n",
       "  </thead>\n",
       "  <tbody>\n",
       "    <tr>\n",
       "      <th>116</th>\n",
       "      <td>2</td>\n",
       "      <td>5000</td>\n",
       "      <td>9.00</td>\n",
       "      <td>175.00</td>\n",
       "      <td>92.0</td>\n",
       "      <td>186 g</td>\n",
       "      <td>Redmi</td>\n",
       "      <td>No</td>\n",
       "      <td>Yes</td>\n",
       "      <td>No</td>\n",
       "      <td>Yes</td>\n",
       "      <td>Yes</td>\n",
       "      <td>13</td>\n",
       "      <td>2</td>\n",
       "      <td>0</td>\n",
       "      <td>0</td>\n",
       "      <td>No</td>\n",
       "      <td>8</td>\n",
       "      <td>0</td>\n",
       "    </tr>\n",
       "    <tr>\n",
       "      <th>117</th>\n",
       "      <td>3</td>\n",
       "      <td>5000</td>\n",
       "      <td>9.00</td>\n",
       "      <td>175.00</td>\n",
       "      <td>92.0</td>\n",
       "      <td>186 g</td>\n",
       "      <td>Redmi</td>\n",
       "      <td>No</td>\n",
       "      <td>Yes</td>\n",
       "      <td>No</td>\n",
       "      <td>Yes</td>\n",
       "      <td>Yes</td>\n",
       "      <td>13</td>\n",
       "      <td>2</td>\n",
       "      <td>0</td>\n",
       "      <td>0</td>\n",
       "      <td>No</td>\n",
       "      <td>8</td>\n",
       "      <td>0</td>\n",
       "    </tr>\n",
       "    <tr>\n",
       "      <th>118</th>\n",
       "      <td>4</td>\n",
       "      <td>4000</td>\n",
       "      <td>8.35</td>\n",
       "      <td>158.30</td>\n",
       "      <td>75.3</td>\n",
       "      <td>190 g</td>\n",
       "      <td>Redmi</td>\n",
       "      <td>No</td>\n",
       "      <td>Yes</td>\n",
       "      <td>No</td>\n",
       "      <td>Yes</td>\n",
       "      <td>Yes</td>\n",
       "      <td>48</td>\n",
       "      <td>8</td>\n",
       "      <td>0</td>\n",
       "      <td>0</td>\n",
       "      <td>No</td>\n",
       "      <td>13</td>\n",
       "      <td>0</td>\n",
       "    </tr>\n",
       "    <tr>\n",
       "      <th>119</th>\n",
       "      <td>6</td>\n",
       "      <td>4000</td>\n",
       "      <td>8.35</td>\n",
       "      <td>158.30</td>\n",
       "      <td>75.3</td>\n",
       "      <td>190 g</td>\n",
       "      <td>Redmi</td>\n",
       "      <td>No</td>\n",
       "      <td>Yes</td>\n",
       "      <td>No</td>\n",
       "      <td>Yes</td>\n",
       "      <td>Yes</td>\n",
       "      <td>48</td>\n",
       "      <td>8</td>\n",
       "      <td>0</td>\n",
       "      <td>0</td>\n",
       "      <td>No</td>\n",
       "      <td>13</td>\n",
       "      <td>0</td>\n",
       "    </tr>\n",
       "    <tr>\n",
       "      <th>120</th>\n",
       "      <td>3</td>\n",
       "      <td>4000</td>\n",
       "      <td>8.35</td>\n",
       "      <td>158.30</td>\n",
       "      <td>75.3</td>\n",
       "      <td>190 g</td>\n",
       "      <td>Redmi</td>\n",
       "      <td>No</td>\n",
       "      <td>Yes</td>\n",
       "      <td>No</td>\n",
       "      <td>Yes</td>\n",
       "      <td>Yes</td>\n",
       "      <td>48</td>\n",
       "      <td>8</td>\n",
       "      <td>0</td>\n",
       "      <td>0</td>\n",
       "      <td>No</td>\n",
       "      <td>13</td>\n",
       "      <td>0</td>\n",
       "    </tr>\n",
       "    <tr>\n",
       "      <th>123</th>\n",
       "      <td>4</td>\n",
       "      <td>4000</td>\n",
       "      <td>8.35</td>\n",
       "      <td>158.30</td>\n",
       "      <td>75.3</td>\n",
       "      <td>190 g</td>\n",
       "      <td>Redmi</td>\n",
       "      <td>No</td>\n",
       "      <td>Yes</td>\n",
       "      <td>No</td>\n",
       "      <td>Yes</td>\n",
       "      <td>Yes</td>\n",
       "      <td>48</td>\n",
       "      <td>8</td>\n",
       "      <td>0</td>\n",
       "      <td>0</td>\n",
       "      <td>No</td>\n",
       "      <td>13</td>\n",
       "      <td>0</td>\n",
       "    </tr>\n",
       "    <tr>\n",
       "      <th>124</th>\n",
       "      <td>4</td>\n",
       "      <td>4000</td>\n",
       "      <td>8.35</td>\n",
       "      <td>158.30</td>\n",
       "      <td>75.3</td>\n",
       "      <td>190 g</td>\n",
       "      <td>Redmi</td>\n",
       "      <td>No</td>\n",
       "      <td>Yes</td>\n",
       "      <td>No</td>\n",
       "      <td>Yes</td>\n",
       "      <td>Yes</td>\n",
       "      <td>48</td>\n",
       "      <td>8</td>\n",
       "      <td>0</td>\n",
       "      <td>0</td>\n",
       "      <td>No</td>\n",
       "      <td>13</td>\n",
       "      <td>0</td>\n",
       "    </tr>\n",
       "    <tr>\n",
       "      <th>125</th>\n",
       "      <td>3</td>\n",
       "      <td>5000</td>\n",
       "      <td>9.00</td>\n",
       "      <td>175.00</td>\n",
       "      <td>92.0</td>\n",
       "      <td>186 g</td>\n",
       "      <td>Redmi</td>\n",
       "      <td>No</td>\n",
       "      <td>Yes</td>\n",
       "      <td>No</td>\n",
       "      <td>Yes</td>\n",
       "      <td>Yes</td>\n",
       "      <td>13</td>\n",
       "      <td>2</td>\n",
       "      <td>0</td>\n",
       "      <td>0</td>\n",
       "      <td>No</td>\n",
       "      <td>8</td>\n",
       "      <td>0</td>\n",
       "    </tr>\n",
       "    <tr>\n",
       "      <th>130</th>\n",
       "      <td>3</td>\n",
       "      <td>5000</td>\n",
       "      <td>9.00</td>\n",
       "      <td>175.00</td>\n",
       "      <td>92.0</td>\n",
       "      <td>186 g</td>\n",
       "      <td>Redmi</td>\n",
       "      <td>No</td>\n",
       "      <td>Yes</td>\n",
       "      <td>No</td>\n",
       "      <td>Yes</td>\n",
       "      <td>Yes</td>\n",
       "      <td>13</td>\n",
       "      <td>2</td>\n",
       "      <td>0</td>\n",
       "      <td>0</td>\n",
       "      <td>No</td>\n",
       "      <td>8</td>\n",
       "      <td>0</td>\n",
       "    </tr>\n",
       "    <tr>\n",
       "      <th>179</th>\n",
       "      <td>2</td>\n",
       "      <td>5000</td>\n",
       "      <td>9.00</td>\n",
       "      <td>175.00</td>\n",
       "      <td>92.0</td>\n",
       "      <td>186 g</td>\n",
       "      <td>Redmi</td>\n",
       "      <td>No</td>\n",
       "      <td>Yes</td>\n",
       "      <td>No</td>\n",
       "      <td>Yes</td>\n",
       "      <td>Yes</td>\n",
       "      <td>13</td>\n",
       "      <td>2</td>\n",
       "      <td>0</td>\n",
       "      <td>0</td>\n",
       "      <td>No</td>\n",
       "      <td>8</td>\n",
       "      <td>0</td>\n",
       "    </tr>\n",
       "    <tr>\n",
       "      <th>180</th>\n",
       "      <td>2</td>\n",
       "      <td>5000</td>\n",
       "      <td>9.00</td>\n",
       "      <td>175.00</td>\n",
       "      <td>92.0</td>\n",
       "      <td>186 g</td>\n",
       "      <td>Redmi</td>\n",
       "      <td>No</td>\n",
       "      <td>Yes</td>\n",
       "      <td>No</td>\n",
       "      <td>Yes</td>\n",
       "      <td>Yes</td>\n",
       "      <td>13</td>\n",
       "      <td>2</td>\n",
       "      <td>0</td>\n",
       "      <td>0</td>\n",
       "      <td>No</td>\n",
       "      <td>8</td>\n",
       "      <td>0</td>\n",
       "    </tr>\n",
       "    <tr>\n",
       "      <th>289</th>\n",
       "      <td>4</td>\n",
       "      <td>6000</td>\n",
       "      <td>159.00</td>\n",
       "      <td>9.00</td>\n",
       "      <td>75.0</td>\n",
       "      <td>186 g</td>\n",
       "      <td>Samsung</td>\n",
       "      <td>No</td>\n",
       "      <td>Yes</td>\n",
       "      <td>No</td>\n",
       "      <td>Yes</td>\n",
       "      <td>Yes</td>\n",
       "      <td>48</td>\n",
       "      <td>8</td>\n",
       "      <td>0</td>\n",
       "      <td>0</td>\n",
       "      <td>No</td>\n",
       "      <td>16</td>\n",
       "      <td>0</td>\n",
       "    </tr>\n",
       "    <tr>\n",
       "      <th>299</th>\n",
       "      <td>6</td>\n",
       "      <td>6000</td>\n",
       "      <td>9.00</td>\n",
       "      <td>159.00</td>\n",
       "      <td>75.0</td>\n",
       "      <td>191 g</td>\n",
       "      <td>Samsung</td>\n",
       "      <td>No</td>\n",
       "      <td>Yes</td>\n",
       "      <td>No</td>\n",
       "      <td>Yes</td>\n",
       "      <td>Yes</td>\n",
       "      <td>64</td>\n",
       "      <td>8</td>\n",
       "      <td>5</td>\n",
       "      <td>5</td>\n",
       "      <td>No</td>\n",
       "      <td>32</td>\n",
       "      <td>0</td>\n",
       "    </tr>\n",
       "    <tr>\n",
       "      <th>435</th>\n",
       "      <td>3</td>\n",
       "      <td>3075</td>\n",
       "      <td>154.50</td>\n",
       "      <td>7.38</td>\n",
       "      <td>76.0</td>\n",
       "      <td>160 g</td>\n",
       "      <td>OPPO</td>\n",
       "      <td>No</td>\n",
       "      <td>Yes</td>\n",
       "      <td>No</td>\n",
       "      <td>Yes</td>\n",
       "      <td>Yes</td>\n",
       "      <td>13</td>\n",
       "      <td>0</td>\n",
       "      <td>0</td>\n",
       "      <td>0</td>\n",
       "      <td>No</td>\n",
       "      <td>16</td>\n",
       "      <td>0</td>\n",
       "    </tr>\n",
       "  </tbody>\n",
       "</table>\n",
       "</div>"
      ],
      "text/plain": [
       "     ram  battery_power  mob_width  mob_height  mob_depth mob_weight    Brand  \\\n",
       "116    2           5000       9.00      175.00       92.0      186 g    Redmi   \n",
       "117    3           5000       9.00      175.00       92.0      186 g    Redmi   \n",
       "118    4           4000       8.35      158.30       75.3      190 g    Redmi   \n",
       "119    6           4000       8.35      158.30       75.3      190 g    Redmi   \n",
       "120    3           4000       8.35      158.30       75.3      190 g    Redmi   \n",
       "123    4           4000       8.35      158.30       75.3      190 g    Redmi   \n",
       "124    4           4000       8.35      158.30       75.3      190 g    Redmi   \n",
       "125    3           5000       9.00      175.00       92.0      186 g    Redmi   \n",
       "130    3           5000       9.00      175.00       92.0      186 g    Redmi   \n",
       "179    2           5000       9.00      175.00       92.0      186 g    Redmi   \n",
       "180    2           5000       9.00      175.00       92.0      186 g    Redmi   \n",
       "289    4           6000     159.00        9.00       75.0      186 g  Samsung   \n",
       "299    6           6000       9.00      159.00       75.0      191 g  Samsung   \n",
       "435    3           3075     154.50        7.38       76.0      160 g     OPPO   \n",
       "\n",
       "    5G_connectivity VOLTE_connectivity 4G_connectivity 3G_connectivity  \\\n",
       "116              No                Yes              No             Yes   \n",
       "117              No                Yes              No             Yes   \n",
       "118              No                Yes              No             Yes   \n",
       "119              No                Yes              No             Yes   \n",
       "120              No                Yes              No             Yes   \n",
       "123              No                Yes              No             Yes   \n",
       "124              No                Yes              No             Yes   \n",
       "125              No                Yes              No             Yes   \n",
       "130              No                Yes              No             Yes   \n",
       "179              No                Yes              No             Yes   \n",
       "180              No                Yes              No             Yes   \n",
       "289              No                Yes              No             Yes   \n",
       "299              No                Yes              No             Yes   \n",
       "435              No                Yes              No             Yes   \n",
       "\n",
       "    2G_connectivity  primary_cam  secondary_cam  tertiary_cam  quaternary_cam  \\\n",
       "116             Yes           13              2             0               0   \n",
       "117             Yes           13              2             0               0   \n",
       "118             Yes           48              8             0               0   \n",
       "119             Yes           48              8             0               0   \n",
       "120             Yes           48              8             0               0   \n",
       "123             Yes           48              8             0               0   \n",
       "124             Yes           48              8             0               0   \n",
       "125             Yes           13              2             0               0   \n",
       "130             Yes           13              2             0               0   \n",
       "179             Yes           13              2             0               0   \n",
       "180             Yes           13              2             0               0   \n",
       "289             Yes           48              8             0               0   \n",
       "299             Yes           64              8             5               5   \n",
       "435             Yes           13              0             0               0   \n",
       "\n",
       "    Low_light_sensor  f_cam_primary  f_cam_secondary  \n",
       "116               No              8                0  \n",
       "117               No              8                0  \n",
       "118               No             13                0  \n",
       "119               No             13                0  \n",
       "120               No             13                0  \n",
       "123               No             13                0  \n",
       "124               No             13                0  \n",
       "125               No              8                0  \n",
       "130               No              8                0  \n",
       "179               No              8                0  \n",
       "180               No              8                0  \n",
       "289               No             16                0  \n",
       "299               No             32                0  \n",
       "435               No             16                0  "
      ]
     },
     "execution_count": 86,
     "metadata": {},
     "output_type": "execute_result"
    }
   ],
   "source": [
    "df[df['mob_depth']>10.0].iloc[:,10:]"
   ]
  },
  {
   "cell_type": "code",
   "execution_count": 87,
   "id": "8787e7dd",
   "metadata": {},
   "outputs": [],
   "source": [
    "mis_interp=[116, 117, 118, 119, 120, 123, 124, 125, 130, 179, 180, 289, 299,435]"
   ]
  },
  {
   "cell_type": "code",
   "execution_count": 88,
   "id": "4f2e4d68",
   "metadata": {},
   "outputs": [],
   "source": [
    "a=0\n",
    "for i in mis_interp:\n",
    "    a=df['mob_width'].iloc[i]\n",
    "    df['mob_width'].iloc[i]=df['mob_depth'].iloc[i]\n",
    "    df['mob_depth'].iloc[i]=a\n",
    "    a=0"
   ]
  },
  {
   "cell_type": "code",
   "execution_count": 89,
   "id": "2e6175cd",
   "metadata": {},
   "outputs": [
    {
     "data": {
      "text/plain": [
       "8.800      48\n",
       "8.100      28\n",
       "8.300      28\n",
       "9.300      22\n",
       "7.900      21\n",
       "8.200      17\n",
       "8.700      16\n",
       "8.280      16\n",
       "8.920      14\n",
       "8.900      14\n",
       "8.500      13\n",
       "8.050      13\n",
       "8.400      12\n",
       "7.700      12\n",
       "9.000      12\n",
       "9.400      11\n",
       "8.790      11\n",
       "7.300      10\n",
       "8.850       9\n",
       "8.130       9\n",
       "7.800       9\n",
       "8.950       8\n",
       "8.350       8\n",
       "8.600       8\n",
       "7.890       8\n",
       "8.475       6\n",
       "8.260       5\n",
       "9.600       5\n",
       "9.100       5\n",
       "8.650       5\n",
       "9.550       4\n",
       "8.960       4\n",
       "7.990       4\n",
       "7.770       4\n",
       "7.400       3\n",
       "7.950       3\n",
       "7.380       3\n",
       "7.600       3\n",
       "8.680       3\n",
       "8.210       3\n",
       "8.540       3\n",
       "9.650       3\n",
       "7.500       2\n",
       "9.800       2\n",
       "9.110       2\n",
       "8.470       2\n",
       "8.550       2\n",
       "159.000     1\n",
       "7.980       1\n",
       "8.890       1\n",
       "9.500       1\n",
       "8.670       1\n",
       "154.500     1\n",
       "Name: mob_depth, dtype: int64"
      ]
     },
     "execution_count": 89,
     "metadata": {},
     "output_type": "execute_result"
    }
   ],
   "source": [
    "df['mob_depth'].value_counts()"
   ]
  },
  {
   "cell_type": "code",
   "execution_count": 90,
   "id": "3f81ddbb",
   "metadata": {},
   "outputs": [
    {
     "data": {
      "text/html": [
       "<div>\n",
       "<style scoped>\n",
       "    .dataframe tbody tr th:only-of-type {\n",
       "        vertical-align: middle;\n",
       "    }\n",
       "\n",
       "    .dataframe tbody tr th {\n",
       "        vertical-align: top;\n",
       "    }\n",
       "\n",
       "    .dataframe thead th {\n",
       "        text-align: right;\n",
       "    }\n",
       "</style>\n",
       "<table border=\"1\" class=\"dataframe\">\n",
       "  <thead>\n",
       "    <tr style=\"text-align: right;\">\n",
       "      <th></th>\n",
       "      <th>ram</th>\n",
       "      <th>battery_power</th>\n",
       "      <th>mob_width</th>\n",
       "      <th>mob_height</th>\n",
       "      <th>mob_depth</th>\n",
       "      <th>mob_weight</th>\n",
       "      <th>Brand</th>\n",
       "      <th>5G_connectivity</th>\n",
       "      <th>VOLTE_connectivity</th>\n",
       "      <th>4G_connectivity</th>\n",
       "      <th>3G_connectivity</th>\n",
       "      <th>2G_connectivity</th>\n",
       "      <th>primary_cam</th>\n",
       "      <th>secondary_cam</th>\n",
       "      <th>tertiary_cam</th>\n",
       "      <th>quaternary_cam</th>\n",
       "      <th>Low_light_sensor</th>\n",
       "      <th>f_cam_primary</th>\n",
       "      <th>f_cam_secondary</th>\n",
       "    </tr>\n",
       "  </thead>\n",
       "  <tbody>\n",
       "    <tr>\n",
       "      <th>289</th>\n",
       "      <td>4</td>\n",
       "      <td>6000</td>\n",
       "      <td>75.0</td>\n",
       "      <td>9.00</td>\n",
       "      <td>159.0</td>\n",
       "      <td>186 g</td>\n",
       "      <td>Samsung</td>\n",
       "      <td>No</td>\n",
       "      <td>Yes</td>\n",
       "      <td>No</td>\n",
       "      <td>Yes</td>\n",
       "      <td>Yes</td>\n",
       "      <td>48</td>\n",
       "      <td>8</td>\n",
       "      <td>0</td>\n",
       "      <td>0</td>\n",
       "      <td>No</td>\n",
       "      <td>16</td>\n",
       "      <td>0</td>\n",
       "    </tr>\n",
       "    <tr>\n",
       "      <th>435</th>\n",
       "      <td>3</td>\n",
       "      <td>3075</td>\n",
       "      <td>76.0</td>\n",
       "      <td>7.38</td>\n",
       "      <td>154.5</td>\n",
       "      <td>160 g</td>\n",
       "      <td>OPPO</td>\n",
       "      <td>No</td>\n",
       "      <td>Yes</td>\n",
       "      <td>No</td>\n",
       "      <td>Yes</td>\n",
       "      <td>Yes</td>\n",
       "      <td>13</td>\n",
       "      <td>0</td>\n",
       "      <td>0</td>\n",
       "      <td>0</td>\n",
       "      <td>No</td>\n",
       "      <td>16</td>\n",
       "      <td>0</td>\n",
       "    </tr>\n",
       "  </tbody>\n",
       "</table>\n",
       "</div>"
      ],
      "text/plain": [
       "     ram  battery_power  mob_width  mob_height  mob_depth mob_weight    Brand  \\\n",
       "289    4           6000       75.0        9.00      159.0      186 g  Samsung   \n",
       "435    3           3075       76.0        7.38      154.5      160 g     OPPO   \n",
       "\n",
       "    5G_connectivity VOLTE_connectivity 4G_connectivity 3G_connectivity  \\\n",
       "289              No                Yes              No             Yes   \n",
       "435              No                Yes              No             Yes   \n",
       "\n",
       "    2G_connectivity  primary_cam  secondary_cam  tertiary_cam  quaternary_cam  \\\n",
       "289             Yes           48              8             0               0   \n",
       "435             Yes           13              0             0               0   \n",
       "\n",
       "    Low_light_sensor  f_cam_primary  f_cam_secondary  \n",
       "289               No             16                0  \n",
       "435               No             16                0  "
      ]
     },
     "execution_count": 90,
     "metadata": {},
     "output_type": "execute_result"
    }
   ],
   "source": [
    "df[df['mob_depth']>100].iloc[:,10:]"
   ]
  },
  {
   "cell_type": "code",
   "execution_count": 91,
   "id": "72b88f5e",
   "metadata": {},
   "outputs": [],
   "source": [
    "a=0\n",
    "int2=[289,435]\n",
    "for i in int2:\n",
    "    a=df['mob_height'].iloc[i]\n",
    "    df['mob_height'].iloc[i]=df['mob_depth'].iloc[i]\n",
    "    df['mob_depth'].iloc[i]=a\n",
    "    a=0"
   ]
  },
  {
   "cell_type": "code",
   "execution_count": 92,
   "id": "6ba0823f",
   "metadata": {},
   "outputs": [
    {
     "data": {
      "text/html": [
       "<div>\n",
       "<style scoped>\n",
       "    .dataframe tbody tr th:only-of-type {\n",
       "        vertical-align: middle;\n",
       "    }\n",
       "\n",
       "    .dataframe tbody tr th {\n",
       "        vertical-align: top;\n",
       "    }\n",
       "\n",
       "    .dataframe thead th {\n",
       "        text-align: right;\n",
       "    }\n",
       "</style>\n",
       "<table border=\"1\" class=\"dataframe\">\n",
       "  <thead>\n",
       "    <tr style=\"text-align: right;\">\n",
       "      <th></th>\n",
       "      <th>ram</th>\n",
       "      <th>battery_power</th>\n",
       "      <th>mob_width</th>\n",
       "      <th>mob_height</th>\n",
       "      <th>mob_depth</th>\n",
       "      <th>mob_weight</th>\n",
       "      <th>Brand</th>\n",
       "      <th>5G_connectivity</th>\n",
       "      <th>VOLTE_connectivity</th>\n",
       "      <th>4G_connectivity</th>\n",
       "      <th>3G_connectivity</th>\n",
       "      <th>2G_connectivity</th>\n",
       "      <th>primary_cam</th>\n",
       "      <th>secondary_cam</th>\n",
       "      <th>tertiary_cam</th>\n",
       "      <th>quaternary_cam</th>\n",
       "      <th>Low_light_sensor</th>\n",
       "      <th>f_cam_primary</th>\n",
       "      <th>f_cam_secondary</th>\n",
       "    </tr>\n",
       "  </thead>\n",
       "  <tbody>\n",
       "  </tbody>\n",
       "</table>\n",
       "</div>"
      ],
      "text/plain": [
       "Empty DataFrame\n",
       "Columns: [ram, battery_power, mob_width, mob_height, mob_depth, mob_weight, Brand, 5G_connectivity, VOLTE_connectivity, 4G_connectivity, 3G_connectivity, 2G_connectivity, primary_cam, secondary_cam, tertiary_cam, quaternary_cam, Low_light_sensor, f_cam_primary, f_cam_secondary]\n",
       "Index: []"
      ]
     },
     "execution_count": 92,
     "metadata": {},
     "output_type": "execute_result"
    }
   ],
   "source": [
    "df[df['mob_depth']>100].iloc[:,10:]"
   ]
  },
  {
   "cell_type": "code",
   "execution_count": 93,
   "id": "c5e62198",
   "metadata": {},
   "outputs": [
    {
     "data": {
      "text/plain": [
       "78.6    2\n",
       "Name: mob_height, dtype: int64"
      ]
     },
     "execution_count": 93,
     "metadata": {},
     "output_type": "execute_result"
    }
   ],
   "source": [
    "df['mob_height'][df['mob_height']<100].value_counts()"
   ]
  },
  {
   "cell_type": "code",
   "execution_count": 94,
   "id": "7c8a371a",
   "metadata": {},
   "outputs": [
    {
     "data": {
      "text/plain": [
       "304    78.6\n",
       "305    78.6\n",
       "Name: mob_height, dtype: float64"
      ]
     },
     "execution_count": 94,
     "metadata": {},
     "output_type": "execute_result"
    }
   ],
   "source": [
    "df['mob_height'][df['mob_height']<100]"
   ]
  },
  {
   "cell_type": "code",
   "execution_count": 95,
   "id": "9039d756",
   "metadata": {},
   "outputs": [],
   "source": [
    "int3=[304, 305]\n",
    "a=0\n",
    "for i in int3:\n",
    "    a=df['mob_height'].iloc[i]\n",
    "    df['mob_height'].iloc[i]=df['mob_width'].iloc[i]\n",
    "    df['mob_width'].iloc[i]=a\n",
    "    a=0"
   ]
  },
  {
   "cell_type": "code",
   "execution_count": 96,
   "id": "c53cb652",
   "metadata": {},
   "outputs": [
    {
     "data": {
      "text/html": [
       "<div>\n",
       "<style scoped>\n",
       "    .dataframe tbody tr th:only-of-type {\n",
       "        vertical-align: middle;\n",
       "    }\n",
       "\n",
       "    .dataframe tbody tr th {\n",
       "        vertical-align: top;\n",
       "    }\n",
       "\n",
       "    .dataframe thead th {\n",
       "        text-align: right;\n",
       "    }\n",
       "</style>\n",
       "<table border=\"1\" class=\"dataframe\">\n",
       "  <thead>\n",
       "    <tr style=\"text-align: right;\">\n",
       "      <th></th>\n",
       "      <th>ram</th>\n",
       "      <th>battery_power</th>\n",
       "      <th>mob_width</th>\n",
       "      <th>mob_height</th>\n",
       "      <th>mob_depth</th>\n",
       "      <th>mob_weight</th>\n",
       "      <th>Brand</th>\n",
       "      <th>5G_connectivity</th>\n",
       "      <th>VOLTE_connectivity</th>\n",
       "      <th>4G_connectivity</th>\n",
       "      <th>3G_connectivity</th>\n",
       "      <th>2G_connectivity</th>\n",
       "      <th>primary_cam</th>\n",
       "      <th>secondary_cam</th>\n",
       "      <th>tertiary_cam</th>\n",
       "      <th>quaternary_cam</th>\n",
       "      <th>Low_light_sensor</th>\n",
       "      <th>f_cam_primary</th>\n",
       "      <th>f_cam_secondary</th>\n",
       "    </tr>\n",
       "  </thead>\n",
       "  <tbody>\n",
       "  </tbody>\n",
       "</table>\n",
       "</div>"
      ],
      "text/plain": [
       "Empty DataFrame\n",
       "Columns: [ram, battery_power, mob_width, mob_height, mob_depth, mob_weight, Brand, 5G_connectivity, VOLTE_connectivity, 4G_connectivity, 3G_connectivity, 2G_connectivity, primary_cam, secondary_cam, tertiary_cam, quaternary_cam, Low_light_sensor, f_cam_primary, f_cam_secondary]\n",
       "Index: []"
      ]
     },
     "execution_count": 96,
     "metadata": {},
     "output_type": "execute_result"
    }
   ],
   "source": [
    "df[df['mob_height']<100].iloc[:,10:]#.index"
   ]
  },
  {
   "cell_type": "code",
   "execution_count": 97,
   "id": "48fb7899",
   "metadata": {},
   "outputs": [],
   "source": [
    "df_backup4=df.copy()\n",
    "df=df_backup4"
   ]
  },
  {
   "cell_type": "code",
   "execution_count": 98,
   "id": "9d1ffbf9",
   "metadata": {},
   "outputs": [],
   "source": [
    "df['mob_weight']=df['mob_weight'].str.split(' g').str[0]\n",
    "df['mob_weight']=df['mob_weight'].astype('float')"
   ]
  },
  {
   "cell_type": "code",
   "execution_count": 99,
   "id": "c80da15d",
   "metadata": {},
   "outputs": [
    {
     "data": {
      "text/html": [
       "<div>\n",
       "<style scoped>\n",
       "    .dataframe tbody tr th:only-of-type {\n",
       "        vertical-align: middle;\n",
       "    }\n",
       "\n",
       "    .dataframe tbody tr th {\n",
       "        vertical-align: top;\n",
       "    }\n",
       "\n",
       "    .dataframe thead th {\n",
       "        text-align: right;\n",
       "    }\n",
       "</style>\n",
       "<table border=\"1\" class=\"dataframe\">\n",
       "  <thead>\n",
       "    <tr style=\"text-align: right;\">\n",
       "      <th></th>\n",
       "      <th>ram</th>\n",
       "      <th>battery_power</th>\n",
       "      <th>mob_width</th>\n",
       "      <th>mob_height</th>\n",
       "      <th>mob_depth</th>\n",
       "      <th>mob_weight</th>\n",
       "      <th>Brand</th>\n",
       "      <th>5G_connectivity</th>\n",
       "      <th>VOLTE_connectivity</th>\n",
       "      <th>4G_connectivity</th>\n",
       "      <th>3G_connectivity</th>\n",
       "      <th>2G_connectivity</th>\n",
       "      <th>primary_cam</th>\n",
       "      <th>secondary_cam</th>\n",
       "      <th>tertiary_cam</th>\n",
       "      <th>quaternary_cam</th>\n",
       "      <th>Low_light_sensor</th>\n",
       "      <th>f_cam_primary</th>\n",
       "      <th>f_cam_secondary</th>\n",
       "    </tr>\n",
       "  </thead>\n",
       "  <tbody>\n",
       "    <tr>\n",
       "      <th>0</th>\n",
       "      <td>3</td>\n",
       "      <td>5000</td>\n",
       "      <td>75.0</td>\n",
       "      <td>164.4</td>\n",
       "      <td>8.95</td>\n",
       "      <td>195.0</td>\n",
       "      <td>Realme</td>\n",
       "      <td>No</td>\n",
       "      <td>Yes</td>\n",
       "      <td>No</td>\n",
       "      <td>Yes</td>\n",
       "      <td>Yes</td>\n",
       "      <td>12</td>\n",
       "      <td>2</td>\n",
       "      <td>2</td>\n",
       "      <td>0</td>\n",
       "      <td>No</td>\n",
       "      <td>5</td>\n",
       "      <td>0</td>\n",
       "    </tr>\n",
       "    <tr>\n",
       "      <th>1</th>\n",
       "      <td>3</td>\n",
       "      <td>5000</td>\n",
       "      <td>75.0</td>\n",
       "      <td>164.4</td>\n",
       "      <td>8.95</td>\n",
       "      <td>195.0</td>\n",
       "      <td>Realme</td>\n",
       "      <td>No</td>\n",
       "      <td>Yes</td>\n",
       "      <td>No</td>\n",
       "      <td>Yes</td>\n",
       "      <td>Yes</td>\n",
       "      <td>12</td>\n",
       "      <td>2</td>\n",
       "      <td>2</td>\n",
       "      <td>0</td>\n",
       "      <td>No</td>\n",
       "      <td>5</td>\n",
       "      <td>0</td>\n",
       "    </tr>\n",
       "    <tr>\n",
       "      <th>2</th>\n",
       "      <td>4</td>\n",
       "      <td>5000</td>\n",
       "      <td>75.0</td>\n",
       "      <td>164.4</td>\n",
       "      <td>8.95</td>\n",
       "      <td>195.0</td>\n",
       "      <td>Realme</td>\n",
       "      <td>No</td>\n",
       "      <td>Yes</td>\n",
       "      <td>No</td>\n",
       "      <td>Yes</td>\n",
       "      <td>Yes</td>\n",
       "      <td>12</td>\n",
       "      <td>2</td>\n",
       "      <td>2</td>\n",
       "      <td>0</td>\n",
       "      <td>No</td>\n",
       "      <td>5</td>\n",
       "      <td>0</td>\n",
       "    </tr>\n",
       "    <tr>\n",
       "      <th>3</th>\n",
       "      <td>4</td>\n",
       "      <td>5000</td>\n",
       "      <td>75.0</td>\n",
       "      <td>164.4</td>\n",
       "      <td>8.95</td>\n",
       "      <td>195.0</td>\n",
       "      <td>Realme</td>\n",
       "      <td>No</td>\n",
       "      <td>Yes</td>\n",
       "      <td>No</td>\n",
       "      <td>Yes</td>\n",
       "      <td>Yes</td>\n",
       "      <td>12</td>\n",
       "      <td>2</td>\n",
       "      <td>2</td>\n",
       "      <td>0</td>\n",
       "      <td>No</td>\n",
       "      <td>5</td>\n",
       "      <td>0</td>\n",
       "    </tr>\n",
       "    <tr>\n",
       "      <th>4</th>\n",
       "      <td>4</td>\n",
       "      <td>5000</td>\n",
       "      <td>75.4</td>\n",
       "      <td>164.4</td>\n",
       "      <td>9.00</td>\n",
       "      <td>199.0</td>\n",
       "      <td>Realme</td>\n",
       "      <td>No</td>\n",
       "      <td>Yes</td>\n",
       "      <td>No</td>\n",
       "      <td>Yes</td>\n",
       "      <td>Yes</td>\n",
       "      <td>48</td>\n",
       "      <td>8</td>\n",
       "      <td>2</td>\n",
       "      <td>2</td>\n",
       "      <td>No</td>\n",
       "      <td>16</td>\n",
       "      <td>0</td>\n",
       "    </tr>\n",
       "    <tr>\n",
       "      <th>...</th>\n",
       "      <td>...</td>\n",
       "      <td>...</td>\n",
       "      <td>...</td>\n",
       "      <td>...</td>\n",
       "      <td>...</td>\n",
       "      <td>...</td>\n",
       "      <td>...</td>\n",
       "      <td>...</td>\n",
       "      <td>...</td>\n",
       "      <td>...</td>\n",
       "      <td>...</td>\n",
       "      <td>...</td>\n",
       "      <td>...</td>\n",
       "      <td>...</td>\n",
       "      <td>...</td>\n",
       "      <td>...</td>\n",
       "      <td>...</td>\n",
       "      <td>...</td>\n",
       "      <td>...</td>\n",
       "    </tr>\n",
       "    <tr>\n",
       "      <th>454</th>\n",
       "      <td>3</td>\n",
       "      <td>3180</td>\n",
       "      <td>73.1</td>\n",
       "      <td>150.5</td>\n",
       "      <td>7.70</td>\n",
       "      <td>143.0</td>\n",
       "      <td>OPPO</td>\n",
       "      <td>No</td>\n",
       "      <td>Yes</td>\n",
       "      <td>No</td>\n",
       "      <td>Yes</td>\n",
       "      <td>Yes</td>\n",
       "      <td>13</td>\n",
       "      <td>0</td>\n",
       "      <td>0</td>\n",
       "      <td>0</td>\n",
       "      <td>No</td>\n",
       "      <td>8</td>\n",
       "      <td>0</td>\n",
       "    </tr>\n",
       "    <tr>\n",
       "      <th>455</th>\n",
       "      <td>2</td>\n",
       "      <td>3180</td>\n",
       "      <td>73.1</td>\n",
       "      <td>150.5</td>\n",
       "      <td>7.70</td>\n",
       "      <td>143.0</td>\n",
       "      <td>OPPO</td>\n",
       "      <td>No</td>\n",
       "      <td>Yes</td>\n",
       "      <td>No</td>\n",
       "      <td>Yes</td>\n",
       "      <td>Yes</td>\n",
       "      <td>13</td>\n",
       "      <td>0</td>\n",
       "      <td>0</td>\n",
       "      <td>0</td>\n",
       "      <td>No</td>\n",
       "      <td>8</td>\n",
       "      <td>0</td>\n",
       "    </tr>\n",
       "    <tr>\n",
       "      <th>456</th>\n",
       "      <td>4</td>\n",
       "      <td>3400</td>\n",
       "      <td>75.3</td>\n",
       "      <td>156.0</td>\n",
       "      <td>7.80</td>\n",
       "      <td>158.0</td>\n",
       "      <td>OPPO</td>\n",
       "      <td>No</td>\n",
       "      <td>No</td>\n",
       "      <td>Yes</td>\n",
       "      <td>Yes</td>\n",
       "      <td>Yes</td>\n",
       "      <td>16</td>\n",
       "      <td>0</td>\n",
       "      <td>0</td>\n",
       "      <td>0</td>\n",
       "      <td>No</td>\n",
       "      <td>25</td>\n",
       "      <td>0</td>\n",
       "    </tr>\n",
       "    <tr>\n",
       "      <th>457</th>\n",
       "      <td>4</td>\n",
       "      <td>4020</td>\n",
       "      <td>76.1</td>\n",
       "      <td>162.0</td>\n",
       "      <td>8.30</td>\n",
       "      <td>188.0</td>\n",
       "      <td>OPPO</td>\n",
       "      <td>No</td>\n",
       "      <td>Yes</td>\n",
       "      <td>No</td>\n",
       "      <td>Yes</td>\n",
       "      <td>Yes</td>\n",
       "      <td>48</td>\n",
       "      <td>5</td>\n",
       "      <td>0</td>\n",
       "      <td>0</td>\n",
       "      <td>No</td>\n",
       "      <td>16</td>\n",
       "      <td>0</td>\n",
       "    </tr>\n",
       "    <tr>\n",
       "      <th>458</th>\n",
       "      <td>4</td>\n",
       "      <td>4020</td>\n",
       "      <td>76.1</td>\n",
       "      <td>162.0</td>\n",
       "      <td>8.30</td>\n",
       "      <td>188.0</td>\n",
       "      <td>OPPO</td>\n",
       "      <td>No</td>\n",
       "      <td>Yes</td>\n",
       "      <td>No</td>\n",
       "      <td>Yes</td>\n",
       "      <td>Yes</td>\n",
       "      <td>48</td>\n",
       "      <td>5</td>\n",
       "      <td>0</td>\n",
       "      <td>0</td>\n",
       "      <td>No</td>\n",
       "      <td>16</td>\n",
       "      <td>0</td>\n",
       "    </tr>\n",
       "  </tbody>\n",
       "</table>\n",
       "<p>459 rows × 19 columns</p>\n",
       "</div>"
      ],
      "text/plain": [
       "     ram  battery_power  mob_width  mob_height  mob_depth  mob_weight   Brand  \\\n",
       "0      3           5000       75.0       164.4       8.95       195.0  Realme   \n",
       "1      3           5000       75.0       164.4       8.95       195.0  Realme   \n",
       "2      4           5000       75.0       164.4       8.95       195.0  Realme   \n",
       "3      4           5000       75.0       164.4       8.95       195.0  Realme   \n",
       "4      4           5000       75.4       164.4       9.00       199.0  Realme   \n",
       "..   ...            ...        ...         ...        ...         ...     ...   \n",
       "454    3           3180       73.1       150.5       7.70       143.0    OPPO   \n",
       "455    2           3180       73.1       150.5       7.70       143.0    OPPO   \n",
       "456    4           3400       75.3       156.0       7.80       158.0    OPPO   \n",
       "457    4           4020       76.1       162.0       8.30       188.0    OPPO   \n",
       "458    4           4020       76.1       162.0       8.30       188.0    OPPO   \n",
       "\n",
       "    5G_connectivity VOLTE_connectivity 4G_connectivity 3G_connectivity  \\\n",
       "0                No                Yes              No             Yes   \n",
       "1                No                Yes              No             Yes   \n",
       "2                No                Yes              No             Yes   \n",
       "3                No                Yes              No             Yes   \n",
       "4                No                Yes              No             Yes   \n",
       "..              ...                ...             ...             ...   \n",
       "454              No                Yes              No             Yes   \n",
       "455              No                Yes              No             Yes   \n",
       "456              No                 No             Yes             Yes   \n",
       "457              No                Yes              No             Yes   \n",
       "458              No                Yes              No             Yes   \n",
       "\n",
       "    2G_connectivity  primary_cam  secondary_cam  tertiary_cam  quaternary_cam  \\\n",
       "0               Yes           12              2             2               0   \n",
       "1               Yes           12              2             2               0   \n",
       "2               Yes           12              2             2               0   \n",
       "3               Yes           12              2             2               0   \n",
       "4               Yes           48              8             2               2   \n",
       "..              ...          ...            ...           ...             ...   \n",
       "454             Yes           13              0             0               0   \n",
       "455             Yes           13              0             0               0   \n",
       "456             Yes           16              0             0               0   \n",
       "457             Yes           48              5             0               0   \n",
       "458             Yes           48              5             0               0   \n",
       "\n",
       "    Low_light_sensor  f_cam_primary  f_cam_secondary  \n",
       "0                 No              5                0  \n",
       "1                 No              5                0  \n",
       "2                 No              5                0  \n",
       "3                 No              5                0  \n",
       "4                 No             16                0  \n",
       "..               ...            ...              ...  \n",
       "454               No              8                0  \n",
       "455               No              8                0  \n",
       "456               No             25                0  \n",
       "457               No             16                0  \n",
       "458               No             16                0  \n",
       "\n",
       "[459 rows x 19 columns]"
      ]
     },
     "execution_count": 99,
     "metadata": {},
     "output_type": "execute_result"
    }
   ],
   "source": [
    "df.iloc[:,10:]"
   ]
  },
  {
   "cell_type": "code",
   "execution_count": 100,
   "id": "622cd6b8",
   "metadata": {},
   "outputs": [
    {
     "data": {
      "text/plain": [
       "mobile_name           0\n",
       "mobile_price          0\n",
       "mobile_color          0\n",
       "Sims                  0\n",
       "disp_size             0\n",
       "resolution            0\n",
       "os                    0\n",
       "num_cores             0\n",
       "mp_speed              0\n",
       "int_memory            0\n",
       "ram                   0\n",
       "battery_power         0\n",
       "mob_width             0\n",
       "mob_height            0\n",
       "mob_depth             0\n",
       "mob_weight            0\n",
       "Brand                 0\n",
       "5G_connectivity       0\n",
       "VOLTE_connectivity    0\n",
       "4G_connectivity       0\n",
       "3G_connectivity       0\n",
       "2G_connectivity       0\n",
       "primary_cam           0\n",
       "secondary_cam         0\n",
       "tertiary_cam          0\n",
       "quaternary_cam        0\n",
       "Low_light_sensor      0\n",
       "f_cam_primary         0\n",
       "f_cam_secondary       0\n",
       "dtype: int64"
      ]
     },
     "execution_count": 100,
     "metadata": {},
     "output_type": "execute_result"
    }
   ],
   "source": [
    "df.isna().sum()"
   ]
  },
  {
   "cell_type": "code",
   "execution_count": 101,
   "id": "684d2a4f",
   "metadata": {},
   "outputs": [
    {
     "name": "stdout",
     "output_type": "stream",
     "text": [
      "<class 'pandas.core.frame.DataFrame'>\n",
      "RangeIndex: 459 entries, 0 to 458\n",
      "Data columns (total 29 columns):\n",
      " #   Column              Non-Null Count  Dtype  \n",
      "---  ------              --------------  -----  \n",
      " 0   mobile_name         459 non-null    object \n",
      " 1   mobile_price        459 non-null    int32  \n",
      " 2   mobile_color        459 non-null    object \n",
      " 3   Sims                459 non-null    int64  \n",
      " 4   disp_size           459 non-null    float64\n",
      " 5   resolution          459 non-null    object \n",
      " 6   os                  459 non-null    object \n",
      " 7   num_cores           459 non-null    object \n",
      " 8   mp_speed            459 non-null    float64\n",
      " 9   int_memory          459 non-null    int32  \n",
      " 10  ram                 459 non-null    int32  \n",
      " 11  battery_power       459 non-null    int32  \n",
      " 12  mob_width           459 non-null    float64\n",
      " 13  mob_height          459 non-null    float64\n",
      " 14  mob_depth           459 non-null    float64\n",
      " 15  mob_weight          459 non-null    float64\n",
      " 16  Brand               459 non-null    object \n",
      " 17  5G_connectivity     459 non-null    object \n",
      " 18  VOLTE_connectivity  459 non-null    object \n",
      " 19  4G_connectivity     459 non-null    object \n",
      " 20  3G_connectivity     459 non-null    object \n",
      " 21  2G_connectivity     459 non-null    object \n",
      " 22  primary_cam         459 non-null    int32  \n",
      " 23  secondary_cam       459 non-null    int32  \n",
      " 24  tertiary_cam        459 non-null    int32  \n",
      " 25  quaternary_cam      459 non-null    int32  \n",
      " 26  Low_light_sensor    459 non-null    object \n",
      " 27  f_cam_primary       459 non-null    int16  \n",
      " 28  f_cam_secondary     459 non-null    int16  \n",
      "dtypes: float64(6), int16(2), int32(8), int64(1), object(12)\n",
      "memory usage: 84.4+ KB\n"
     ]
    }
   ],
   "source": [
    "df.info()"
   ]
  },
  {
   "cell_type": "code",
   "execution_count": 102,
   "id": "d358b2fe",
   "metadata": {},
   "outputs": [
    {
     "data": {
      "text/plain": [
       "Index(['mobile_name', 'mobile_price', 'mobile_color', 'Sims', 'disp_size',\n",
       "       'resolution', 'os', 'num_cores', 'mp_speed', 'int_memory', 'ram',\n",
       "       'battery_power', 'mob_width', 'mob_height', 'mob_depth', 'mob_weight',\n",
       "       'Brand', '5G_connectivity', 'VOLTE_connectivity', '4G_connectivity',\n",
       "       '3G_connectivity', '2G_connectivity', 'primary_cam', 'secondary_cam',\n",
       "       'tertiary_cam', 'quaternary_cam', 'Low_light_sensor', 'f_cam_primary',\n",
       "       'f_cam_secondary'],\n",
       "      dtype='object')"
      ]
     },
     "execution_count": 102,
     "metadata": {},
     "output_type": "execute_result"
    }
   ],
   "source": [
    "df.columns"
   ]
  },
  {
   "cell_type": "code",
   "execution_count": 103,
   "id": "86212532",
   "metadata": {},
   "outputs": [],
   "source": [
    "df_final_backup=df.copy()"
   ]
  },
  {
   "cell_type": "code",
   "execution_count": 104,
   "id": "bd0c60cf",
   "metadata": {
    "scrolled": false
   },
   "outputs": [
    {
     "data": {
      "image/png": "[encoded data removed]",
      "text/plain": [
       "<Figure size 864x360 with 1 Axes>"
      ]
     },
     "metadata": {
      "needs_background": "light"
     },
     "output_type": "display_data"
    },
    {
     "data": {
      "image/png": "[encoded data removed]",
      "text/plain": [
       "<Figure size 864x360 with 1 Axes>"
      ]
     },
     "metadata": {
      "needs_background": "light"
     },
     "output_type": "display_data"
    },
    {
     "data": {
      "image/png": "[encoded data removed]",
      "text/plain": [
       "<Figure size 864x360 with 1 Axes>"
      ]
     },
     "metadata": {
      "needs_background": "light"
     },
     "output_type": "display_data"
    },
    {
     "data": {
      "image/png": "[encoded data removed]",
      "text/plain": [
       "<Figure size 864x360 with 1 Axes>"
      ]
     },
     "metadata": {
      "needs_background": "light"
     },
     "output_type": "display_data"
    },
    {
     "data": {
      "image/png": "[encoded data removed]",
      "text/plain": [
       "<Figure size 864x360 with 1 Axes>"
      ]
     },
     "metadata": {
      "needs_background": "light"
     },
     "output_type": "display_data"
    },
    {
     "data": {
      "image/png": "[encoded data removed]",
      "text/plain": [
       "<Figure size 864x360 with 1 Axes>"
      ]
     },
     "metadata": {
      "needs_background": "light"
     },
     "output_type": "display_data"
    },
    {
     "data": {
      "image/png": "[encoded data removed]",
      "text/plain": [
       "<Figure size 864x360 with 1 Axes>"
      ]
     },
     "metadata": {
      "needs_background": "light"
     },
     "output_type": "display_data"
    },
    {
     "data": {
      "image/png": "[encoded data removed]",
      "text/plain": [
       "<Figure size 864x360 with 1 Axes>"
      ]
     },
     "metadata": {
      "needs_background": "light"
     },
     "output_type": "display_data"
    },
    {
     "data": {
      "image/png": "[encoded data removed]",
      "text/plain": [
       "<Figure size 864x360 with 1 Axes>"
      ]
     },
     "metadata": {
      "needs_background": "light"
     },
     "output_type": "display_data"
    },
    {
     "data": {
      "image/png": "[encoded data removed]",
      "text/plain": [
       "<Figure size 864x360 with 1 Axes>"
      ]
     },
     "metadata": {
      "needs_background": "light"
     },
     "output_type": "display_data"
    },
    {
     "data": {
      "image/png": "[encoded data removed]",
      "text/plain": [
       "<Figure size 864x360 with 1 Axes>"
      ]
     },
     "metadata": {
      "needs_background": "light"
     },
     "output_type": "display_data"
    },
    {
     "data": {
      "image/png": "[encoded data removed]",
      "text/plain": [
       "<Figure size 864x360 with 1 Axes>"
      ]
     },
     "metadata": {
      "needs_background": "light"
     },
     "output_type": "display_data"
    },
    {
     "data": {
      "image/png": "[encoded data removed]",
      "text/plain": [
       "<Figure size 864x360 with 1 Axes>"
      ]
     },
     "metadata": {
      "needs_background": "light"
     },
     "output_type": "display_data"
    },
    {
     "data": {
      "image/png": "[encoded data removed]",
      "text/plain": [
       "<Figure size 864x360 with 1 Axes>"
      ]
     },
     "metadata": {
      "needs_background": "light"
     },
     "output_type": "display_data"
    },
    {
     "data": {
      "image/png": "[encoded data removed]",
      "text/plain": [
       "<Figure size 864x360 with 1 Axes>"
      ]
     },
     "metadata": {
      "needs_background": "light"
     },
     "output_type": "display_data"
    },
    {
     "data": {
      "image/png": "[encoded data removed]",
      "text/plain": [
       "<Figure size 864x360 with 1 Axes>"
      ]
     },
     "metadata": {
      "needs_background": "light"
     },
     "output_type": "display_data"
    },
    {
     "data": {
      "image/png": "[encoded data removed]",
      "text/plain": [
       "<Figure size 864x360 with 1 Axes>"
      ]
     },
     "metadata": {
      "needs_background": "light"
     },
     "output_type": "display_data"
    },
    {
     "data": {
      "image/png": "[encoded data removed]",
      "text/plain": [
       "<Figure size 864x360 with 1 Axes>"
      ]
     },
     "metadata": {
      "needs_background": "light"
     },
     "output_type": "display_data"
    },
    {
     "data": {
      "image/png": "[encoded data removed]",
      "text/plain": [
       "<Figure size 864x360 with 1 Axes>"
      ]
     },
     "metadata": {
      "needs_background": "light"
     },
     "output_type": "display_data"
    },
    {
     "data": {
      "image/png": "[encoded data removed]",
      "text/plain": [
       "<Figure size 864x360 with 1 Axes>"
      ]
     },
     "metadata": {
      "needs_background": "light"
     },
     "output_type": "display_data"
    },
    {
     "data": {
      "image/png": "[encoded data removed]",
      "text/plain": [
       "<Figure size 864x360 with 1 Axes>"
      ]
     },
     "metadata": {
      "needs_background": "light"
     },
     "output_type": "display_data"
    }
   ],
   "source": [
    "num=['mobile_price','disp_size','mp_speed','battery_power', 'mob_width', 'mob_height', 'mob_depth', 'mob_weight']\n",
    "for i in df_final_backup.columns:\n",
    "    if i in num:\n",
    "        continue\n",
    "    else:\n",
    "        plt.figure(figsize=(12,5))\n",
    "        sns.countplot(df_final_backup[i])\n",
    "        plt.show()"
   ]
  },
  {
   "cell_type": "code",
   "execution_count": 105,
   "id": "b456289b",
   "metadata": {
    "scrolled": false
   },
   "outputs": [
    {
     "data": {
      "text/plain": [
       "<AxesSubplot:xlabel='mobile_price', ylabel='disp_size'>"
      ]
     },
     "execution_count": 105,
     "metadata": {},
     "output_type": "execute_result"
    },
    {
     "data": {
      "image/png": "[encoded data removed]",
      "text/plain": [
       "<Figure size 432x288 with 1 Axes>"
      ]
     },
     "metadata": {
      "needs_background": "light"
     },
     "output_type": "display_data"
    }
   ],
   "source": [
    "sns.scatterplot(x=df_final_backup['mobile_price'],y=df_final_backup['disp_size'],hue=df_final_backup['mobile_color'])"
   ]
  },
  {
   "cell_type": "code",
   "execution_count": 106,
   "id": "e88c3c17",
   "metadata": {},
   "outputs": [
    {
     "data": {
      "text/plain": [
       "<AxesSubplot:xlabel='mobile_price'>"
      ]
     },
     "execution_count": 106,
     "metadata": {},
     "output_type": "execute_result"
    },
    {
     "data": {
      "image/png": "[encoded data removed]",
      "text/plain": [
       "<Figure size 432x288 with 1 Axes>"
      ]
     },
     "metadata": {
      "needs_background": "light"
     },
     "output_type": "display_data"
    }
   ],
   "source": [
    "sns.boxplot(x=df_final_backup['mobile_price'])"
   ]
  },
  {
   "cell_type": "code",
   "execution_count": 107,
   "id": "9b7454da",
   "metadata": {},
   "outputs": [
    {
     "data": {
      "text/plain": [
       "<AxesSubplot:xlabel='battery_power', ylabel='Density'>"
      ]
     },
     "execution_count": 107,
     "metadata": {},
     "output_type": "execute_result"
    },
    {
     "data": {
      "image/png": "[encoded data removed]",
      "text/plain": [
       "<Figure size 432x288 with 1 Axes>"
      ]
     },
     "metadata": {
      "needs_background": "light"
     },
     "output_type": "display_data"
    }
   ],
   "source": [
    "sns.distplot(df_final_backup['battery_power'])"
   ]
  },
  {
   "cell_type": "code",
   "execution_count": null,
   "id": "5b36c7c4",
   "metadata": {},
   "outputs": [],
   "source": []
  },
  {
   "cell_type": "code",
   "execution_count": 108,
   "id": "ca9c63c1",
   "metadata": {},
   "outputs": [
    {
     "data": {
      "text/plain": [
       "Brand\n",
       "Infinix    6.19\n",
       "Mi         5.99\n",
       "OPPO       6.30\n",
       "POCO       6.67\n",
       "Realme     6.50\n",
       "Redmi      6.26\n",
       "Samsung    6.40\n",
       "Vivo       6.35\n",
       "Name: disp_size, dtype: float64"
      ]
     },
     "execution_count": 108,
     "metadata": {},
     "output_type": "execute_result"
    }
   ],
   "source": [
    "df_final_backup.groupby(['Brand'])['disp_size'].median()"
   ]
  },
  {
   "cell_type": "code",
   "execution_count": 109,
   "id": "b6fcf1fd",
   "metadata": {},
   "outputs": [
    {
     "data": {
      "text/plain": [
       "Brand\n",
       "Infinix     9999.0\n",
       "Mi         14999.0\n",
       "OPPO       14990.0\n",
       "POCO       18499.0\n",
       "Realme     15490.0\n",
       "Redmi      12999.0\n",
       "Samsung    17490.0\n",
       "Vivo       15245.0\n",
       "Name: mobile_price, dtype: float64"
      ]
     },
     "execution_count": 109,
     "metadata": {},
     "output_type": "execute_result"
    }
   ],
   "source": [
    "df_final_backup.groupby(['Brand'])['mobile_price'].median()"
   ]
  },
  {
   "cell_type": "code",
   "execution_count": 110,
   "id": "f9ceb763",
   "metadata": {},
   "outputs": [
    {
     "data": {
      "image/png": "[encoded data removed]",
      "text/plain": [
       "<Figure size 864x576 with 2 Axes>"
      ]
     },
     "metadata": {
      "needs_background": "light"
     },
     "output_type": "display_data"
    }
   ],
   "source": [
    "plt.figure(figsize=(12,8))\n",
    "sns.heatmap(df_final_backup.corr(),annot=True)\n",
    "plt.show()"
   ]
  },
  {
   "cell_type": "markdown",
   "id": "ee9e099b",
   "metadata": {},
   "source": [
    "## Preprocessing Data"
   ]
  },
  {
   "cell_type": "markdown",
   "id": "c419ffd9",
   "metadata": {},
   "source": [
    "### 1) Encoding"
   ]
  },
  {
   "cell_type": "code",
   "execution_count": 111,
   "id": "fba78e7a",
   "metadata": {},
   "outputs": [],
   "source": [
    "ordinal_cols=['resolution','os','num_cores']\n",
    "ohe_encs=['mobile_name','mobile_color', \n",
    "       'os','Brand', '5G_connectivity', 'VOLTE_connectivity', '4G_connectivity',\n",
    "       '3G_connectivity', '2G_connectivity','Low_light_sensor']"
   ]
  },
  {
   "cell_type": "code",
   "execution_count": 112,
   "id": "ee61a725",
   "metadata": {
    "scrolled": false
   },
   "outputs": [
    {
     "data": {
      "text/html": [
       "<div>\n",
       "<style scoped>\n",
       "    .dataframe tbody tr th:only-of-type {\n",
       "        vertical-align: middle;\n",
       "    }\n",
       "\n",
       "    .dataframe tbody tr th {\n",
       "        vertical-align: top;\n",
       "    }\n",
       "\n",
       "    .dataframe thead th {\n",
       "        text-align: right;\n",
       "    }\n",
       "</style>\n",
       "<table border=\"1\" class=\"dataframe\">\n",
       "  <thead>\n",
       "    <tr style=\"text-align: right;\">\n",
       "      <th></th>\n",
       "      <th>mobile_price</th>\n",
       "      <th>Sims</th>\n",
       "      <th>disp_size</th>\n",
       "      <th>mp_speed</th>\n",
       "      <th>int_memory</th>\n",
       "      <th>ram</th>\n",
       "      <th>battery_power</th>\n",
       "      <th>mob_width</th>\n",
       "      <th>mob_height</th>\n",
       "      <th>mob_depth</th>\n",
       "      <th>mob_weight</th>\n",
       "      <th>primary_cam</th>\n",
       "      <th>secondary_cam</th>\n",
       "      <th>tertiary_cam</th>\n",
       "      <th>quaternary_cam</th>\n",
       "      <th>f_cam_primary</th>\n",
       "      <th>f_cam_secondary</th>\n",
       "    </tr>\n",
       "  </thead>\n",
       "  <tbody>\n",
       "    <tr>\n",
       "      <th>mobile_price</th>\n",
       "      <td>1.000000</td>\n",
       "      <td>0.014217</td>\n",
       "      <td>0.362075</td>\n",
       "      <td>0.617347</td>\n",
       "      <td>0.756921</td>\n",
       "      <td>0.767180</td>\n",
       "      <td>-0.012884</td>\n",
       "      <td>-0.080743</td>\n",
       "      <td>0.160953</td>\n",
       "      <td>0.213266</td>\n",
       "      <td>0.375185</td>\n",
       "      <td>0.559317</td>\n",
       "      <td>0.556595</td>\n",
       "      <td>0.507928</td>\n",
       "      <td>0.292663</td>\n",
       "      <td>0.474079</td>\n",
       "      <td>0.316536</td>\n",
       "    </tr>\n",
       "    <tr>\n",
       "      <th>Sims</th>\n",
       "      <td>0.014217</td>\n",
       "      <td>1.000000</td>\n",
       "      <td>0.184165</td>\n",
       "      <td>-0.024216</td>\n",
       "      <td>0.051227</td>\n",
       "      <td>0.064632</td>\n",
       "      <td>0.084410</td>\n",
       "      <td>0.038068</td>\n",
       "      <td>0.141758</td>\n",
       "      <td>0.034155</td>\n",
       "      <td>0.092325</td>\n",
       "      <td>0.037158</td>\n",
       "      <td>0.058622</td>\n",
       "      <td>0.030986</td>\n",
       "      <td>0.027779</td>\n",
       "      <td>0.079752</td>\n",
       "      <td>0.012237</td>\n",
       "    </tr>\n",
       "    <tr>\n",
       "      <th>disp_size</th>\n",
       "      <td>0.362075</td>\n",
       "      <td>0.184165</td>\n",
       "      <td>1.000000</td>\n",
       "      <td>0.480938</td>\n",
       "      <td>0.447057</td>\n",
       "      <td>0.475160</td>\n",
       "      <td>0.622581</td>\n",
       "      <td>0.259174</td>\n",
       "      <td>0.768101</td>\n",
       "      <td>0.445450</td>\n",
       "      <td>0.748700</td>\n",
       "      <td>0.562382</td>\n",
       "      <td>0.483127</td>\n",
       "      <td>0.474481</td>\n",
       "      <td>0.465020</td>\n",
       "      <td>0.303921</td>\n",
       "      <td>0.160773</td>\n",
       "    </tr>\n",
       "    <tr>\n",
       "      <th>mp_speed</th>\n",
       "      <td>0.617347</td>\n",
       "      <td>-0.024216</td>\n",
       "      <td>0.480938</td>\n",
       "      <td>1.000000</td>\n",
       "      <td>0.570284</td>\n",
       "      <td>0.590077</td>\n",
       "      <td>0.174023</td>\n",
       "      <td>0.074582</td>\n",
       "      <td>0.295070</td>\n",
       "      <td>0.329931</td>\n",
       "      <td>0.522246</td>\n",
       "      <td>0.483458</td>\n",
       "      <td>0.527494</td>\n",
       "      <td>0.542273</td>\n",
       "      <td>0.283244</td>\n",
       "      <td>0.254977</td>\n",
       "      <td>0.251955</td>\n",
       "    </tr>\n",
       "    <tr>\n",
       "      <th>int_memory</th>\n",
       "      <td>0.756921</td>\n",
       "      <td>0.051227</td>\n",
       "      <td>0.447057</td>\n",
       "      <td>0.570284</td>\n",
       "      <td>1.000000</td>\n",
       "      <td>0.786609</td>\n",
       "      <td>0.173863</td>\n",
       "      <td>-0.019676</td>\n",
       "      <td>0.301660</td>\n",
       "      <td>0.304889</td>\n",
       "      <td>0.487976</td>\n",
       "      <td>0.545880</td>\n",
       "      <td>0.552862</td>\n",
       "      <td>0.447472</td>\n",
       "      <td>0.351253</td>\n",
       "      <td>0.424918</td>\n",
       "      <td>0.246957</td>\n",
       "    </tr>\n",
       "    <tr>\n",
       "      <th>ram</th>\n",
       "      <td>0.767180</td>\n",
       "      <td>0.064632</td>\n",
       "      <td>0.475160</td>\n",
       "      <td>0.590077</td>\n",
       "      <td>0.786609</td>\n",
       "      <td>1.000000</td>\n",
       "      <td>0.111863</td>\n",
       "      <td>-0.034608</td>\n",
       "      <td>0.327713</td>\n",
       "      <td>0.268663</td>\n",
       "      <td>0.514125</td>\n",
       "      <td>0.602440</td>\n",
       "      <td>0.622545</td>\n",
       "      <td>0.557253</td>\n",
       "      <td>0.482523</td>\n",
       "      <td>0.551824</td>\n",
       "      <td>0.369833</td>\n",
       "    </tr>\n",
       "    <tr>\n",
       "      <th>battery_power</th>\n",
       "      <td>-0.012884</td>\n",
       "      <td>0.084410</td>\n",
       "      <td>0.622581</td>\n",
       "      <td>0.174023</td>\n",
       "      <td>0.173863</td>\n",
       "      <td>0.111863</td>\n",
       "      <td>1.000000</td>\n",
       "      <td>0.328869</td>\n",
       "      <td>0.629043</td>\n",
       "      <td>0.674686</td>\n",
       "      <td>0.697084</td>\n",
       "      <td>0.284714</td>\n",
       "      <td>0.194310</td>\n",
       "      <td>0.283788</td>\n",
       "      <td>0.369572</td>\n",
       "      <td>0.046984</td>\n",
       "      <td>0.025017</td>\n",
       "    </tr>\n",
       "    <tr>\n",
       "      <th>mob_width</th>\n",
       "      <td>-0.080743</td>\n",
       "      <td>0.038068</td>\n",
       "      <td>0.259174</td>\n",
       "      <td>0.074582</td>\n",
       "      <td>-0.019676</td>\n",
       "      <td>-0.034608</td>\n",
       "      <td>0.328869</td>\n",
       "      <td>1.000000</td>\n",
       "      <td>0.678104</td>\n",
       "      <td>0.108199</td>\n",
       "      <td>0.316039</td>\n",
       "      <td>-0.054456</td>\n",
       "      <td>0.023774</td>\n",
       "      <td>0.006199</td>\n",
       "      <td>0.000835</td>\n",
       "      <td>-0.090611</td>\n",
       "      <td>-0.013813</td>\n",
       "    </tr>\n",
       "    <tr>\n",
       "      <th>mob_height</th>\n",
       "      <td>0.160953</td>\n",
       "      <td>0.141758</td>\n",
       "      <td>0.768101</td>\n",
       "      <td>0.295070</td>\n",
       "      <td>0.301660</td>\n",
       "      <td>0.327713</td>\n",
       "      <td>0.629043</td>\n",
       "      <td>0.678104</td>\n",
       "      <td>1.000000</td>\n",
       "      <td>0.374716</td>\n",
       "      <td>0.754919</td>\n",
       "      <td>0.429162</td>\n",
       "      <td>0.384647</td>\n",
       "      <td>0.331711</td>\n",
       "      <td>0.439721</td>\n",
       "      <td>0.186275</td>\n",
       "      <td>0.131133</td>\n",
       "    </tr>\n",
       "    <tr>\n",
       "      <th>mob_depth</th>\n",
       "      <td>0.213266</td>\n",
       "      <td>0.034155</td>\n",
       "      <td>0.445450</td>\n",
       "      <td>0.329931</td>\n",
       "      <td>0.304889</td>\n",
       "      <td>0.268663</td>\n",
       "      <td>0.674686</td>\n",
       "      <td>0.108199</td>\n",
       "      <td>0.374716</td>\n",
       "      <td>1.000000</td>\n",
       "      <td>0.666729</td>\n",
       "      <td>0.425045</td>\n",
       "      <td>0.319247</td>\n",
       "      <td>0.451659</td>\n",
       "      <td>0.463558</td>\n",
       "      <td>0.029914</td>\n",
       "      <td>0.247676</td>\n",
       "    </tr>\n",
       "    <tr>\n",
       "      <th>mob_weight</th>\n",
       "      <td>0.375185</td>\n",
       "      <td>0.092325</td>\n",
       "      <td>0.748700</td>\n",
       "      <td>0.522246</td>\n",
       "      <td>0.487976</td>\n",
       "      <td>0.514125</td>\n",
       "      <td>0.697084</td>\n",
       "      <td>0.316039</td>\n",
       "      <td>0.754919</td>\n",
       "      <td>0.666729</td>\n",
       "      <td>1.000000</td>\n",
       "      <td>0.626906</td>\n",
       "      <td>0.575188</td>\n",
       "      <td>0.565955</td>\n",
       "      <td>0.520379</td>\n",
       "      <td>0.264414</td>\n",
       "      <td>0.214817</td>\n",
       "    </tr>\n",
       "    <tr>\n",
       "      <th>primary_cam</th>\n",
       "      <td>0.559317</td>\n",
       "      <td>0.037158</td>\n",
       "      <td>0.562382</td>\n",
       "      <td>0.483458</td>\n",
       "      <td>0.545880</td>\n",
       "      <td>0.602440</td>\n",
       "      <td>0.284714</td>\n",
       "      <td>-0.054456</td>\n",
       "      <td>0.429162</td>\n",
       "      <td>0.425045</td>\n",
       "      <td>0.626906</td>\n",
       "      <td>1.000000</td>\n",
       "      <td>0.568398</td>\n",
       "      <td>0.543119</td>\n",
       "      <td>0.679911</td>\n",
       "      <td>0.391695</td>\n",
       "      <td>0.296363</td>\n",
       "    </tr>\n",
       "    <tr>\n",
       "      <th>secondary_cam</th>\n",
       "      <td>0.556595</td>\n",
       "      <td>0.058622</td>\n",
       "      <td>0.483127</td>\n",
       "      <td>0.527494</td>\n",
       "      <td>0.552862</td>\n",
       "      <td>0.622545</td>\n",
       "      <td>0.194310</td>\n",
       "      <td>0.023774</td>\n",
       "      <td>0.384647</td>\n",
       "      <td>0.319247</td>\n",
       "      <td>0.575188</td>\n",
       "      <td>0.568398</td>\n",
       "      <td>1.000000</td>\n",
       "      <td>0.601803</td>\n",
       "      <td>0.500308</td>\n",
       "      <td>0.451315</td>\n",
       "      <td>0.236146</td>\n",
       "    </tr>\n",
       "    <tr>\n",
       "      <th>tertiary_cam</th>\n",
       "      <td>0.507928</td>\n",
       "      <td>0.030986</td>\n",
       "      <td>0.474481</td>\n",
       "      <td>0.542273</td>\n",
       "      <td>0.447472</td>\n",
       "      <td>0.557253</td>\n",
       "      <td>0.283788</td>\n",
       "      <td>0.006199</td>\n",
       "      <td>0.331711</td>\n",
       "      <td>0.451659</td>\n",
       "      <td>0.565955</td>\n",
       "      <td>0.543119</td>\n",
       "      <td>0.601803</td>\n",
       "      <td>1.000000</td>\n",
       "      <td>0.476937</td>\n",
       "      <td>0.424881</td>\n",
       "      <td>0.341808</td>\n",
       "    </tr>\n",
       "    <tr>\n",
       "      <th>quaternary_cam</th>\n",
       "      <td>0.292663</td>\n",
       "      <td>0.027779</td>\n",
       "      <td>0.465020</td>\n",
       "      <td>0.283244</td>\n",
       "      <td>0.351253</td>\n",
       "      <td>0.482523</td>\n",
       "      <td>0.369572</td>\n",
       "      <td>0.000835</td>\n",
       "      <td>0.439721</td>\n",
       "      <td>0.463558</td>\n",
       "      <td>0.520379</td>\n",
       "      <td>0.679911</td>\n",
       "      <td>0.500308</td>\n",
       "      <td>0.476937</td>\n",
       "      <td>1.000000</td>\n",
       "      <td>0.272329</td>\n",
       "      <td>0.352097</td>\n",
       "    </tr>\n",
       "    <tr>\n",
       "      <th>f_cam_primary</th>\n",
       "      <td>0.474079</td>\n",
       "      <td>0.079752</td>\n",
       "      <td>0.303921</td>\n",
       "      <td>0.254977</td>\n",
       "      <td>0.424918</td>\n",
       "      <td>0.551824</td>\n",
       "      <td>0.046984</td>\n",
       "      <td>-0.090611</td>\n",
       "      <td>0.186275</td>\n",
       "      <td>0.029914</td>\n",
       "      <td>0.264414</td>\n",
       "      <td>0.391695</td>\n",
       "      <td>0.451315</td>\n",
       "      <td>0.424881</td>\n",
       "      <td>0.272329</td>\n",
       "      <td>1.000000</td>\n",
       "      <td>0.283705</td>\n",
       "    </tr>\n",
       "    <tr>\n",
       "      <th>f_cam_secondary</th>\n",
       "      <td>0.316536</td>\n",
       "      <td>0.012237</td>\n",
       "      <td>0.160773</td>\n",
       "      <td>0.251955</td>\n",
       "      <td>0.246957</td>\n",
       "      <td>0.369833</td>\n",
       "      <td>0.025017</td>\n",
       "      <td>-0.013813</td>\n",
       "      <td>0.131133</td>\n",
       "      <td>0.247676</td>\n",
       "      <td>0.214817</td>\n",
       "      <td>0.296363</td>\n",
       "      <td>0.236146</td>\n",
       "      <td>0.341808</td>\n",
       "      <td>0.352097</td>\n",
       "      <td>0.283705</td>\n",
       "      <td>1.000000</td>\n",
       "    </tr>\n",
       "  </tbody>\n",
       "</table>\n",
       "</div>"
      ],
      "text/plain": [
       "                 mobile_price      Sims  disp_size  mp_speed  int_memory  \\\n",
       "mobile_price         1.000000  0.014217   0.362075  0.617347    0.756921   \n",
       "Sims                 0.014217  1.000000   0.184165 -0.024216    0.051227   \n",
       "disp_size            0.362075  0.184165   1.000000  0.480938    0.447057   \n",
       "mp_speed             0.617347 -0.024216   0.480938  1.000000    0.570284   \n",
       "int_memory           0.756921  0.051227   0.447057  0.570284    1.000000   \n",
       "ram                  0.767180  0.064632   0.475160  0.590077    0.786609   \n",
       "battery_power       -0.012884  0.084410   0.622581  0.174023    0.173863   \n",
       "mob_width           -0.080743  0.038068   0.259174  0.074582   -0.019676   \n",
       "mob_height           0.160953  0.141758   0.768101  0.295070    0.301660   \n",
       "mob_depth            0.213266  0.034155   0.445450  0.329931    0.304889   \n",
       "mob_weight           0.375185  0.092325   0.748700  0.522246    0.487976   \n",
       "primary_cam          0.559317  0.037158   0.562382  0.483458    0.545880   \n",
       "secondary_cam        0.556595  0.058622   0.483127  0.527494    0.552862   \n",
       "tertiary_cam         0.507928  0.030986   0.474481  0.542273    0.447472   \n",
       "quaternary_cam       0.292663  0.027779   0.465020  0.283244    0.351253   \n",
       "f_cam_primary        0.474079  0.079752   0.303921  0.254977    0.424918   \n",
       "f_cam_secondary      0.316536  0.012237   0.160773  0.251955    0.246957   \n",
       "\n",
       "                      ram  battery_power  mob_width  mob_height  mob_depth  \\\n",
       "mobile_price     0.767180      -0.012884  -0.080743    0.160953   0.213266   \n",
       "Sims             0.064632       0.084410   0.038068    0.141758   0.034155   \n",
       "disp_size        0.475160       0.622581   0.259174    0.768101   0.445450   \n",
       "mp_speed         0.590077       0.174023   0.074582    0.295070   0.329931   \n",
       "int_memory       0.786609       0.173863  -0.019676    0.301660   0.304889   \n",
       "ram              1.000000       0.111863  -0.034608    0.327713   0.268663   \n",
       "battery_power    0.111863       1.000000   0.328869    0.629043   0.674686   \n",
       "mob_width       -0.034608       0.328869   1.000000    0.678104   0.108199   \n",
       "mob_height       0.327713       0.629043   0.678104    1.000000   0.374716   \n",
       "mob_depth        0.268663       0.674686   0.108199    0.374716   1.000000   \n",
       "mob_weight       0.514125       0.697084   0.316039    0.754919   0.666729   \n",
       "primary_cam      0.602440       0.284714  -0.054456    0.429162   0.425045   \n",
       "secondary_cam    0.622545       0.194310   0.023774    0.384647   0.319247   \n",
       "tertiary_cam     0.557253       0.283788   0.006199    0.331711   0.451659   \n",
       "quaternary_cam   0.482523       0.369572   0.000835    0.439721   0.463558   \n",
       "f_cam_primary    0.551824       0.046984  -0.090611    0.186275   0.029914   \n",
       "f_cam_secondary  0.369833       0.025017  -0.013813    0.131133   0.247676   \n",
       "\n",
       "                 mob_weight  primary_cam  secondary_cam  tertiary_cam  \\\n",
       "mobile_price       0.375185     0.559317       0.556595      0.507928   \n",
       "Sims               0.092325     0.037158       0.058622      0.030986   \n",
       "disp_size          0.748700     0.562382       0.483127      0.474481   \n",
       "mp_speed           0.522246     0.483458       0.527494      0.542273   \n",
       "int_memory         0.487976     0.545880       0.552862      0.447472   \n",
       "ram                0.514125     0.602440       0.622545      0.557253   \n",
       "battery_power      0.697084     0.284714       0.194310      0.283788   \n",
       "mob_width          0.316039    -0.054456       0.023774      0.006199   \n",
       "mob_height         0.754919     0.429162       0.384647      0.331711   \n",
       "mob_depth          0.666729     0.425045       0.319247      0.451659   \n",
       "mob_weight         1.000000     0.626906       0.575188      0.565955   \n",
       "primary_cam        0.626906     1.000000       0.568398      0.543119   \n",
       "secondary_cam      0.575188     0.568398       1.000000      0.601803   \n",
       "tertiary_cam       0.565955     0.543119       0.601803      1.000000   \n",
       "quaternary_cam     0.520379     0.679911       0.500308      0.476937   \n",
       "f_cam_primary      0.264414     0.391695       0.451315      0.424881   \n",
       "f_cam_secondary    0.214817     0.296363       0.236146      0.341808   \n",
       "\n",
       "                 quaternary_cam  f_cam_primary  f_cam_secondary  \n",
       "mobile_price           0.292663       0.474079         0.316536  \n",
       "Sims                   0.027779       0.079752         0.012237  \n",
       "disp_size              0.465020       0.303921         0.160773  \n",
       "mp_speed               0.283244       0.254977         0.251955  \n",
       "int_memory             0.351253       0.424918         0.246957  \n",
       "ram                    0.482523       0.551824         0.369833  \n",
       "battery_power          0.369572       0.046984         0.025017  \n",
       "mob_width              0.000835      -0.090611        -0.013813  \n",
       "mob_height             0.439721       0.186275         0.131133  \n",
       "mob_depth              0.463558       0.029914         0.247676  \n",
       "mob_weight             0.520379       0.264414         0.214817  \n",
       "primary_cam            0.679911       0.391695         0.296363  \n",
       "secondary_cam          0.500308       0.451315         0.236146  \n",
       "tertiary_cam           0.476937       0.424881         0.341808  \n",
       "quaternary_cam         1.000000       0.272329         0.352097  \n",
       "f_cam_primary          0.272329       1.000000         0.283705  \n",
       "f_cam_secondary        0.352097       0.283705         1.000000  "
      ]
     },
     "execution_count": 112,
     "metadata": {},
     "output_type": "execute_result"
    }
   ],
   "source": [
    "df.corr()"
   ]
  },
  {
   "cell_type": "code",
   "execution_count": 113,
   "id": "7afd21d5",
   "metadata": {},
   "outputs": [
    {
     "name": "stdout",
     "output_type": "stream",
     "text": [
      "['HD+' 'FHD+' 'FHD' 'qHD']\n",
      "['Android 10' 'Android Pie 9' 'Android Oreo 8' 'Android Nougat 7'\n",
      " 'Android KitKat 4' 'Android Marshmallow 6' 'Android Lollipop 5']\n",
      "['Octa Core' 'Quad Core' 'Single Core']\n"
     ]
    }
   ],
   "source": [
    "for i in ordinal_cols:\n",
    "    print(df[i].unique())"
   ]
  },
  {
   "cell_type": "code",
   "execution_count": 114,
   "id": "03f96064",
   "metadata": {},
   "outputs": [],
   "source": [
    "df['num_cores']=df['num_cores'].replace('Octa Core',3) \n",
    "df['num_cores']=df['num_cores'].replace('Quad Core' ,2)\n",
    "df['num_cores']=df['num_cores'].replace('Single Core',1)"
   ]
  },
  {
   "cell_type": "code",
   "execution_count": 115,
   "id": "352b0699",
   "metadata": {},
   "outputs": [],
   "source": [
    "df['resolution'] = df['resolution'].replace('qHD',1)\n",
    "df['resolution'] = df['resolution'].replace('HD+',2)\n",
    "df['resolution'] = df['resolution'].replace('FHD',3)\n",
    "df['resolution'] = df['resolution'].replace('FHD+',4)"
   ]
  },
  {
   "cell_type": "code",
   "execution_count": 116,
   "id": "126b6c78",
   "metadata": {},
   "outputs": [],
   "source": [
    "from sklearn.preprocessing import OneHotEncoder\n",
    "ohe=OneHotEncoder()"
   ]
  },
  {
   "cell_type": "code",
   "execution_count": 117,
   "id": "8f173380",
   "metadata": {},
   "outputs": [
    {
     "data": {
      "text/plain": [
       "['mobile_name',\n",
       " 'mobile_color',\n",
       " 'os',\n",
       " 'Brand',\n",
       " '5G_connectivity',\n",
       " 'VOLTE_connectivity',\n",
       " '4G_connectivity',\n",
       " '3G_connectivity',\n",
       " '2G_connectivity',\n",
       " 'Low_light_sensor']"
      ]
     },
     "execution_count": 117,
     "metadata": {},
     "output_type": "execute_result"
    }
   ],
   "source": [
    "ohe_encs"
   ]
  },
  {
   "cell_type": "code",
   "execution_count": 118,
   "id": "d82fb6ea",
   "metadata": {},
   "outputs": [],
   "source": [
    "df_enc=ohe.fit_transform(df[ohe_encs]).toarray()"
   ]
  },
  {
   "cell_type": "code",
   "execution_count": 119,
   "id": "6ba9d221",
   "metadata": {},
   "outputs": [],
   "source": [
    "df_enc=pd.DataFrame(df_enc)"
   ]
  },
  {
   "cell_type": "code",
   "execution_count": 120,
   "id": "241d3570",
   "metadata": {},
   "outputs": [],
   "source": [
    "df=pd.concat([df,df_enc],axis=1)"
   ]
  },
  {
   "cell_type": "code",
   "execution_count": 121,
   "id": "5d603a52",
   "metadata": {},
   "outputs": [],
   "source": [
    "df.drop(ohe_encs,axis=1,inplace=True)"
   ]
  },
  {
   "cell_type": "code",
   "execution_count": 122,
   "id": "35c7f1ee",
   "metadata": {},
   "outputs": [],
   "source": [
    "df_new=df"
   ]
  },
  {
   "cell_type": "code",
   "execution_count": 123,
   "id": "4a5b4156",
   "metadata": {},
   "outputs": [
    {
     "data": {
      "text/html": [
       "<div>\n",
       "<style scoped>\n",
       "    .dataframe tbody tr th:only-of-type {\n",
       "        vertical-align: middle;\n",
       "    }\n",
       "\n",
       "    .dataframe tbody tr th {\n",
       "        vertical-align: top;\n",
       "    }\n",
       "\n",
       "    .dataframe thead th {\n",
       "        text-align: right;\n",
       "    }\n",
       "</style>\n",
       "<table border=\"1\" class=\"dataframe\">\n",
       "  <thead>\n",
       "    <tr style=\"text-align: right;\">\n",
       "      <th></th>\n",
       "      <th>mobile_price</th>\n",
       "      <th>Sims</th>\n",
       "      <th>disp_size</th>\n",
       "      <th>resolution</th>\n",
       "      <th>num_cores</th>\n",
       "      <th>mp_speed</th>\n",
       "      <th>int_memory</th>\n",
       "      <th>ram</th>\n",
       "      <th>battery_power</th>\n",
       "      <th>mob_width</th>\n",
       "      <th>mob_height</th>\n",
       "      <th>mob_depth</th>\n",
       "      <th>mob_weight</th>\n",
       "      <th>primary_cam</th>\n",
       "      <th>secondary_cam</th>\n",
       "      <th>tertiary_cam</th>\n",
       "      <th>quaternary_cam</th>\n",
       "      <th>f_cam_primary</th>\n",
       "      <th>f_cam_secondary</th>\n",
       "      <th>0</th>\n",
       "    </tr>\n",
       "  </thead>\n",
       "  <tbody>\n",
       "    <tr>\n",
       "      <th>0</th>\n",
       "      <td>8999</td>\n",
       "      <td>2</td>\n",
       "      <td>6.52</td>\n",
       "      <td>2</td>\n",
       "      <td>3</td>\n",
       "      <td>2.0</td>\n",
       "      <td>32</td>\n",
       "      <td>3</td>\n",
       "      <td>5000</td>\n",
       "      <td>75.0</td>\n",
       "      <td>164.4</td>\n",
       "      <td>8.95</td>\n",
       "      <td>195.0</td>\n",
       "      <td>12</td>\n",
       "      <td>2</td>\n",
       "      <td>2</td>\n",
       "      <td>0</td>\n",
       "      <td>5</td>\n",
       "      <td>0</td>\n",
       "      <td>0.0</td>\n",
       "    </tr>\n",
       "    <tr>\n",
       "      <th>1</th>\n",
       "      <td>8999</td>\n",
       "      <td>2</td>\n",
       "      <td>6.52</td>\n",
       "      <td>2</td>\n",
       "      <td>3</td>\n",
       "      <td>2.0</td>\n",
       "      <td>32</td>\n",
       "      <td>3</td>\n",
       "      <td>5000</td>\n",
       "      <td>75.0</td>\n",
       "      <td>164.4</td>\n",
       "      <td>8.95</td>\n",
       "      <td>195.0</td>\n",
       "      <td>12</td>\n",
       "      <td>2</td>\n",
       "      <td>2</td>\n",
       "      <td>0</td>\n",
       "      <td>5</td>\n",
       "      <td>0</td>\n",
       "      <td>0.0</td>\n",
       "    </tr>\n",
       "    <tr>\n",
       "      <th>2</th>\n",
       "      <td>9999</td>\n",
       "      <td>2</td>\n",
       "      <td>6.52</td>\n",
       "      <td>2</td>\n",
       "      <td>3</td>\n",
       "      <td>2.0</td>\n",
       "      <td>64</td>\n",
       "      <td>4</td>\n",
       "      <td>5000</td>\n",
       "      <td>75.0</td>\n",
       "      <td>164.4</td>\n",
       "      <td>8.95</td>\n",
       "      <td>195.0</td>\n",
       "      <td>12</td>\n",
       "      <td>2</td>\n",
       "      <td>2</td>\n",
       "      <td>0</td>\n",
       "      <td>5</td>\n",
       "      <td>0</td>\n",
       "      <td>0.0</td>\n",
       "    </tr>\n",
       "    <tr>\n",
       "      <th>3</th>\n",
       "      <td>9999</td>\n",
       "      <td>2</td>\n",
       "      <td>6.52</td>\n",
       "      <td>2</td>\n",
       "      <td>3</td>\n",
       "      <td>2.0</td>\n",
       "      <td>64</td>\n",
       "      <td>4</td>\n",
       "      <td>5000</td>\n",
       "      <td>75.0</td>\n",
       "      <td>164.4</td>\n",
       "      <td>8.95</td>\n",
       "      <td>195.0</td>\n",
       "      <td>12</td>\n",
       "      <td>2</td>\n",
       "      <td>2</td>\n",
       "      <td>0</td>\n",
       "      <td>5</td>\n",
       "      <td>0</td>\n",
       "      <td>0.0</td>\n",
       "    </tr>\n",
       "    <tr>\n",
       "      <th>4</th>\n",
       "      <td>11999</td>\n",
       "      <td>2</td>\n",
       "      <td>6.50</td>\n",
       "      <td>2</td>\n",
       "      <td>3</td>\n",
       "      <td>2.0</td>\n",
       "      <td>128</td>\n",
       "      <td>4</td>\n",
       "      <td>5000</td>\n",
       "      <td>75.4</td>\n",
       "      <td>164.4</td>\n",
       "      <td>9.00</td>\n",
       "      <td>199.0</td>\n",
       "      <td>48</td>\n",
       "      <td>8</td>\n",
       "      <td>2</td>\n",
       "      <td>2</td>\n",
       "      <td>16</td>\n",
       "      <td>0</td>\n",
       "      <td>0.0</td>\n",
       "    </tr>\n",
       "    <tr>\n",
       "      <th>...</th>\n",
       "      <td>...</td>\n",
       "      <td>...</td>\n",
       "      <td>...</td>\n",
       "      <td>...</td>\n",
       "      <td>...</td>\n",
       "      <td>...</td>\n",
       "      <td>...</td>\n",
       "      <td>...</td>\n",
       "      <td>...</td>\n",
       "      <td>...</td>\n",
       "      <td>...</td>\n",
       "      <td>...</td>\n",
       "      <td>...</td>\n",
       "      <td>...</td>\n",
       "      <td>...</td>\n",
       "      <td>...</td>\n",
       "      <td>...</td>\n",
       "      <td>...</td>\n",
       "      <td>...</td>\n",
       "      <td>...</td>\n",
       "    </tr>\n",
       "    <tr>\n",
       "      <th>454</th>\n",
       "      <td>13490</td>\n",
       "      <td>2</td>\n",
       "      <td>5.70</td>\n",
       "      <td>2</td>\n",
       "      <td>3</td>\n",
       "      <td>2.5</td>\n",
       "      <td>32</td>\n",
       "      <td>3</td>\n",
       "      <td>3180</td>\n",
       "      <td>73.1</td>\n",
       "      <td>150.5</td>\n",
       "      <td>7.70</td>\n",
       "      <td>143.0</td>\n",
       "      <td>13</td>\n",
       "      <td>0</td>\n",
       "      <td>0</td>\n",
       "      <td>0</td>\n",
       "      <td>8</td>\n",
       "      <td>0</td>\n",
       "      <td>0.0</td>\n",
       "    </tr>\n",
       "    <tr>\n",
       "      <th>455</th>\n",
       "      <td>9490</td>\n",
       "      <td>2</td>\n",
       "      <td>5.70</td>\n",
       "      <td>2</td>\n",
       "      <td>3</td>\n",
       "      <td>2.5</td>\n",
       "      <td>16</td>\n",
       "      <td>2</td>\n",
       "      <td>3180</td>\n",
       "      <td>73.1</td>\n",
       "      <td>150.5</td>\n",
       "      <td>7.70</td>\n",
       "      <td>143.0</td>\n",
       "      <td>13</td>\n",
       "      <td>0</td>\n",
       "      <td>0</td>\n",
       "      <td>0</td>\n",
       "      <td>8</td>\n",
       "      <td>0</td>\n",
       "      <td>0.0</td>\n",
       "    </tr>\n",
       "    <tr>\n",
       "      <th>456</th>\n",
       "      <td>22990</td>\n",
       "      <td>2</td>\n",
       "      <td>6.23</td>\n",
       "      <td>4</td>\n",
       "      <td>3</td>\n",
       "      <td>2.0</td>\n",
       "      <td>64</td>\n",
       "      <td>4</td>\n",
       "      <td>3400</td>\n",
       "      <td>75.3</td>\n",
       "      <td>156.0</td>\n",
       "      <td>7.80</td>\n",
       "      <td>158.0</td>\n",
       "      <td>16</td>\n",
       "      <td>0</td>\n",
       "      <td>0</td>\n",
       "      <td>0</td>\n",
       "      <td>25</td>\n",
       "      <td>0</td>\n",
       "      <td>0.0</td>\n",
       "    </tr>\n",
       "    <tr>\n",
       "      <th>457</th>\n",
       "      <td>13990</td>\n",
       "      <td>2</td>\n",
       "      <td>6.53</td>\n",
       "      <td>4</td>\n",
       "      <td>3</td>\n",
       "      <td>2.1</td>\n",
       "      <td>128</td>\n",
       "      <td>4</td>\n",
       "      <td>4020</td>\n",
       "      <td>76.1</td>\n",
       "      <td>162.0</td>\n",
       "      <td>8.30</td>\n",
       "      <td>188.0</td>\n",
       "      <td>48</td>\n",
       "      <td>5</td>\n",
       "      <td>0</td>\n",
       "      <td>0</td>\n",
       "      <td>16</td>\n",
       "      <td>0</td>\n",
       "      <td>0.0</td>\n",
       "    </tr>\n",
       "    <tr>\n",
       "      <th>458</th>\n",
       "      <td>13990</td>\n",
       "      <td>2</td>\n",
       "      <td>6.53</td>\n",
       "      <td>4</td>\n",
       "      <td>3</td>\n",
       "      <td>2.1</td>\n",
       "      <td>128</td>\n",
       "      <td>4</td>\n",
       "      <td>4020</td>\n",
       "      <td>76.1</td>\n",
       "      <td>162.0</td>\n",
       "      <td>8.30</td>\n",
       "      <td>188.0</td>\n",
       "      <td>48</td>\n",
       "      <td>5</td>\n",
       "      <td>0</td>\n",
       "      <td>0</td>\n",
       "      <td>16</td>\n",
       "      <td>0</td>\n",
       "      <td>0.0</td>\n",
       "    </tr>\n",
       "  </tbody>\n",
       "</table>\n",
       "<p>459 rows × 20 columns</p>\n",
       "</div>"
      ],
      "text/plain": [
       "     mobile_price  Sims  disp_size  resolution  num_cores  mp_speed  \\\n",
       "0            8999     2       6.52           2          3       2.0   \n",
       "1            8999     2       6.52           2          3       2.0   \n",
       "2            9999     2       6.52           2          3       2.0   \n",
       "3            9999     2       6.52           2          3       2.0   \n",
       "4           11999     2       6.50           2          3       2.0   \n",
       "..            ...   ...        ...         ...        ...       ...   \n",
       "454         13490     2       5.70           2          3       2.5   \n",
       "455          9490     2       5.70           2          3       2.5   \n",
       "456         22990     2       6.23           4          3       2.0   \n",
       "457         13990     2       6.53           4          3       2.1   \n",
       "458         13990     2       6.53           4          3       2.1   \n",
       "\n",
       "     int_memory  ram  battery_power  mob_width  mob_height  mob_depth  \\\n",
       "0            32    3           5000       75.0       164.4       8.95   \n",
       "1            32    3           5000       75.0       164.4       8.95   \n",
       "2            64    4           5000       75.0       164.4       8.95   \n",
       "3            64    4           5000       75.0       164.4       8.95   \n",
       "4           128    4           5000       75.4       164.4       9.00   \n",
       "..          ...  ...            ...        ...         ...        ...   \n",
       "454          32    3           3180       73.1       150.5       7.70   \n",
       "455          16    2           3180       73.1       150.5       7.70   \n",
       "456          64    4           3400       75.3       156.0       7.80   \n",
       "457         128    4           4020       76.1       162.0       8.30   \n",
       "458         128    4           4020       76.1       162.0       8.30   \n",
       "\n",
       "     mob_weight  primary_cam  secondary_cam  tertiary_cam  quaternary_cam  \\\n",
       "0         195.0           12              2             2               0   \n",
       "1         195.0           12              2             2               0   \n",
       "2         195.0           12              2             2               0   \n",
       "3         195.0           12              2             2               0   \n",
       "4         199.0           48              8             2               2   \n",
       "..          ...          ...            ...           ...             ...   \n",
       "454       143.0           13              0             0               0   \n",
       "455       143.0           13              0             0               0   \n",
       "456       158.0           16              0             0               0   \n",
       "457       188.0           48              5             0               0   \n",
       "458       188.0           48              5             0               0   \n",
       "\n",
       "     f_cam_primary  f_cam_secondary    0  \n",
       "0                5                0  0.0  \n",
       "1                5                0  0.0  \n",
       "2                5                0  0.0  \n",
       "3                5                0  0.0  \n",
       "4               16                0  0.0  \n",
       "..             ...              ...  ...  \n",
       "454              8                0  0.0  \n",
       "455              8                0  0.0  \n",
       "456             25                0  0.0  \n",
       "457             16                0  0.0  \n",
       "458             16                0  0.0  \n",
       "\n",
       "[459 rows x 20 columns]"
      ]
     },
     "execution_count": 123,
     "metadata": {},
     "output_type": "execute_result"
    }
   ],
   "source": [
    "df_new.iloc[:,:20]"
   ]
  },
  {
   "cell_type": "markdown",
   "id": "caf9ed8f",
   "metadata": {},
   "source": [
    "### 2) Scaling"
   ]
  },
  {
   "cell_type": "code",
   "execution_count": 124,
   "id": "0c2f4a8e",
   "metadata": {},
   "outputs": [],
   "source": [
    "to_bescaled=['disp_size','mp_speed','int_memory','ram','battery_power','mob_width','mob_height','mob_depth','mob_weight']"
   ]
  },
  {
   "cell_type": "code",
   "execution_count": 125,
   "id": "bcd800ba",
   "metadata": {},
   "outputs": [],
   "source": [
    "from sklearn.preprocessing import StandardScaler\n",
    "scaler = StandardScaler()\n",
    "\n",
    "# Apply the StandardScaler to the selected columns\n",
    "scaled_cols = scaler.fit_transform(df_new[to_bescaled])\n",
    "scaled_cols = pd.DataFrame(scaled_cols, columns=to_bescaled)\n",
    "df_new.drop(to_bescaled, axis=1,inplace=True)\n",
    "# Join the scaled columns back with the original dataframe\n",
    "df_new = pd.concat([df_new, scaled_cols], axis=1)"
   ]
  },
  {
   "cell_type": "markdown",
   "id": "bd6348b6",
   "metadata": {},
   "source": [
    "### Splitting Data"
   ]
  },
  {
   "cell_type": "code",
   "execution_count": 126,
   "id": "186b8192",
   "metadata": {},
   "outputs": [],
   "source": [
    "x=df_new.drop('mobile_price',axis=1)\n",
    "y=df_new['mobile_price']"
   ]
  },
  {
   "cell_type": "code",
   "execution_count": 127,
   "id": "8b4f2103",
   "metadata": {},
   "outputs": [],
   "source": [
    "from sklearn.model_selection import train_test_split\n",
    "xtrain,xtest,ytrain,ytest=train_test_split(x,y,random_state=42)"
   ]
  },
  {
   "cell_type": "markdown",
   "id": "68eda0eb",
   "metadata": {},
   "source": [
    "### ML modelling"
   ]
  },
  {
   "cell_type": "code",
   "execution_count": 128,
   "id": "d25c83fe",
   "metadata": {},
   "outputs": [],
   "source": [
    "from sklearn.linear_model import LinearRegression\n",
    "from sklearn.metrics import r2_score\n",
    "from sklearn.metrics import mean_squared_error\n",
    "from sklearn.model_selection import cross_val_score\n",
    "rmse={}\n"
   ]
  },
  {
   "cell_type": "code",
   "execution_count": 129,
   "id": "685091f8",
   "metadata": {},
   "outputs": [
    {
     "name": "stdout",
     "output_type": "stream",
     "text": [
      "--------------------------------------------------\n",
      "Train acc 0.9926428146096958\n",
      "Test acc 0.9555334001144341\n",
      "Cross val score -1.4229315401766564e+19\n",
      "--------------------------------------------------\n"
     ]
    }
   ],
   "source": [
    "lin_model=LinearRegression()\n",
    "lin_model.fit(xtrain,ytrain)\n",
    "train_pred=lin_model.predict(xtrain)\n",
    "test_pred=lin_model.predict(xtest)\n",
    "scores=cross_val_score(lin_model,x,y)\n",
    "print('-'*50)\n",
    "print('Train acc',r2_score(ytrain,train_pred))\n",
    "print('Test acc',r2_score(ytest,test_pred))\n",
    "print('Cross val score',scores.mean())\n",
    "print('-'*50)\n",
    "rmse[\"lin_model\"]=np.sqrt(mean_squared_error(ytest,test_pred))"
   ]
  },
  {
   "cell_type": "code",
   "execution_count": 130,
   "id": "f5586be2",
   "metadata": {},
   "outputs": [
    {
     "name": "stdout",
     "output_type": "stream",
     "text": [
      "--------------------------------------------------\n",
      "Train acc 0.9921987542171339\n",
      "Test acc 0.9661388983659506\n",
      "Cross val score 0.5730853944063952\n",
      "--------------------------------------------------\n"
     ]
    }
   ],
   "source": [
    "from sklearn.linear_model import Lasso\n",
    "\n",
    "lasso_model=Lasso()\n",
    "lasso_model.fit(xtrain,ytrain)\n",
    "train_pred=lasso_model.predict(xtrain)\n",
    "test_pred=lasso_model.predict(xtest)\n",
    "scores=cross_val_score(lasso_model,x,y)\n",
    "print('-'*50)\n",
    "print('Train acc',r2_score(ytrain,train_pred))\n",
    "print('Test acc',r2_score(ytest,test_pred))\n",
    "print('Cross val score',scores.mean())\n",
    "print('-'*50)\n",
    "rmse[\"lasso_model\"]=np.sqrt(mean_squared_error(ytest,test_pred))\n"
   ]
  },
  {
   "cell_type": "code",
   "execution_count": 131,
   "id": "715336ad",
   "metadata": {},
   "outputs": [
    {
     "name": "stdout",
     "output_type": "stream",
     "text": [
      "--------------------------------------------------\n",
      "Train acc 0.9791017813601447\n",
      "Test acc 0.9538275410783771\n",
      "Cross val score 0.6408159740504933\n",
      "--------------------------------------------------\n"
     ]
    }
   ],
   "source": [
    "from sklearn.linear_model import Ridge\n",
    "\n",
    "ridge_model=Ridge()\n",
    "ridge_model.fit(xtrain,ytrain)\n",
    "train_pred=ridge_model.predict(xtrain)\n",
    "test_pred=ridge_model.predict(xtest)\n",
    "scores=cross_val_score(ridge_model,x,y)\n",
    "print('-'*50)\n",
    "print('Train acc',r2_score(ytrain,train_pred))\n",
    "print('Test acc',r2_score(ytest,test_pred))\n",
    "print('Cross val score',scores.mean())\n",
    "print('-'*50)\n",
    "rmse[\"ridge_model\"]=np.sqrt(mean_squared_error(ytest,test_pred))"
   ]
  },
  {
   "cell_type": "code",
   "execution_count": 132,
   "id": "d97924e2",
   "metadata": {},
   "outputs": [
    {
     "name": "stdout",
     "output_type": "stream",
     "text": [
      "--------------------------------------------------\n",
      "Train acc 0.7601753061914632\n",
      "Test acc 0.6941838124535888\n",
      "Cross val score 0.5199442400612492\n",
      "--------------------------------------------------\n"
     ]
    }
   ],
   "source": [
    "from sklearn.linear_model import ElasticNet\n",
    "\n",
    "el_model=ElasticNet()\n",
    "el_model.fit(xtrain,ytrain)\n",
    "train_pred=el_model.predict(xtrain)\n",
    "test_pred=el_model.predict(xtest)\n",
    "scores=cross_val_score(el_model,x,y)\n",
    "print('-'*50)\n",
    "print('Train acc',r2_score(ytrain,train_pred))\n",
    "print('Test acc',r2_score(ytest,test_pred))\n",
    "print('Cross val score',scores.mean())\n",
    "print('-'*50)\n",
    "rmse[\"el_model\"]=np.sqrt(mean_squared_error(ytest,test_pred))"
   ]
  },
  {
   "cell_type": "code",
   "execution_count": null,
   "id": "e7ac6d8c",
   "metadata": {},
   "outputs": [],
   "source": []
  },
  {
   "cell_type": "code",
   "execution_count": 133,
   "id": "2c2930a3",
   "metadata": {},
   "outputs": [
    {
     "data": {
      "text/plain": [
       "{'lin_model': 1801.6286684413437,\n",
       " 'lasso_model': 1572.1676810954025,\n",
       " 'ridge_model': 1835.861120039784,\n",
       " 'el_model': 4724.746996013558}"
      ]
     },
     "execution_count": 133,
     "metadata": {},
     "output_type": "execute_result"
    }
   ],
   "source": [
    "rmse"
   ]
  },
  {
   "cell_type": "markdown",
   "id": "ec102ee8",
   "metadata": {},
   "source": [
    "### Ridge is the best among the natural regressors as it has explained the proportion of variance very well"
   ]
  },
  {
   "cell_type": "code",
   "execution_count": 134,
   "id": "29ecdd1d",
   "metadata": {},
   "outputs": [
    {
     "name": "stdout",
     "output_type": "stream",
     "text": [
      "--------------------------------------------------\n",
      "Train acc 0.9791017813601447\n",
      "Test acc 0.9538275410783771\n",
      "Cross val score 0.6408159740504933\n",
      "--------------------------------------------------\n"
     ]
    }
   ],
   "source": [
    "from sklearn.linear_model import Ridge\n",
    "\n",
    "ridge_model=Ridge()\n",
    "ridge_model.fit(xtrain,ytrain)\n",
    "train_pred=ridge_model.predict(xtrain)\n",
    "test_pred=ridge_model.predict(xtest)\n",
    "scores=cross_val_score(ridge_model,x,y)\n",
    "print('-'*50)\n",
    "print('Train acc',r2_score(ytrain,train_pred))\n",
    "print('Test acc',r2_score(ytest,test_pred))\n",
    "print('Cross val score',scores.mean())\n",
    "print('-'*50)\n",
    "rmse[\"ridge_model\"]=np.sqrt(mean_squared_error(ytest,test_pred))"
   ]
  },
  {
   "cell_type": "code",
   "execution_count": null,
   "id": "c9b9704d",
   "metadata": {},
   "outputs": [],
   "source": []
  },
  {
   "cell_type": "code",
   "execution_count": null,
   "id": "3a080aa4",
   "metadata": {},
   "outputs": [],
   "source": []
  },
  {
   "cell_type": "code",
   "execution_count": null,
   "id": "068ac9e5",
   "metadata": {},
   "outputs": [],
   "source": []
  }
 ],
 "metadata": {
  "kernelspec": {
   "display_name": "Python 3 (ipykernel)",
   "language": "python",
   "name": "python3"
  },
  "language_info": {
   "codemirror_mode": {
    "name": "ipython",
    "version": 3
   },
   "file_extension": ".py",
   "mimetype": "text/x-python",
   "name": "python",
   "nbconvert_exporter": "python",
   "pygments_lexer": "ipython3",
   "version": "3.9.12"
  }
 },
 "nbformat": 4,
 "nbformat_minor": 5
}
