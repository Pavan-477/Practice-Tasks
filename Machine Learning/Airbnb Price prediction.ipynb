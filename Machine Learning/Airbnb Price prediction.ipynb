{
 "cells": [
  {
   "cell_type": "code",
   "execution_count": 1,
   "id": "5942036b",
   "metadata": {},
   "outputs": [],
   "source": [
    "import numpy as np\n",
    "import pandas as pd\n",
    "import seaborn as sns\n",
    "import matplotlib.pyplot as plt"
   ]
  },
  {
   "cell_type": "code",
   "execution_count": 2,
   "id": "cb869311",
   "metadata": {},
   "outputs": [],
   "source": [
    "df=pd.read_csv('airbnb_listing_train.csv')"
   ]
  },
  {
   "cell_type": "code",
   "execution_count": 3,
   "id": "f3690570",
   "metadata": {},
   "outputs": [
    {
     "data": {
      "text/plain": [
       "Index(['id', 'name', 'host_id', 'host_name', 'neighbourhood_group',\n",
       "       'neighbourhood', 'latitude', 'longitude', 'room_type', 'minimum_nights',\n",
       "       'number_of_reviews', 'last_review', 'reviews_per_month',\n",
       "       'calculated_host_listings_count', 'availability_365', 'price'],\n",
       "      dtype='object')"
      ]
     },
     "execution_count": 3,
     "metadata": {},
     "output_type": "execute_result"
    }
   ],
   "source": [
    "df.columns"
   ]
  },
  {
   "cell_type": "code",
   "execution_count": 4,
   "id": "a811d068",
   "metadata": {},
   "outputs": [
    {
     "data": {
      "text/plain": [
       "id                                    0\n",
       "name                                 22\n",
       "host_id                               0\n",
       "host_name                             8\n",
       "neighbourhood_group               12901\n",
       "neighbourhood                         0\n",
       "latitude                              0\n",
       "longitude                             0\n",
       "room_type                             0\n",
       "minimum_nights                        0\n",
       "number_of_reviews                     0\n",
       "last_review                        1596\n",
       "reviews_per_month                  1596\n",
       "calculated_host_listings_count        0\n",
       "availability_365                      0\n",
       "price                                 0\n",
       "dtype: int64"
      ]
     },
     "execution_count": 4,
     "metadata": {},
     "output_type": "execute_result"
    }
   ],
   "source": [
    "df.isna().sum()"
   ]
  },
  {
   "cell_type": "code",
   "execution_count": 5,
   "id": "1571ce14",
   "metadata": {},
   "outputs": [
    {
     "name": "stderr",
     "output_type": "stream",
     "text": [
      "C:\\Users\\pavan\\AppData\\Local\\Temp\\ipykernel_17252\\2068178271.py:1: FutureWarning: In a future version of pandas all arguments of DataFrame.drop except for the argument 'labels' will be keyword-only.\n",
      "  df.drop(['id', 'name', 'host_id','neighbourhood_group','number_of_reviews', 'last_review', 'reviews_per_month'],1,inplace=True)\n"
     ]
    }
   ],
   "source": [
    "df.drop(['id', 'name', 'host_id','neighbourhood_group','number_of_reviews', 'last_review', 'reviews_per_month'],1,inplace=True)"
   ]
  },
  {
   "cell_type": "code",
   "execution_count": 6,
   "id": "958ebd57",
   "metadata": {},
   "outputs": [],
   "source": [
    "df.dropna(inplace=True)"
   ]
  },
  {
   "cell_type": "code",
   "execution_count": 7,
   "id": "0175a416",
   "metadata": {},
   "outputs": [
    {
     "data": {
      "text/plain": [
       "host_name                         0\n",
       "neighbourhood                     0\n",
       "latitude                          0\n",
       "longitude                         0\n",
       "room_type                         0\n",
       "minimum_nights                    0\n",
       "calculated_host_listings_count    0\n",
       "availability_365                  0\n",
       "price                             0\n",
       "dtype: int64"
      ]
     },
     "execution_count": 7,
     "metadata": {},
     "output_type": "execute_result"
    }
   ],
   "source": [
    "df.isna().sum()"
   ]
  },
  {
   "cell_type": "code",
   "execution_count": 8,
   "id": "0eac18f2",
   "metadata": {},
   "outputs": [
    {
     "name": "stdout",
     "output_type": "stream",
     "text": [
      "<class 'pandas.core.frame.DataFrame'>\n",
      "Int64Index: 12893 entries, 0 to 12900\n",
      "Data columns (total 9 columns):\n",
      " #   Column                          Non-Null Count  Dtype  \n",
      "---  ------                          --------------  -----  \n",
      " 0   host_name                       12893 non-null  object \n",
      " 1   neighbourhood                   12893 non-null  object \n",
      " 2   latitude                        12893 non-null  float64\n",
      " 3   longitude                       12893 non-null  float64\n",
      " 4   room_type                       12893 non-null  object \n",
      " 5   minimum_nights                  12893 non-null  int64  \n",
      " 6   calculated_host_listings_count  12893 non-null  int64  \n",
      " 7   availability_365                12893 non-null  int64  \n",
      " 8   price                           12893 non-null  int64  \n",
      "dtypes: float64(2), int64(4), object(3)\n",
      "memory usage: 1007.3+ KB\n"
     ]
    }
   ],
   "source": [
    "df.info()"
   ]
  },
  {
   "cell_type": "code",
   "execution_count": 9,
   "id": "b6b37951",
   "metadata": {},
   "outputs": [
    {
     "data": {
      "text/plain": [
       "9351        6\n",
       "1887       10\n",
       "480        12\n",
       "7810       19\n",
       "2778       20\n",
       "         ... \n",
       "10029    7000\n",
       "12885    7000\n",
       "1657     7000\n",
       "6023     7550\n",
       "12839    9000\n",
       "Name: price, Length: 12893, dtype: int64"
      ]
     },
     "execution_count": 9,
     "metadata": {},
     "output_type": "execute_result"
    }
   ],
   "source": [
    "df['price'].sort_values()"
   ]
  },
  {
   "cell_type": "code",
   "execution_count": 10,
   "id": "6b88501a",
   "metadata": {},
   "outputs": [],
   "source": [
    "l=list(df.groupby('host_name').mean().sort_values(by='price').reset_index()['host_name'])"
   ]
  },
  {
   "cell_type": "code",
   "execution_count": 11,
   "id": "2ae0c967",
   "metadata": {},
   "outputs": [],
   "source": [
    "d_host={l: number for l, number in zip(l, [i for i in range(len(l)+1)])}"
   ]
  },
  {
   "cell_type": "code",
   "execution_count": 12,
   "id": "d71bf0fe",
   "metadata": {},
   "outputs": [],
   "source": [
    "df['host_name']=df['host_name'].map(d_host)"
   ]
  },
  {
   "cell_type": "code",
   "execution_count": 13,
   "id": "679fb584",
   "metadata": {},
   "outputs": [],
   "source": [
    "l2=list(df.groupby('room_type').mean().sort_values(by='price').reset_index()['room_type'])\n",
    "d_room={l2: number for l2, number in zip(l2, [i for i in range(len(l2)+1)])}"
   ]
  },
  {
   "cell_type": "code",
   "execution_count": 14,
   "id": "6056e477",
   "metadata": {},
   "outputs": [],
   "source": [
    "df['room_type']=df['room_type'].map(d_room)"
   ]
  },
  {
   "cell_type": "code",
   "execution_count": 15,
   "id": "27cafbda",
   "metadata": {},
   "outputs": [],
   "source": [
    "l3=list(df.groupby('neighbourhood').mean().sort_values(by='price').reset_index()['neighbourhood'])\n",
    "d_neighbour={l3: number for l3, number in zip(l3, [i for i in range(len(l3)+1)])}"
   ]
  },
  {
   "cell_type": "code",
   "execution_count": 16,
   "id": "998beb87",
   "metadata": {},
   "outputs": [],
   "source": [
    "df['neighbourhood']=df['neighbourhood'].map(d_neighbour)"
   ]
  },
  {
   "cell_type": "code",
   "execution_count": 17,
   "id": "c719f3de",
   "metadata": {},
   "outputs": [],
   "source": [
    "from sklearn.preprocessing import StandardScaler\n",
    "sc=StandardScaler()\n",
    "to_bescaled=['host_name', 'neighbourhood', 'room_type','minimum_nights', 'calculated_host_listings_count', 'availability_365']\n",
    "df[to_bescaled]=sc.fit_transform(df[to_bescaled])"
   ]
  },
  {
   "cell_type": "code",
   "execution_count": 18,
   "id": "bed40a21",
   "metadata": {},
   "outputs": [
    {
     "data": {
      "text/html": [
       "<div>\n",
       "<style scoped>\n",
       "    .dataframe tbody tr th:only-of-type {\n",
       "        vertical-align: middle;\n",
       "    }\n",
       "\n",
       "    .dataframe tbody tr th {\n",
       "        vertical-align: top;\n",
       "    }\n",
       "\n",
       "    .dataframe thead th {\n",
       "        text-align: right;\n",
       "    }\n",
       "</style>\n",
       "<table border=\"1\" class=\"dataframe\">\n",
       "  <thead>\n",
       "    <tr style=\"text-align: right;\">\n",
       "      <th></th>\n",
       "      <th>host_name</th>\n",
       "      <th>neighbourhood</th>\n",
       "      <th>latitude</th>\n",
       "      <th>longitude</th>\n",
       "      <th>room_type</th>\n",
       "      <th>minimum_nights</th>\n",
       "      <th>calculated_host_listings_count</th>\n",
       "      <th>availability_365</th>\n",
       "      <th>price</th>\n",
       "    </tr>\n",
       "  </thead>\n",
       "  <tbody>\n",
       "    <tr>\n",
       "      <th>0</th>\n",
       "      <td>0.433832</td>\n",
       "      <td>0.379108</td>\n",
       "      <td>52.35368</td>\n",
       "      <td>4.90177</td>\n",
       "      <td>0.360353</td>\n",
       "      <td>-0.035689</td>\n",
       "      <td>-0.189427</td>\n",
       "      <td>-0.568275</td>\n",
       "      <td>220</td>\n",
       "    </tr>\n",
       "    <tr>\n",
       "      <th>1</th>\n",
       "      <td>-0.588609</td>\n",
       "      <td>-0.217965</td>\n",
       "      <td>52.35728</td>\n",
       "      <td>4.92052</td>\n",
       "      <td>0.360353</td>\n",
       "      <td>0.030290</td>\n",
       "      <td>-0.189427</td>\n",
       "      <td>-0.568275</td>\n",
       "      <td>110</td>\n",
       "    </tr>\n",
       "    <tr>\n",
       "      <th>2</th>\n",
       "      <td>0.814102</td>\n",
       "      <td>1.374231</td>\n",
       "      <td>52.37582</td>\n",
       "      <td>4.89850</td>\n",
       "      <td>0.360353</td>\n",
       "      <td>-0.101668</td>\n",
       "      <td>-0.189427</td>\n",
       "      <td>-0.503433</td>\n",
       "      <td>100</td>\n",
       "    </tr>\n",
       "    <tr>\n",
       "      <th>3</th>\n",
       "      <td>-0.552259</td>\n",
       "      <td>-0.018941</td>\n",
       "      <td>52.37792</td>\n",
       "      <td>4.87300</td>\n",
       "      <td>0.360353</td>\n",
       "      <td>-0.035689</td>\n",
       "      <td>-0.189427</td>\n",
       "      <td>-0.568275</td>\n",
       "      <td>130</td>\n",
       "    </tr>\n",
       "    <tr>\n",
       "      <th>4</th>\n",
       "      <td>-1.058354</td>\n",
       "      <td>-0.018941</td>\n",
       "      <td>52.38051</td>\n",
       "      <td>4.87493</td>\n",
       "      <td>-1.723069</td>\n",
       "      <td>-0.101668</td>\n",
       "      <td>-0.189427</td>\n",
       "      <td>-0.345960</td>\n",
       "      <td>90</td>\n",
       "    </tr>\n",
       "    <tr>\n",
       "      <th>...</th>\n",
       "      <td>...</td>\n",
       "      <td>...</td>\n",
       "      <td>...</td>\n",
       "      <td>...</td>\n",
       "      <td>...</td>\n",
       "      <td>...</td>\n",
       "      <td>...</td>\n",
       "      <td>...</td>\n",
       "      <td>...</td>\n",
       "    </tr>\n",
       "    <tr>\n",
       "      <th>12896</th>\n",
       "      <td>-0.141233</td>\n",
       "      <td>-0.416990</td>\n",
       "      <td>52.37194</td>\n",
       "      <td>4.84965</td>\n",
       "      <td>0.360353</td>\n",
       "      <td>-0.167647</td>\n",
       "      <td>-0.189427</td>\n",
       "      <td>0.246882</td>\n",
       "      <td>65</td>\n",
       "    </tr>\n",
       "    <tr>\n",
       "      <th>12897</th>\n",
       "      <td>1.177595</td>\n",
       "      <td>0.578133</td>\n",
       "      <td>52.36263</td>\n",
       "      <td>4.98031</td>\n",
       "      <td>0.360353</td>\n",
       "      <td>0.228227</td>\n",
       "      <td>-0.189427</td>\n",
       "      <td>2.738670</td>\n",
       "      <td>160</td>\n",
       "    </tr>\n",
       "    <tr>\n",
       "      <th>12898</th>\n",
       "      <td>0.593210</td>\n",
       "      <td>0.379108</td>\n",
       "      <td>52.35719</td>\n",
       "      <td>4.90009</td>\n",
       "      <td>0.360353</td>\n",
       "      <td>-0.035689</td>\n",
       "      <td>-0.189427</td>\n",
       "      <td>-0.568275</td>\n",
       "      <td>180</td>\n",
       "    </tr>\n",
       "    <tr>\n",
       "      <th>12899</th>\n",
       "      <td>0.289367</td>\n",
       "      <td>0.976182</td>\n",
       "      <td>52.34855</td>\n",
       "      <td>4.85105</td>\n",
       "      <td>0.360353</td>\n",
       "      <td>-0.101668</td>\n",
       "      <td>-0.189427</td>\n",
       "      <td>-0.568275</td>\n",
       "      <td>136</td>\n",
       "    </tr>\n",
       "    <tr>\n",
       "      <th>12900</th>\n",
       "      <td>1.693942</td>\n",
       "      <td>1.175207</td>\n",
       "      <td>52.35865</td>\n",
       "      <td>4.89795</td>\n",
       "      <td>4.527197</td>\n",
       "      <td>0.096269</td>\n",
       "      <td>1.476296</td>\n",
       "      <td>2.812775</td>\n",
       "      <td>337</td>\n",
       "    </tr>\n",
       "  </tbody>\n",
       "</table>\n",
       "<p>12893 rows × 9 columns</p>\n",
       "</div>"
      ],
      "text/plain": [
       "       host_name  neighbourhood  latitude  longitude  room_type  \\\n",
       "0       0.433832       0.379108  52.35368    4.90177   0.360353   \n",
       "1      -0.588609      -0.217965  52.35728    4.92052   0.360353   \n",
       "2       0.814102       1.374231  52.37582    4.89850   0.360353   \n",
       "3      -0.552259      -0.018941  52.37792    4.87300   0.360353   \n",
       "4      -1.058354      -0.018941  52.38051    4.87493  -1.723069   \n",
       "...          ...            ...       ...        ...        ...   \n",
       "12896  -0.141233      -0.416990  52.37194    4.84965   0.360353   \n",
       "12897   1.177595       0.578133  52.36263    4.98031   0.360353   \n",
       "12898   0.593210       0.379108  52.35719    4.90009   0.360353   \n",
       "12899   0.289367       0.976182  52.34855    4.85105   0.360353   \n",
       "12900   1.693942       1.175207  52.35865    4.89795   4.527197   \n",
       "\n",
       "       minimum_nights  calculated_host_listings_count  availability_365  price  \n",
       "0           -0.035689                       -0.189427         -0.568275    220  \n",
       "1            0.030290                       -0.189427         -0.568275    110  \n",
       "2           -0.101668                       -0.189427         -0.503433    100  \n",
       "3           -0.035689                       -0.189427         -0.568275    130  \n",
       "4           -0.101668                       -0.189427         -0.345960     90  \n",
       "...               ...                             ...               ...    ...  \n",
       "12896       -0.167647                       -0.189427          0.246882     65  \n",
       "12897        0.228227                       -0.189427          2.738670    160  \n",
       "12898       -0.035689                       -0.189427         -0.568275    180  \n",
       "12899       -0.101668                       -0.189427         -0.568275    136  \n",
       "12900        0.096269                        1.476296          2.812775    337  \n",
       "\n",
       "[12893 rows x 9 columns]"
      ]
     },
     "execution_count": 18,
     "metadata": {},
     "output_type": "execute_result"
    }
   ],
   "source": [
    "df"
   ]
  },
  {
   "cell_type": "code",
   "execution_count": 19,
   "id": "ef0480ce",
   "metadata": {},
   "outputs": [
    {
     "name": "stderr",
     "output_type": "stream",
     "text": [
      "C:\\Users\\pavan\\AppData\\Local\\Temp\\ipykernel_17252\\2222881566.py:1: FutureWarning: In a future version of pandas all arguments of DataFrame.drop except for the argument 'labels' will be keyword-only.\n",
      "  x=df.drop('price',1)\n"
     ]
    }
   ],
   "source": [
    "x=df.drop('price',1)\n",
    "y=df['price']"
   ]
  },
  {
   "cell_type": "code",
   "execution_count": 20,
   "id": "4ae0ddae",
   "metadata": {},
   "outputs": [],
   "source": [
    "from sklearn.model_selection import train_test_split\n",
    "xtrain,xtest,ytrain,ytest=train_test_split(x,y,random_state=42)"
   ]
  },
  {
   "cell_type": "code",
   "execution_count": 21,
   "id": "9bf29709",
   "metadata": {},
   "outputs": [
    {
     "name": "stdout",
     "output_type": "stream",
     "text": [
      "--------------------------------------------------\n",
      "Train acc 0.10563509484903644\n",
      "Test acc 0.10465706331498903\n",
      "--------------------------------------------------\n"
     ]
    }
   ],
   "source": [
    "from sklearn.linear_model import LinearRegression\n",
    "from sklearn.metrics import r2_score\n",
    "\n",
    "lin_model=LinearRegression()\n",
    "lin_model.fit(xtrain,ytrain)\n",
    "train_pred=lin_model.predict(xtrain)\n",
    "test_pred=lin_model.predict(xtest)\n",
    "print('-'*50)\n",
    "print('Train acc',r2_score(ytrain,train_pred))\n",
    "print('Test acc',r2_score(ytest,test_pred))\n",
    "print('-'*50)"
   ]
  },
  {
   "cell_type": "code",
   "execution_count": 22,
   "id": "444154ed",
   "metadata": {},
   "outputs": [
    {
     "name": "stdout",
     "output_type": "stream",
     "text": [
      "--------------------------------------------------\n",
      "Train acc 0.10546887965207707\n",
      "Test acc 0.10572430472643213\n",
      "--------------------------------------------------\n"
     ]
    }
   ],
   "source": [
    "from sklearn.linear_model import Lasso\n",
    "\n",
    "model=Lasso()\n",
    "model.fit(xtrain,ytrain)\n",
    "train_pred=model.predict(xtrain)\n",
    "test_pred=model.predict(xtest)\n",
    "print('-'*50)\n",
    "print('Train acc',r2_score(ytrain,train_pred))\n",
    "print('Test acc',r2_score(ytest,test_pred))\n",
    "print('-'*50)"
   ]
  },
  {
   "cell_type": "code",
   "execution_count": 23,
   "id": "5b5d1fc1",
   "metadata": {},
   "outputs": [
    {
     "name": "stdout",
     "output_type": "stream",
     "text": [
      "--------------------------------------------------\n",
      "Train acc 0.10563335308081478\n",
      "Test acc 0.10466558992149733\n",
      "--------------------------------------------------\n"
     ]
    }
   ],
   "source": [
    "from sklearn.linear_model import Ridge\n",
    "\n",
    "model=Ridge()\n",
    "model.fit(xtrain,ytrain)\n",
    "train_pred=model.predict(xtrain)\n",
    "test_pred=model.predict(xtest)\n",
    "print('-'*50)\n",
    "print('Train acc',r2_score(ytrain,train_pred))\n",
    "print('Test acc',r2_score(ytest,test_pred))\n",
    "print('-'*50)"
   ]
  },
  {
   "cell_type": "code",
   "execution_count": 24,
   "id": "8005510a",
   "metadata": {},
   "outputs": [
    {
     "name": "stdout",
     "output_type": "stream",
     "text": [
      "--------------------------------------------------\n",
      "Train acc 0.09631234321192861\n",
      "Test acc 0.10240841592195493\n",
      "--------------------------------------------------\n"
     ]
    }
   ],
   "source": [
    "from sklearn.linear_model import ElasticNet\n",
    "\n",
    "model=ElasticNet()\n",
    "model.fit(xtrain,ytrain)\n",
    "train_pred=model.predict(xtrain)\n",
    "test_pred=model.predict(xtest)\n",
    "print('-'*50)\n",
    "print('Train acc',r2_score(ytrain,train_pred))\n",
    "print('Test acc',r2_score(ytest,test_pred))\n",
    "print('-'*50)"
   ]
  }
 ],
 "metadata": {
  "kernelspec": {
   "display_name": "Python 3 (ipykernel)",
   "language": "python",
   "name": "python3"
  },
  "language_info": {
   "codemirror_mode": {
    "name": "ipython",
    "version": 3
   },
   "file_extension": ".py",
   "mimetype": "text/x-python",
   "name": "python",
   "nbconvert_exporter": "python",
   "pygments_lexer": "ipython3",
   "version": "3.9.12"
  }
 },
 "nbformat": 4,
 "nbformat_minor": 5
}
