{
 "cells": [
  {
   "cell_type": "markdown",
   "id": "b15bf5bc",
   "metadata": {},
   "source": [
    "### Implement Binary tree"
   ]
  },
  {
   "cell_type": "code",
   "execution_count": 1,
   "id": "61d8b0b0",
   "metadata": {},
   "outputs": [],
   "source": [
    "class BinaryTree:\n",
    "    def __init__(self, val=None):\n",
    "        self.val = val\n",
    "        self.left = None\n",
    "        self.right = None\n",
    "\n",
    "    def add_node(self, val):\n",
    "        if self.val is None:\n",
    "            self.val = val\n",
    "        elif val < self.val:\n",
    "            if not self.left:\n",
    "                self.left = BinaryTree(val)\n",
    "            else:\n",
    "                self.left.add_node(val)\n",
    "        else:\n",
    "            if not self.right:\n",
    "                self.right = BinaryTree(val)\n",
    "            else:\n",
    "                self.right.add_node(val)\n",
    "\n",
    "                \n",
    "                \n",
    "tree = BinaryTree()\n",
    "tree.add_node(5)\n",
    "tree.add_node(3)\n",
    "tree.add_node(7)\n",
    "tree.add_node(1)\n",
    "tree.add_node(4)\n",
    "tree.add_node(6)\n",
    "tree.add_node(8)"
   ]
  },
  {
   "cell_type": "markdown",
   "id": "08ef003c",
   "metadata": {},
   "source": [
    "### Find height of a given tree"
   ]
  },
  {
   "cell_type": "code",
   "execution_count": 2,
   "id": "e52d51ee",
   "metadata": {},
   "outputs": [
    {
     "name": "stdout",
     "output_type": "stream",
     "text": [
      "Depth of node 5: 1\n"
     ]
    }
   ],
   "source": [
    "class Node:\n",
    "    def __init__(self, val):\n",
    "        self.val = val\n",
    "        self.left = None\n",
    "        self.right = None\n",
    "\n",
    "class BinaryTree:\n",
    "    def __init__(self):\n",
    "        self.root = None\n",
    "\n",
    "    def add_node(self, val):\n",
    "        new_node = Node(val)\n",
    "\n",
    "        if self.root is None:\n",
    "            self.root = new_node\n",
    "            return\n",
    "\n",
    "        queue = [self.root]\n",
    "        while queue:\n",
    "            cur_node = queue.pop(0)\n",
    "\n",
    "            if cur_node.left is None:\n",
    "                cur_node.left = new_node\n",
    "                return\n",
    "            else:\n",
    "                queue.append(cur_node.left)\n",
    "\n",
    "            if cur_node.right is None:\n",
    "                cur_node.right = new_node\n",
    "                return\n",
    "            else:\n",
    "                queue.append(cur_node.right)\n",
    "\n",
    "    def find_depth(self, val):\n",
    "        if self.root is None:\n",
    "            return None\n",
    "\n",
    "        queue = [(self.root, 1)]\n",
    "        while queue:\n",
    "            cur_node, depth = queue.pop(0)\n",
    "\n",
    "            if cur_node.val == val:\n",
    "                return depth\n",
    "\n",
    "            if cur_node.left:\n",
    "                queue.append((cur_node.left, depth + 1))\n",
    "\n",
    "            if cur_node.right:\n",
    "                queue.append((cur_node.right, depth + 1))\n",
    "\n",
    "        return None\n",
    "\n",
    "tree = BinaryTree()\n",
    "tree.add_node(5)\n",
    "tree.add_node(3)\n",
    "tree.add_node(7)\n",
    "tree.add_node(1)\n",
    "tree.add_node(4)\n",
    "tree.add_node(6)\n",
    "tree.add_node(8)\n",
    "\n",
    "depth = tree.find_depth(5)\n",
    "print(\"Depth of node 5:\", depth) \n",
    "\n"
   ]
  },
  {
   "cell_type": "markdown",
   "id": "5e0e8b9e",
   "metadata": {},
   "source": [
    "### Perform Pre-order, Post-order, In-order traversal"
   ]
  },
  {
   "cell_type": "code",
   "execution_count": 3,
   "id": "1bb5f80c",
   "metadata": {},
   "outputs": [
    {
     "name": "stdout",
     "output_type": "stream",
     "text": [
      "Preorder Traversal:  1 2 4 5 3 6 7 \n",
      "Inorder Traversal:  4 2 5 1 6 3 7 \n",
      "Postorder Traversal:  4 5 2 6 7 3 1 \n"
     ]
    }
   ],
   "source": [
    "class Node:\n",
    "    def __init__(self, x):\n",
    "        self.data = x\n",
    "        self.left = None\n",
    "        self.right = None\n",
    "\n",
    "def traversar(root):\n",
    "    pre = []\n",
    "    post = []\n",
    "    inn = []\n",
    "    s = []\n",
    "    s.append([root, 1])\n",
    "\n",
    "    while (len(s) > 0):\n",
    "        p = s[-1]\n",
    "        if (p[1] == 1):\n",
    "            s[-1][1] += 1\n",
    "            pre.append(p[0].data)\n",
    "            if (p[0].left):\n",
    "                s.append([p[0].left, 1])\n",
    "        elif (p[1] == 2):\n",
    "            s[-1][1] += 1\n",
    "            inn.append(p[0].data);\n",
    "            if (p[0].right):\n",
    "                s.append([p[0].right, 1])\n",
    "        else:\n",
    "            post.append(p[0].data);\n",
    "            del s[-1]\n",
    "\n",
    "    print(\"Preorder Traversal: \",end=\" \")\n",
    "    for i in pre:\n",
    "        print(i,end=\" \")\n",
    "    print()\n",
    "    print(\"Inorder Traversal: \",end=\" \")\n",
    "\n",
    "    for i in inn:\n",
    "        print(i,end=\" \")\n",
    "    print()\n",
    "\n",
    "    print(\"Postorder Traversal: \",end=\" \")\n",
    "\n",
    "    for i in post:\n",
    "        print(i,end=\" \")\n",
    "    print()\n",
    "\n",
    "root = Node(1)\n",
    "root.left = Node(2)\n",
    "root.right = Node(3)\n",
    "root.left.left = Node(4)\n",
    "root.left.right = Node(5)\n",
    "root.right.left = Node(6)\n",
    "root.right.right = Node(7)\n",
    "traversar(root)"
   ]
  },
  {
   "cell_type": "markdown",
   "id": "c68d61c4",
   "metadata": {},
   "source": [
    "### Function to print all the leaves in a given binary tree"
   ]
  },
  {
   "cell_type": "code",
   "execution_count": null,
   "id": "61c78c2e",
   "metadata": {},
   "outputs": [],
   "source": [
    "def print_leaves(node):\n",
    "    if not node:\n",
    "        return\n",
    "    \n",
    "    if not node.left and not node.right:\n",
    "        print(node.val)\n",
    "\n",
    "    print_leaves(node.left)\n",
    "    print_leaves(node.right)\n",
    "print(\"Leaf nodes:\")\n",
    "print_leaves(root_node)\n"
   ]
  },
  {
   "cell_type": "markdown",
   "id": "6487814e",
   "metadata": {},
   "source": [
    "### Implement BFS (Breath First Search) and DFS (Depth First Search)"
   ]
  },
  {
   "cell_type": "code",
   "execution_count": 4,
   "id": "5060eb8c",
   "metadata": {},
   "outputs": [
    {
     "name": "stdout",
     "output_type": "stream",
     "text": [
      "[1, 2, 3, 4, 5]\n"
     ]
    }
   ],
   "source": [
    "#BFS\n",
    "\n",
    "from collections import deque\n",
    "\n",
    "class Node:\n",
    "    def __init__(self, val=None):\n",
    "        self.val = val\n",
    "        self.left = None\n",
    "        self.right = None\n",
    "\n",
    "def bfs(root):\n",
    "    if root is None:\n",
    "        return []\n",
    "\n",
    "    queue = deque([root])\n",
    "    result = []\n",
    "\n",
    "    while queue:\n",
    "        node = queue.popleft()\n",
    "        result.append(node.val)\n",
    "\n",
    "        if node.left:\n",
    "            queue.append(node.left)\n",
    "\n",
    "        if node.right:\n",
    "            queue.append(node.right)\n",
    "\n",
    "    return result\n",
    "\n",
    "# Example usage:\n",
    "root = Node(1)\n",
    "root.left = Node(2)\n",
    "root.right = Node(3)\n",
    "root.left.left = Node(4)\n",
    "root.left.right = Node(5)\n",
    "\n",
    "result = bfs(root)\n",
    "print(result)\n"
   ]
  },
  {
   "cell_type": "code",
   "execution_count": null,
   "id": "d1f7a2fd",
   "metadata": {},
   "outputs": [],
   "source": []
  },
  {
   "cell_type": "code",
   "execution_count": 5,
   "id": "920a71f7",
   "metadata": {},
   "outputs": [
    {
     "name": "stdout",
     "output_type": "stream",
     "text": [
      "[1, 2, 4, 5, 3]\n"
     ]
    }
   ],
   "source": [
    "#Dfs\n",
    "\n",
    "class Node:\n",
    "    def __init__(self, val=None):\n",
    "        self.val = val\n",
    "        self.left = None\n",
    "        self.right = None\n",
    "\n",
    "def dfs(root):\n",
    "    if root is None:\n",
    "        return []\n",
    "\n",
    "    stack = [root]\n",
    "    result = []\n",
    "\n",
    "    while stack:\n",
    "        node = stack.pop()\n",
    "        result.append(node.val)\n",
    "\n",
    "        if node.right:\n",
    "            stack.append(node.right)\n",
    "\n",
    "        if node.left:\n",
    "            stack.append(node.left)\n",
    "\n",
    "    return result\n",
    "\n",
    "# Example usage:\n",
    "root = Node(1)\n",
    "root.left = Node(2)\n",
    "root.right = Node(3)\n",
    "root.left.left = Node(4)\n",
    "root.left.right = Node(5)\n",
    "\n",
    "result = dfs(root)\n",
    "print(result)\n"
   ]
  },
  {
   "cell_type": "markdown",
   "id": "ec23a586",
   "metadata": {},
   "source": [
    "### Find sum of all left leaves in a given Binary Tree"
   ]
  },
  {
   "cell_type": "code",
   "execution_count": 6,
   "id": "1605a36d",
   "metadata": {},
   "outputs": [
    {
     "name": "stdout",
     "output_type": "stream",
     "text": [
      "10\n"
     ]
    }
   ],
   "source": [
    "class Node:\n",
    "    def __init__(self, val=None):\n",
    "        self.val = val\n",
    "        self.left = None\n",
    "        self.right = None\n",
    "\n",
    "def sum_of_left_leaves(root):\n",
    "    if root is None:\n",
    "        return 0\n",
    "\n",
    "    stack = [(root, False)]\n",
    "    total = 0\n",
    "\n",
    "    while stack:\n",
    "        node, is_left = stack.pop()\n",
    "\n",
    "        if is_left and node.left is None and node.right is None:\n",
    "            total += node.val\n",
    "\n",
    "        if node.right:\n",
    "            stack.append((node.right, False))\n",
    "\n",
    "        if node.left:\n",
    "            stack.append((node.left, True))\n",
    "\n",
    "    return total\n",
    "\n",
    "# Example usage:\n",
    "root = Node(1)\n",
    "root.left = Node(2)\n",
    "root.right = Node(3)\n",
    "root.left.left = Node(4)\n",
    "root.left.right = Node(5)\n",
    "root.right.left = Node(6)\n",
    "root.right.right = Node(7)\n",
    "\n",
    "total = sum_of_left_leaves(root)\n",
    "print(total)\n"
   ]
  },
  {
   "cell_type": "markdown",
   "id": "3df2c486",
   "metadata": {},
   "source": [
    "### Find sum of all nodes of the given perfect binary tree"
   ]
  },
  {
   "cell_type": "code",
   "execution_count": 7,
   "id": "9ca53e22",
   "metadata": {},
   "outputs": [
    {
     "name": "stdout",
     "output_type": "stream",
     "text": [
      "50\n"
     ]
    }
   ],
   "source": [
    "class Node:\n",
    "    def __init__(self, val=None):\n",
    "        self.val = val\n",
    "        self.left = None\n",
    "        self.right = None\n",
    "\n",
    "def sum_of_nodes(root):\n",
    "    if root is None:\n",
    "        return 0\n",
    "\n",
    "    left_subtree_height = 0\n",
    "    node = root.left\n",
    "    while node is not None:\n",
    "        left_subtree_height += 1\n",
    "        node = node.left\n",
    "\n",
    "    num_nodes_in_left_subtree = 2 ** left_subtree_height - 1\n",
    "    num_nodes_in_right_subtree = num_nodes_in_left_subtree\n",
    "\n",
    "    if root.right is not None:\n",
    "        num_nodes_in_right_subtree += 1\n",
    "\n",
    "    total = root.val + num_nodes_in_left_subtree * root.val + num_nodes_in_right_subtree * root.val\n",
    "\n",
    "    total += sum_of_nodes(root.left)\n",
    "    total += sum_of_nodes(root.right)\n",
    "\n",
    "    return total\n",
    "\n",
    "# Example usage:\n",
    "root = Node(1)\n",
    "root.left = Node(2)\n",
    "root.right = Node(3)\n",
    "root.left.left = Node(4)\n",
    "root.left.right = Node(5)\n",
    "root.right.left = Node(6)\n",
    "root.right.right = Node(7)\n",
    "\n",
    "total = sum_of_nodes(root)\n",
    "print(total)"
   ]
  },
  {
   "cell_type": "markdown",
   "id": "91280241",
   "metadata": {},
   "source": [
    "### Count subtress that sum up to a given value x in a binary tree"
   ]
  },
  {
   "cell_type": "code",
   "execution_count": 8,
   "id": "255fee48",
   "metadata": {},
   "outputs": [
    {
     "name": "stdout",
     "output_type": "stream",
     "text": [
      "2\n"
     ]
    }
   ],
   "source": [
    "class Node:\n",
    "    def __init__(self, val):\n",
    "        self.val = val\n",
    "        self.left = None\n",
    "        self.right = None\n",
    "\n",
    "def count_subtrees_with_sum_x(root, x):\n",
    "    if root is None:\n",
    "        return 0\n",
    "\n",
    "    count = 0\n",
    "\n",
    "    def dfs(node):\n",
    "        nonlocal count\n",
    "        if node is None:\n",
    "            return 0\n",
    "\n",
    "        left_sum = dfs(node.left)\n",
    "        right_sum = dfs(node.right)\n",
    "\n",
    "        subtree_sum = left_sum + right_sum + node.val\n",
    "\n",
    "        if subtree_sum == x:\n",
    "            count += 1\n",
    "\n",
    "        return subtree_sum\n",
    "\n",
    "    dfs(root)\n",
    "    return count\n",
    "\n",
    "# Example usage:\n",
    "root = Node(5)\n",
    "root.left = Node(-10)\n",
    "root.right = Node(3)\n",
    "root.left.left = Node(9)\n",
    "root.left.right = Node(8)\n",
    "root.right.left = Node(-4)\n",
    "root.right.right = Node(7)\n",
    "\n",
    "x = 7\n",
    "count = count_subtrees_with_sum_x(root, x)\n",
    "print(count)\n"
   ]
  },
  {
   "cell_type": "markdown",
   "id": "5b00042b",
   "metadata": {},
   "source": [
    "### Find maximum level sum in Binary Tree"
   ]
  },
  {
   "cell_type": "code",
   "execution_count": 9,
   "id": "8d6be77d",
   "metadata": {},
   "outputs": [
    {
     "name": "stdout",
     "output_type": "stream",
     "text": [
      "22\n"
     ]
    }
   ],
   "source": [
    "class Node:\n",
    "    def __init__(self, val):\n",
    "        self.val = val\n",
    "        self.left = None\n",
    "        self.right = None\n",
    "\n",
    "def max_level_sum(root):\n",
    "    if root is None:\n",
    "        return 0\n",
    "\n",
    "    queue = [root]\n",
    "    max_sum = float('-inf')\n",
    "    level = 0\n",
    "\n",
    "    while queue:\n",
    "        level += 1\n",
    "        level_sum = 0\n",
    "        level_size = len(queue)\n",
    "\n",
    "        for i in range(level_size):\n",
    "            node = queue.pop(0)\n",
    "            level_sum += node.val\n",
    "\n",
    "            if node.left:\n",
    "                queue.append(node.left)\n",
    "\n",
    "            if node.right:\n",
    "                queue.append(node.right)\n",
    "\n",
    "        if level_sum > max_sum:\n",
    "            max_sum = level_sum\n",
    "\n",
    "    return max_sum\n",
    "\n",
    "# Example usage:\n",
    "root = Node(1)\n",
    "root.left = Node(2)\n",
    "root.right = Node(3)\n",
    "root.left.left = Node(4)\n",
    "root.left.right = Node(5)\n",
    "root.right.left = Node(6)\n",
    "root.right.right = Node(7)\n",
    "\n",
    "max_sum = max_level_sum(root)\n",
    "print(max_sum)"
   ]
  },
  {
   "cell_type": "markdown",
   "id": "f84d998e",
   "metadata": {},
   "source": [
    "### Print the nodes at odd levels of a tree"
   ]
  },
  {
   "cell_type": "code",
   "execution_count": 10,
   "id": "4729e384",
   "metadata": {},
   "outputs": [
    {
     "name": "stdout",
     "output_type": "stream",
     "text": [
      "1\n",
      "5\n",
      "3\n",
      "7\n"
     ]
    }
   ],
   "source": [
    "class Node:\n",
    "    def __init__(self, val):\n",
    "        self.val = val\n",
    "        self.left = None\n",
    "        self.right = None\n",
    "\n",
    "def print_odd_levels(root):\n",
    "    if root is None:\n",
    "        return\n",
    "\n",
    "    # print node value if current level is odd\n",
    "    if root.val % 2 == 1:\n",
    "        print(root.val)\n",
    "\n",
    "    # traverse left and right subtrees\n",
    "    print_odd_levels(root.left)\n",
    "    print_odd_levels(root.right)\n",
    "\n",
    "# Example usage:\n",
    "root = Node(1)\n",
    "root.left = Node(2)\n",
    "root.right = Node(3)\n",
    "root.left.left = Node(4)\n",
    "root.left.right = Node(5)\n",
    "root.right.left = Node(6)\n",
    "root.right.right = Node(7)\n",
    "\n",
    "print_odd_levels(root)\n"
   ]
  },
  {
   "cell_type": "code",
   "execution_count": null,
   "id": "a963d4cc",
   "metadata": {},
   "outputs": [],
   "source": []
  }
 ],
 "metadata": {
  "kernelspec": {
   "display_name": "Python 3 (ipykernel)",
   "language": "python",
   "name": "python3"
  },
  "language_info": {
   "codemirror_mode": {
    "name": "ipython",
    "version": 3
   },
   "file_extension": ".py",
   "mimetype": "text/x-python",
   "name": "python",
   "nbconvert_exporter": "python",
   "pygments_lexer": "ipython3",
   "version": "3.9.12"
  }
 },
 "nbformat": 4,
 "nbformat_minor": 5
}
