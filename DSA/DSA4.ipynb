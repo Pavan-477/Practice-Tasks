{
 "cells": [
  {
   "cell_type": "markdown",
   "id": "e1b2995b",
   "metadata": {},
   "source": [
    "### Breadth First Traversal for a Graph"
   ]
  },
  {
   "cell_type": "code",
   "execution_count": 1,
   "id": "19a24b4f",
   "metadata": {},
   "outputs": [
    {
     "name": "stdout",
     "output_type": "stream",
     "text": [
      "A B C D E F "
     ]
    }
   ],
   "source": [
    "from queue import Queue\n",
    "\n",
    "def bfs(graph, start_node):\n",
    "    visited = set()    # to keep track of visited nodes\n",
    "    queue = Queue()    # to implement BFS\n",
    "\n",
    "    # enqueue the start node and mark it as visited\n",
    "    queue.put(start_node)\n",
    "    visited.add(start_node)\n",
    "\n",
    "    while not queue.empty():\n",
    "        # dequeue a node and process it\n",
    "        curr_node = queue.get()\n",
    "        print(curr_node, end=' ')\n",
    "\n",
    "        # enqueue all adjacent nodes of the current node\n",
    "        for adj_node in graph[curr_node]:\n",
    "            if adj_node not in visited:\n",
    "                queue.put(adj_node)\n",
    "                visited.add(adj_node)\n",
    "\n",
    "# Example usage:\n",
    "graph = {\n",
    "    'A': ['B', 'C'],\n",
    "    'B': ['D', 'E'],\n",
    "    'C': ['F'],\n",
    "    'D': [],\n",
    "    'E': ['F'],\n",
    "    'F': []\n",
    "}\n",
    "\n",
    "bfs(graph, 'A')\n"
   ]
  },
  {
   "cell_type": "markdown",
   "id": "edf7c194",
   "metadata": {},
   "source": [
    "### Depth First Traversal for a Graph"
   ]
  },
  {
   "cell_type": "code",
   "execution_count": 2,
   "id": "a5effd03",
   "metadata": {},
   "outputs": [
    {
     "name": "stdout",
     "output_type": "stream",
     "text": [
      "A B D E F C "
     ]
    }
   ],
   "source": [
    "def dfs(graph, start_node, visited=set()):\n",
    "    visited.add(start_node)\n",
    "    print(start_node, end=' ')\n",
    "\n",
    "    for adj_node in graph[start_node]:\n",
    "        if adj_node not in visited:\n",
    "            dfs(graph, adj_node, visited)\n",
    "\n",
    "# Example usage:\n",
    "graph = {\n",
    "    'A': ['B', 'C'],\n",
    "    'B': ['D', 'E'],\n",
    "    'C': ['F'],\n",
    "    'D': [],\n",
    "    'E': ['F'],\n",
    "    'F': []\n",
    "}\n",
    "\n",
    "dfs(graph, 'A')\n"
   ]
  },
  {
   "cell_type": "markdown",
   "id": "23d41cb0",
   "metadata": {},
   "source": [
    "### Count the number of nodes at given level in a tree using BFS"
   ]
  },
  {
   "cell_type": "code",
   "execution_count": 3,
   "id": "2cd139c0",
   "metadata": {},
   "outputs": [],
   "source": [
    "from collections import deque\n",
    "\n",
    "def count_nodes_at_level(root, level):\n",
    "    if not root:\n",
    "        return 0\n",
    "\n",
    "    queue = deque([root])\n",
    "    current_level = 0\n",
    "    nodes_at_level = 0\n",
    "\n",
    "    while queue:\n",
    "        current_level += 1\n",
    "        level_size = len(queue)\n",
    "\n",
    "        if current_level == level:\n",
    "            nodes_at_level = level_size\n",
    "\n",
    "        for i in range(level_size):\n",
    "            node = queue.popleft()\n",
    "\n",
    "            if node.left:\n",
    "                queue.append(node.left)\n",
    "\n",
    "            if node.right:\n",
    "                queue.append(node.right)\n",
    "\n",
    "    return nodes_at_level\n"
   ]
  },
  {
   "cell_type": "markdown",
   "id": "b82d510c",
   "metadata": {},
   "source": [
    "### Count number of trees in a forest"
   ]
  },
  {
   "cell_type": "code",
   "execution_count": 4,
   "id": "fb3159b7",
   "metadata": {},
   "outputs": [],
   "source": [
    "def count_trees(adj_list):\n",
    "    # Initialize visited set and tree count\n",
    "    visited = set()\n",
    "    tree_count = 0\n",
    "    \n",
    "    # Define DFS helper function\n",
    "    def dfs(node):\n",
    "        visited.add(node)\n",
    "        for neighbor in adj_list[node]:\n",
    "            if neighbor not in visited:\n",
    "                dfs(neighbor)\n",
    "    \n",
    "    # Traverse forest and count trees\n",
    "    for node in adj_list:\n",
    "        if node not in visited:\n",
    "            dfs(node)\n",
    "            tree_count += 1\n",
    "    \n",
    "    return tree_count\n"
   ]
  },
  {
   "cell_type": "markdown",
   "id": "2b33d4b3",
   "metadata": {},
   "source": [
    "### Detect Cycle in a Directed Graph"
   ]
  },
  {
   "cell_type": "code",
   "execution_count": 5,
   "id": "8eedbb90",
   "metadata": {},
   "outputs": [],
   "source": [
    "def has_cycle(adj_list):\n",
    "    # Initialize visited set and recursion stack\n",
    "    visited = set()\n",
    "    rec_stack = set()\n",
    "    \n",
    "    # Define DFS helper function\n",
    "    def dfs(node):\n",
    "        visited.add(node)\n",
    "        rec_stack.add(node)\n",
    "        \n",
    "        for neighbor in adj_list[node]:\n",
    "            if neighbor not in visited:\n",
    "                if dfs(neighbor):\n",
    "                    return True\n",
    "            elif neighbor in rec_stack:\n",
    "                return True\n",
    "        \n",
    "        rec_stack.remove(node)\n",
    "        return False\n",
    "    \n",
    "    # Traverse graph and check for cycles\n",
    "    for node in adj_list:\n",
    "        if node not in visited:\n",
    "            if dfs(node):\n",
    "                return True\n",
    "    \n",
    "    return False\n"
   ]
  },
  {
   "cell_type": "markdown",
   "id": "766b5716",
   "metadata": {},
   "source": [
    "### Implement n-Queen’s Problem"
   ]
  },
  {
   "cell_type": "code",
   "execution_count": 6,
   "id": "cb6e1143",
   "metadata": {},
   "outputs": [],
   "source": [
    "def n_queens(n):\n",
    "    # Initialize empty board\n",
    "    board = [-1] * n\n",
    "    \n",
    "    # Define helper function to check if a given position is safe\n",
    "    def is_safe(row, col):\n",
    "        for r, c in enumerate(board[:row]):\n",
    "            if c == col or abs(row - r) == abs(col - c):\n",
    "                return False\n",
    "        return True\n",
    "    \n",
    "    # Define recursive backtracking function\n",
    "    def place_queen(row):\n",
    "        if row == n:\n",
    "            return True\n",
    "        \n",
    "        for col in range(n):\n",
    "            if is_safe(row, col):\n",
    "                board[row] = col\n",
    "                if place_queen(row + 1):\n",
    "                    return True\n",
    "        return False\n",
    "    \n",
    "    # Call recursive function and return board if solution found, otherwise None\n",
    "    if place_queen(0):\n",
    "        return board\n",
    "    else:\n",
    "        return None\n"
   ]
  },
  {
   "cell_type": "code",
   "execution_count": null,
   "id": "6f6eb26a",
   "metadata": {},
   "outputs": [],
   "source": []
  }
 ],
 "metadata": {
  "kernelspec": {
   "display_name": "Python 3 (ipykernel)",
   "language": "python",
   "name": "python3"
  },
  "language_info": {
   "codemirror_mode": {
    "name": "ipython",
    "version": 3
   },
   "file_extension": ".py",
   "mimetype": "text/x-python",
   "name": "python",
   "nbconvert_exporter": "python",
   "pygments_lexer": "ipython3",
   "version": "3.9.12"
  }
 },
 "nbformat": 4,
 "nbformat_minor": 5
}
