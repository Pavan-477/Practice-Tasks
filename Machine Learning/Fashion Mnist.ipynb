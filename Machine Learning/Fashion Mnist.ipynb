{
 "cells": [
  {
   "cell_type": "code",
   "execution_count": 1,
   "id": "e1781553",
   "metadata": {},
   "outputs": [],
   "source": [
    "import tensorflow as tf\n",
    "import numpy as np\n",
    "import pandas as pd\n",
    "import seaborn as sns\n",
    "import matplotlib.pyplot as plt\n",
    "from tensorflow import keras"
   ]
  },
  {
   "cell_type": "code",
   "execution_count": 2,
   "id": "6c50785c",
   "metadata": {},
   "outputs": [
    {
     "name": "stdout",
     "output_type": "stream",
     "text": [
      "Keras 2.9.0\n",
      "TF 2.9.1\n"
     ]
    }
   ],
   "source": [
    "print('Keras',keras.__version__)\n",
    "print('TF',tf.__version__)"
   ]
  },
  {
   "cell_type": "code",
   "execution_count": null,
   "id": "b62dbb79",
   "metadata": {},
   "outputs": [],
   "source": []
  },
  {
   "cell_type": "markdown",
   "id": "bc2bb13d",
   "metadata": {},
   "source": [
    "### Loading the fashion MNIST data"
   ]
  },
  {
   "cell_type": "code",
   "execution_count": 3,
   "id": "d529bee1",
   "metadata": {},
   "outputs": [],
   "source": [
    "fashion_mnist=keras.datasets.fashion_mnist"
   ]
  },
  {
   "cell_type": "markdown",
   "id": "ae099531",
   "metadata": {},
   "source": [
    "  Label\t Description\n",
    "    0\t  T-shirt/top\n",
    "    1\t  Trouser\n",
    "    2\t  Pullover\n",
    "    3\t  Dress\n",
    "    4\t  Coat\n",
    "    5\t  Sandal\n",
    "    6\t  Shirt\n",
    "    7\t  Sneaker\n",
    "    8\t  Bag\n",
    "    9\t  Ankle boot"
   ]
  },
  {
   "cell_type": "markdown",
   "id": "da3d6d9c",
   "metadata": {},
   "source": [
    "### Splitting the data into train and test data"
   ]
  },
  {
   "cell_type": "code",
   "execution_count": 4,
   "id": "a06744aa",
   "metadata": {},
   "outputs": [],
   "source": [
    "(x_train_full,y_train_full),(x_test,y_test)=fashion_mnist.load_data()"
   ]
  },
  {
   "cell_type": "markdown",
   "id": "9b7633c3",
   "metadata": {},
   "source": [
    "### Checking the sample"
   ]
  },
  {
   "cell_type": "code",
   "execution_count": 5,
   "id": "ed47e897",
   "metadata": {},
   "outputs": [
    {
     "data": {
      "text/plain": [
       "<matplotlib.image.AxesImage at 0x220a1e6ea00>"
      ]
     },
     "execution_count": 5,
     "metadata": {},
     "output_type": "execute_result"
    },
    {
     "data": {
      "image/png": "[encoded data removed]",
      "text/plain": [
       "<Figure size 432x288 with 1 Axes>"
      ]
     },
     "metadata": {
      "needs_background": "light"
     },
     "output_type": "display_data"
    }
   ],
   "source": [
    "plt.imshow(x_train_full[45])"
   ]
  },
  {
   "cell_type": "code",
   "execution_count": 6,
   "id": "8d7aa062",
   "metadata": {},
   "outputs": [
    {
     "data": {
      "text/plain": [
       "4"
      ]
     },
     "execution_count": 6,
     "metadata": {},
     "output_type": "execute_result"
    }
   ],
   "source": [
    "y_train_full[96]"
   ]
  },
  {
   "cell_type": "code",
   "execution_count": 7,
   "id": "719bd45a",
   "metadata": {},
   "outputs": [
    {
     "data": {
      "text/plain": [
       "<matplotlib.image.AxesImage at 0x220a3f69cd0>"
      ]
     },
     "execution_count": 7,
     "metadata": {},
     "output_type": "execute_result"
    },
    {
     "data": {
      "image/png": "[encoded data removed]",
      "text/plain": [
       "<Figure size 432x288 with 1 Axes>"
      ]
     },
     "metadata": {
      "needs_background": "light"
     },
     "output_type": "display_data"
    }
   ],
   "source": [
    "plt.imshow(x_train_full[96])"
   ]
  },
  {
   "cell_type": "markdown",
   "id": "341f4345",
   "metadata": {},
   "source": [
    "### As per labels , its a coat\n",
    "\n",
    "### we will be labelling them with their class names"
   ]
  },
  {
   "cell_type": "code",
   "execution_count": 8,
   "id": "a9d53aff",
   "metadata": {},
   "outputs": [],
   "source": [
    "class_names=['Tees/Top','Trouser','Pullover','Dress','Coat','Sandal','Shirt','Sneaker','Bag','Ankle boot']"
   ]
  },
  {
   "cell_type": "code",
   "execution_count": 9,
   "id": "f7b00b63",
   "metadata": {},
   "outputs": [
    {
     "data": {
      "text/plain": [
       "'Coat'"
      ]
     },
     "execution_count": 9,
     "metadata": {},
     "output_type": "execute_result"
    }
   ],
   "source": [
    "class_names[y_train_full[96]]"
   ]
  },
  {
   "cell_type": "markdown",
   "id": "119ac01b",
   "metadata": {},
   "source": [
    "#### Data Normalisation"
   ]
  },
  {
   "cell_type": "code",
   "execution_count": 10,
   "id": "0f8712fa",
   "metadata": {},
   "outputs": [],
   "source": [
    "x_train_n=x_train_full/255.\n",
    "x_test_n=x_test/255."
   ]
  },
  {
   "cell_type": "markdown",
   "id": "f73204f3",
   "metadata": {},
   "source": [
    "##### Training data - for training\n",
    "##### Validation - for validation/tuning hyperparams\n",
    "##### Test data - for testing"
   ]
  },
  {
   "cell_type": "code",
   "execution_count": 11,
   "id": "646d2be0",
   "metadata": {},
   "outputs": [],
   "source": [
    "x_valid,x_train=x_train_n[:5000],x_train_n[5000:]\n",
    "y_valid,y_train=y_train_full[:5000],y_train_full[5000:]\n",
    "x_test=x_test_n"
   ]
  },
  {
   "cell_type": "code",
   "execution_count": 12,
   "id": "2668a385",
   "metadata": {},
   "outputs": [],
   "source": [
    "np.random.seed(42)\n",
    "tf.random.set_seed(42) # just to make sure we get the same result every time"
   ]
  },
  {
   "cell_type": "markdown",
   "id": "d7a3fc8c",
   "metadata": {},
   "source": [
    "#### Modelling"
   ]
  },
  {
   "cell_type": "code",
   "execution_count": 13,
   "id": "f1275373",
   "metadata": {},
   "outputs": [],
   "source": [
    "model=keras.models.Sequential()\n",
    "\n",
    "# INPUT LAYER\n",
    "model.add(keras.layers.Flatten(input_shape=[28,28]))#flattening 28*28 into a 784 flat array\n",
    "\n",
    "#HIDDEN LAYER 1,300-Number of neurons\n",
    "model.add(keras.layers.Dense(300,activation='relu'))\n",
    "\n",
    "#HIDDEN LAYER 2\n",
    "model.add(keras.layers.Dense(100,activation='relu'))\n",
    "\n",
    "#OUTPUT LAYER , 10 CATEGORIES KABATTI , 10 NEURONS, MCC KABATTI SOFTMAX\n",
    "model.add(keras.layers.Dense(10,activation='softmax'))"
   ]
  },
  {
   "cell_type": "code",
   "execution_count": 14,
   "id": "445fcd8a",
   "metadata": {},
   "outputs": [
    {
     "name": "stdout",
     "output_type": "stream",
     "text": [
      "Model: \"sequential\"\n",
      "_________________________________________________________________\n",
      " Layer (type)                Output Shape              Param #   \n",
      "=================================================================\n",
      " flatten (Flatten)           (None, 784)               0         \n",
      "                                                                 \n",
      " dense (Dense)               (None, 300)               235500    \n",
      "                                                                 \n",
      " dense_1 (Dense)             (None, 100)               30100     \n",
      "                                                                 \n",
      " dense_2 (Dense)             (None, 10)                1010      \n",
      "                                                                 \n",
      "=================================================================\n",
      "Total params: 266,610\n",
      "Trainable params: 266,610\n",
      "Non-trainable params: 0\n",
      "_________________________________________________________________\n"
     ]
    }
   ],
   "source": [
    "model.summary()"
   ]
  },
  {
   "cell_type": "markdown",
   "id": "32524227",
   "metadata": {},
   "source": [
    "### To visualize neural n/w"
   ]
  },
  {
   "cell_type": "code",
   "execution_count": 15,
   "id": "3442cec6",
   "metadata": {},
   "outputs": [],
   "source": [
    "# pip install pydot"
   ]
  },
  {
   "cell_type": "code",
   "execution_count": 16,
   "id": "0063d01d",
   "metadata": {},
   "outputs": [],
   "source": [
    "#import pydot"
   ]
  },
  {
   "cell_type": "code",
   "execution_count": 17,
   "id": "ebafff41",
   "metadata": {},
   "outputs": [],
   "source": [
    "#keras.utils.plot_model(model) AVVATLEDU LE"
   ]
  },
  {
   "cell_type": "code",
   "execution_count": 18,
   "id": "b8dfd0f3",
   "metadata": {},
   "outputs": [],
   "source": [
    "#ACCESSING WEIGHTS , BIASES\n",
    "weights,biases=model.layers[1].get_weights()"
   ]
  },
  {
   "cell_type": "code",
   "execution_count": 19,
   "id": "05318cd1",
   "metadata": {},
   "outputs": [
    {
     "data": {
      "text/plain": [
       "(784, 300)"
      ]
     },
     "execution_count": 19,
     "metadata": {},
     "output_type": "execute_result"
    }
   ],
   "source": [
    "weights.shape"
   ]
  },
  {
   "cell_type": "code",
   "execution_count": 20,
   "id": "67d569ea",
   "metadata": {},
   "outputs": [
    {
     "data": {
      "text/plain": [
       "array([0., 0., 0., 0., 0., 0., 0., 0., 0., 0., 0., 0., 0., 0., 0., 0., 0.,\n",
       "       0., 0., 0., 0., 0., 0., 0., 0., 0., 0., 0., 0., 0., 0., 0., 0., 0.,\n",
       "       0., 0., 0., 0., 0., 0., 0., 0., 0., 0., 0., 0., 0., 0., 0., 0., 0.,\n",
       "       0., 0., 0., 0., 0., 0., 0., 0., 0., 0., 0., 0., 0., 0., 0., 0., 0.,\n",
       "       0., 0., 0., 0., 0., 0., 0., 0., 0., 0., 0., 0., 0., 0., 0., 0., 0.,\n",
       "       0., 0., 0., 0., 0., 0., 0., 0., 0., 0., 0., 0., 0., 0., 0., 0., 0.,\n",
       "       0., 0., 0., 0., 0., 0., 0., 0., 0., 0., 0., 0., 0., 0., 0., 0., 0.,\n",
       "       0., 0., 0., 0., 0., 0., 0., 0., 0., 0., 0., 0., 0., 0., 0., 0., 0.,\n",
       "       0., 0., 0., 0., 0., 0., 0., 0., 0., 0., 0., 0., 0., 0., 0., 0., 0.,\n",
       "       0., 0., 0., 0., 0., 0., 0., 0., 0., 0., 0., 0., 0., 0., 0., 0., 0.,\n",
       "       0., 0., 0., 0., 0., 0., 0., 0., 0., 0., 0., 0., 0., 0., 0., 0., 0.,\n",
       "       0., 0., 0., 0., 0., 0., 0., 0., 0., 0., 0., 0., 0., 0., 0., 0., 0.,\n",
       "       0., 0., 0., 0., 0., 0., 0., 0., 0., 0., 0., 0., 0., 0., 0., 0., 0.,\n",
       "       0., 0., 0., 0., 0., 0., 0., 0., 0., 0., 0., 0., 0., 0., 0., 0., 0.,\n",
       "       0., 0., 0., 0., 0., 0., 0., 0., 0., 0., 0., 0., 0., 0., 0., 0., 0.,\n",
       "       0., 0., 0., 0., 0., 0., 0., 0., 0., 0., 0., 0., 0., 0., 0., 0., 0.,\n",
       "       0., 0., 0., 0., 0., 0., 0., 0., 0., 0., 0., 0., 0., 0., 0., 0., 0.,\n",
       "       0., 0., 0., 0., 0., 0., 0., 0., 0., 0., 0.], dtype=float32)"
      ]
     },
     "execution_count": 20,
     "metadata": {},
     "output_type": "execute_result"
    }
   ],
   "source": [
    "biases"
   ]
  },
  {
   "cell_type": "code",
   "execution_count": 21,
   "id": "a0e44a53",
   "metadata": {},
   "outputs": [
    {
     "data": {
      "text/plain": [
       "(300,)"
      ]
     },
     "execution_count": 21,
     "metadata": {},
     "output_type": "execute_result"
    }
   ],
   "source": [
    "biases.shape"
   ]
  },
  {
   "cell_type": "markdown",
   "id": "6381a971",
   "metadata": {},
   "source": [
    "#### Setting up the learning process using compile()"
   ]
  },
  {
   "cell_type": "code",
   "execution_count": 22,
   "id": "dcbf0ef1",
   "metadata": {},
   "outputs": [],
   "source": [
    "#\n",
    "model.compile(loss='sparse_categorical_crossentropy',optimizer='sgd',metrics=['accuracy'])\n",
    "#as we have specific labels for 10 different cat''s, we are using scc\n",
    "#if instead we had probabilities we've gone for cross ent\n",
    "#binary labels ayyi unte binary cross entropy choose cheskune vallam"
   ]
  },
  {
   "cell_type": "code",
   "execution_count": 23,
   "id": "573d8a80",
   "metadata": {
    "scrolled": true
   },
   "outputs": [
    {
     "name": "stdout",
     "output_type": "stream",
     "text": [
      "Epoch 1/30\n",
      "1719/1719 [==============================] - 3s 2ms/step - loss: 0.7237 - accuracy: 0.7644 - val_loss: 0.5212 - val_accuracy: 0.8222\n",
      "Epoch 2/30\n",
      "1719/1719 [==============================] - 3s 2ms/step - loss: 0.4842 - accuracy: 0.8318 - val_loss: 0.4345 - val_accuracy: 0.8536\n",
      "Epoch 3/30\n",
      "1719/1719 [==============================] - 3s 2ms/step - loss: 0.4390 - accuracy: 0.8455 - val_loss: 0.5386 - val_accuracy: 0.7968\n",
      "Epoch 4/30\n",
      "1719/1719 [==============================] - 3s 2ms/step - loss: 0.4123 - accuracy: 0.8567 - val_loss: 0.3914 - val_accuracy: 0.8656\n",
      "Epoch 5/30\n",
      "1719/1719 [==============================] - 3s 2ms/step - loss: 0.3938 - accuracy: 0.8617 - val_loss: 0.3746 - val_accuracy: 0.8682\n",
      "Epoch 6/30\n",
      "1719/1719 [==============================] - 3s 2ms/step - loss: 0.3752 - accuracy: 0.8676 - val_loss: 0.3709 - val_accuracy: 0.8732\n",
      "Epoch 7/30\n",
      "1719/1719 [==============================] - 3s 2ms/step - loss: 0.3632 - accuracy: 0.8716 - val_loss: 0.3621 - val_accuracy: 0.8732\n",
      "Epoch 8/30\n",
      "1719/1719 [==============================] - 3s 2ms/step - loss: 0.3518 - accuracy: 0.8750 - val_loss: 0.3860 - val_accuracy: 0.8622\n",
      "Epoch 9/30\n",
      "1719/1719 [==============================] - 3s 2ms/step - loss: 0.3414 - accuracy: 0.8791 - val_loss: 0.3588 - val_accuracy: 0.8712\n",
      "Epoch 10/30\n",
      "1719/1719 [==============================] - 3s 2ms/step - loss: 0.3323 - accuracy: 0.8823 - val_loss: 0.3438 - val_accuracy: 0.8772\n",
      "Epoch 11/30\n",
      "1719/1719 [==============================] - 3s 2ms/step - loss: 0.3242 - accuracy: 0.8837 - val_loss: 0.3440 - val_accuracy: 0.8774\n",
      "Epoch 12/30\n",
      "1719/1719 [==============================] - 3s 2ms/step - loss: 0.3151 - accuracy: 0.8868 - val_loss: 0.3312 - val_accuracy: 0.8820\n",
      "Epoch 13/30\n",
      "1719/1719 [==============================] - 3s 2ms/step - loss: 0.3083 - accuracy: 0.8891 - val_loss: 0.3266 - val_accuracy: 0.8888\n",
      "Epoch 14/30\n",
      "1719/1719 [==============================] - 3s 2ms/step - loss: 0.3023 - accuracy: 0.8915 - val_loss: 0.3404 - val_accuracy: 0.8782\n",
      "Epoch 15/30\n",
      "1719/1719 [==============================] - 3s 2ms/step - loss: 0.2949 - accuracy: 0.8937 - val_loss: 0.3221 - val_accuracy: 0.8852\n",
      "Epoch 16/30\n",
      "1719/1719 [==============================] - 3s 2ms/step - loss: 0.2893 - accuracy: 0.8971 - val_loss: 0.3093 - val_accuracy: 0.8896\n",
      "Epoch 17/30\n",
      "1719/1719 [==============================] - 3s 2ms/step - loss: 0.2841 - accuracy: 0.8975 - val_loss: 0.3542 - val_accuracy: 0.8744\n",
      "Epoch 18/30\n",
      "1719/1719 [==============================] - 3s 2ms/step - loss: 0.2779 - accuracy: 0.8998 - val_loss: 0.3140 - val_accuracy: 0.8904\n",
      "Epoch 19/30\n",
      "1719/1719 [==============================] - 3s 2ms/step - loss: 0.2729 - accuracy: 0.9022 - val_loss: 0.3117 - val_accuracy: 0.8908\n",
      "Epoch 20/30\n",
      "1719/1719 [==============================] - 3s 2ms/step - loss: 0.2675 - accuracy: 0.9036 - val_loss: 0.3267 - val_accuracy: 0.8818\n",
      "Epoch 21/30\n",
      "1719/1719 [==============================] - 3s 2ms/step - loss: 0.2627 - accuracy: 0.9054 - val_loss: 0.3067 - val_accuracy: 0.8932\n",
      "Epoch 22/30\n",
      "1719/1719 [==============================] - 3s 2ms/step - loss: 0.2576 - accuracy: 0.9073 - val_loss: 0.2980 - val_accuracy: 0.8952\n",
      "Epoch 23/30\n",
      "1719/1719 [==============================] - 3s 2ms/step - loss: 0.2537 - accuracy: 0.9086 - val_loss: 0.2990 - val_accuracy: 0.8922\n",
      "Epoch 24/30\n",
      "1719/1719 [==============================] - 3s 2ms/step - loss: 0.2485 - accuracy: 0.9105 - val_loss: 0.3090 - val_accuracy: 0.8876\n",
      "Epoch 25/30\n",
      "1719/1719 [==============================] - 3s 2ms/step - loss: 0.2444 - accuracy: 0.9124 - val_loss: 0.2984 - val_accuracy: 0.8942\n",
      "Epoch 26/30\n",
      "1719/1719 [==============================] - 3s 2ms/step - loss: 0.2407 - accuracy: 0.9137 - val_loss: 0.3064 - val_accuracy: 0.8904\n",
      "Epoch 27/30\n",
      "1719/1719 [==============================] - 3s 2ms/step - loss: 0.2365 - accuracy: 0.9152 - val_loss: 0.3029 - val_accuracy: 0.8934\n",
      "Epoch 28/30\n",
      "1719/1719 [==============================] - 3s 2ms/step - loss: 0.2329 - accuracy: 0.9161 - val_loss: 0.2995 - val_accuracy: 0.8936\n",
      "Epoch 29/30\n",
      "1719/1719 [==============================] - 3s 2ms/step - loss: 0.2284 - accuracy: 0.9184 - val_loss: 0.3056 - val_accuracy: 0.8916\n",
      "Epoch 30/30\n",
      "1719/1719 [==============================] - 3s 2ms/step - loss: 0.2251 - accuracy: 0.9190 - val_loss: 0.3009 - val_accuracy: 0.8940\n"
     ]
    }
   ],
   "source": [
    "model_hist=model.fit(x_train,y_train,epochs=30,\n",
    "                     validation_data=(x_valid,y_valid))"
   ]
  },
  {
   "cell_type": "code",
   "execution_count": 24,
   "id": "b540eac7",
   "metadata": {},
   "outputs": [
    {
     "data": {
      "text/plain": [
       "(55000, 28, 28)"
      ]
     },
     "execution_count": 24,
     "metadata": {},
     "output_type": "execute_result"
    }
   ],
   "source": [
    "x_train.shape"
   ]
  },
  {
   "cell_type": "code",
   "execution_count": 25,
   "id": "9959945a",
   "metadata": {},
   "outputs": [
    {
     "data": {
      "text/plain": [
       "{'verbose': 1, 'epochs': 30, 'steps': 1719}"
      ]
     },
     "execution_count": 25,
     "metadata": {},
     "output_type": "execute_result"
    }
   ],
   "source": [
    "model_hist.params"
   ]
  },
  {
   "cell_type": "code",
   "execution_count": 26,
   "id": "06a8c099",
   "metadata": {},
   "outputs": [
    {
     "data": {
      "text/plain": [
       "{'loss': [0.7236838340759277,\n",
       "  0.4842020869255066,\n",
       "  0.43900245428085327,\n",
       "  0.41225653886795044,\n",
       "  0.39383354783058167,\n",
       "  0.37515944242477417,\n",
       "  0.3631989061832428,\n",
       "  0.35179612040519714,\n",
       "  0.3414481580257416,\n",
       "  0.3322538137435913,\n",
       "  0.3241733908653259,\n",
       "  0.3151012659072876,\n",
       "  0.3083033859729767,\n",
       "  0.3022802770137787,\n",
       "  0.2949247658252716,\n",
       "  0.28926798701286316,\n",
       "  0.28409963846206665,\n",
       "  0.27794349193573,\n",
       "  0.2729496955871582,\n",
       "  0.267539918422699,\n",
       "  0.2626987397670746,\n",
       "  0.25764229893684387,\n",
       "  0.25365254282951355,\n",
       "  0.24852682650089264,\n",
       "  0.24441315233707428,\n",
       "  0.24068626761436462,\n",
       "  0.23645295202732086,\n",
       "  0.2329440861940384,\n",
       "  0.22844909131526947,\n",
       "  0.2251434624195099],\n",
       " 'accuracy': [0.7644363641738892,\n",
       "  0.8317999839782715,\n",
       "  0.8455454707145691,\n",
       "  0.8566545248031616,\n",
       "  0.8617091178894043,\n",
       "  0.867581844329834,\n",
       "  0.8716363906860352,\n",
       "  0.875,\n",
       "  0.8790545463562012,\n",
       "  0.8822545409202576,\n",
       "  0.8837090730667114,\n",
       "  0.8868363499641418,\n",
       "  0.8890727162361145,\n",
       "  0.8915454745292664,\n",
       "  0.8937090635299683,\n",
       "  0.8970909118652344,\n",
       "  0.897454559803009,\n",
       "  0.8998181819915771,\n",
       "  0.9022181630134583,\n",
       "  0.9035817980766296,\n",
       "  0.9053817987442017,\n",
       "  0.9073272943496704,\n",
       "  0.9085817933082581,\n",
       "  0.9105091094970703,\n",
       "  0.9124000072479248,\n",
       "  0.9136727452278137,\n",
       "  0.9151999950408936,\n",
       "  0.9160727262496948,\n",
       "  0.918363630771637,\n",
       "  0.9190182089805603],\n",
       " 'val_loss': [0.5211925506591797,\n",
       "  0.4344833493232727,\n",
       "  0.5386027693748474,\n",
       "  0.39144647121429443,\n",
       "  0.3746221661567688,\n",
       "  0.37085410952568054,\n",
       "  0.36210787296295166,\n",
       "  0.3859502673149109,\n",
       "  0.35878971219062805,\n",
       "  0.34384724497795105,\n",
       "  0.34404805302619934,\n",
       "  0.33121436834335327,\n",
       "  0.32659003138542175,\n",
       "  0.3404160737991333,\n",
       "  0.32210803031921387,\n",
       "  0.3093346357345581,\n",
       "  0.35418397188186646,\n",
       "  0.313960999250412,\n",
       "  0.3116961717605591,\n",
       "  0.32672280073165894,\n",
       "  0.30671367049217224,\n",
       "  0.29799121618270874,\n",
       "  0.2989603579044342,\n",
       "  0.3089822828769684,\n",
       "  0.2984473705291748,\n",
       "  0.30638012290000916,\n",
       "  0.30288609862327576,\n",
       "  0.2995278835296631,\n",
       "  0.30559325218200684,\n",
       "  0.30094218254089355],\n",
       " 'val_accuracy': [0.8222000002861023,\n",
       "  0.853600025177002,\n",
       "  0.7968000173568726,\n",
       "  0.8655999898910522,\n",
       "  0.8682000041007996,\n",
       "  0.873199999332428,\n",
       "  0.873199999332428,\n",
       "  0.8622000217437744,\n",
       "  0.8712000250816345,\n",
       "  0.8772000074386597,\n",
       "  0.8773999810218811,\n",
       "  0.8820000290870667,\n",
       "  0.8888000249862671,\n",
       "  0.8781999945640564,\n",
       "  0.885200023651123,\n",
       "  0.8895999789237976,\n",
       "  0.8744000196456909,\n",
       "  0.8903999924659729,\n",
       "  0.8907999992370605,\n",
       "  0.8817999958992004,\n",
       "  0.8931999802589417,\n",
       "  0.8952000141143799,\n",
       "  0.8921999931335449,\n",
       "  0.8876000046730042,\n",
       "  0.8942000269889832,\n",
       "  0.8903999924659729,\n",
       "  0.8934000134468079,\n",
       "  0.8935999870300293,\n",
       "  0.8916000127792358,\n",
       "  0.8939999938011169]}"
      ]
     },
     "execution_count": 26,
     "metadata": {},
     "output_type": "execute_result"
    }
   ],
   "source": [
    "model_hist.history"
   ]
  },
  {
   "cell_type": "markdown",
   "id": "e9c3167f",
   "metadata": {},
   "source": [
    "Plotting the history"
   ]
  },
  {
   "cell_type": "code",
   "execution_count": 27,
   "id": "6cc5bddc",
   "metadata": {},
   "outputs": [
    {
     "data": {
      "image/png": "[encoded data removed]",
      "text/plain": [
       "<Figure size 576x360 with 1 Axes>"
      ]
     },
     "metadata": {
      "needs_background": "light"
     },
     "output_type": "display_data"
    }
   ],
   "source": [
    "pd.DataFrame(model_hist.history).plot(figsize=(8,5))\n",
    "plt.grid(True)\n",
    "plt.gca().set_ylim(0,1)\n",
    "plt.show()"
   ]
  },
  {
   "cell_type": "markdown",
   "id": "cbc56002",
   "metadata": {},
   "source": [
    "### EVALUATION"
   ]
  },
  {
   "cell_type": "code",
   "execution_count": 28,
   "id": "74a48906",
   "metadata": {},
   "outputs": [
    {
     "name": "stdout",
     "output_type": "stream",
     "text": [
      "313/313 [==============================] - 0s 1ms/step - loss: 0.3353 - accuracy: 0.8843\n"
     ]
    },
    {
     "data": {
      "text/plain": [
       "[0.33525893092155457, 0.8842999935150146]"
      ]
     },
     "execution_count": 28,
     "metadata": {},
     "output_type": "execute_result"
    }
   ],
   "source": [
    "model.evaluate(x_test,y_test)"
   ]
  },
  {
   "cell_type": "code",
   "execution_count": 29,
   "id": "d6b6a7b0",
   "metadata": {},
   "outputs": [],
   "source": [
    "X_new=x_test[:3]"
   ]
  },
  {
   "cell_type": "markdown",
   "id": "4ae67218",
   "metadata": {},
   "source": [
    "ikkada manam 2 params predict cheyagalam , 1 probab of each class, 2 finding class itself"
   ]
  },
  {
   "cell_type": "code",
   "execution_count": 30,
   "id": "735186a2",
   "metadata": {},
   "outputs": [
    {
     "name": "stdout",
     "output_type": "stream",
     "text": [
      "1/1 [==============================] - 0s 71ms/step\n"
     ]
    }
   ],
   "source": [
    "y_prob=model.predict(X_new)"
   ]
  },
  {
   "cell_type": "code",
   "execution_count": 31,
   "id": "f7b37f89",
   "metadata": {},
   "outputs": [
    {
     "data": {
      "text/plain": [
       "array([[3.77200331e-06, 5.00641079e-07, 8.06468379e-05, 1.16021565e-05,\n",
       "        5.73576654e-06, 1.24289300e-02, 5.93280220e-06, 2.83605605e-02,\n",
       "        6.99379714e-04, 9.58402991e-01],\n",
       "       [1.22919409e-05, 1.92390726e-08, 9.87468243e-01, 1.77792572e-08,\n",
       "        1.22181196e-02, 4.63647653e-12, 3.01392487e-04, 1.91221206e-11,\n",
       "        5.80181503e-09, 1.85034887e-11],\n",
       "       [1.59973320e-06, 9.99997973e-01, 1.04734523e-08, 2.97897600e-07,\n",
       "        1.37989090e-07, 1.27119425e-13, 4.46653547e-10, 2.58051610e-13,\n",
       "        9.46063938e-09, 1.34223459e-12]], dtype=float32)"
      ]
     },
     "execution_count": 31,
     "metadata": {},
     "output_type": "execute_result"
    }
   ],
   "source": [
    "y_prob"
   ]
  },
  {
   "cell_type": "code",
   "execution_count": 32,
   "id": "d5ce5c8b",
   "metadata": {},
   "outputs": [
    {
     "data": {
      "text/plain": [
       "array([[0.  , 0.  , 0.  , 0.  , 0.  , 0.01, 0.  , 0.03, 0.  , 0.96],\n",
       "       [0.  , 0.  , 0.99, 0.  , 0.01, 0.  , 0.  , 0.  , 0.  , 0.  ],\n",
       "       [0.  , 1.  , 0.  , 0.  , 0.  , 0.  , 0.  , 0.  , 0.  , 0.  ]],\n",
       "      dtype=float32)"
      ]
     },
     "execution_count": 32,
     "metadata": {},
     "output_type": "execute_result"
    }
   ],
   "source": [
    "y_prob.round(2)"
   ]
  },
  {
   "cell_type": "code",
   "execution_count": 33,
   "id": "01536ab3",
   "metadata": {},
   "outputs": [
    {
     "data": {
      "text/plain": [
       "array([9, 2, 1], dtype=int64)"
      ]
     },
     "execution_count": 33,
     "metadata": {},
     "output_type": "execute_result"
    }
   ],
   "source": [
    "y_pred = np.argmax(y_prob, axis = -1)\n",
    "y_pred"
   ]
  },
  {
   "cell_type": "code",
   "execution_count": 34,
   "id": "7d4ec4d0",
   "metadata": {},
   "outputs": [
    {
     "data": {
      "text/plain": [
       "array(['Ankle boot', 'Pullover', 'Trouser'], dtype='<U10')"
      ]
     },
     "execution_count": 34,
     "metadata": {},
     "output_type": "execute_result"
    }
   ],
   "source": [
    "np.array(class_names)[y_pred]"
   ]
  },
  {
   "cell_type": "code",
   "execution_count": 38,
   "id": "326fbefa",
   "metadata": {},
   "outputs": [
    {
     "data": {
      "text/plain": [
       "<matplotlib.image.AxesImage at 0x220d0724eb0>"
      ]
     },
     "execution_count": 38,
     "metadata": {},
     "output_type": "execute_result"
    },
    {
     "data": {
      "image/png": "[encoded data removed]",
      "text/plain": [
       "<Figure size 432x288 with 1 Axes>"
      ]
     },
     "metadata": {
      "needs_background": "light"
     },
     "output_type": "display_data"
    }
   ],
   "source": [
    "plt.imshow(x_test[2])"
   ]
  },
  {
   "cell_type": "code",
   "execution_count": 39,
   "id": "12861347",
   "metadata": {},
   "outputs": [
    {
     "data": {
      "text/plain": [
       "<matplotlib.image.AxesImage at 0x220d077e700>"
      ]
     },
     "execution_count": 39,
     "metadata": {},
     "output_type": "execute_result"
    },
    {
     "data": {
      "image/png": "[encoded data removed]",
      "text/plain": [
       "<Figure size 432x288 with 1 Axes>"
      ]
     },
     "metadata": {
      "needs_background": "light"
     },
     "output_type": "display_data"
    }
   ],
   "source": [
    "plt.imshow(x_test[0])"
   ]
  },
  {
   "cell_type": "code",
   "execution_count": 40,
   "id": "e347ad72",
   "metadata": {},
   "outputs": [
    {
     "data": {
      "text/plain": [
       "<matplotlib.image.AxesImage at 0x220d07e6a90>"
      ]
     },
     "execution_count": 40,
     "metadata": {},
     "output_type": "execute_result"
    },
    {
     "data": {
      "image/png": "[encoded data removed]",
      "text/plain": [
       "<Figure size 432x288 with 1 Axes>"
      ]
     },
     "metadata": {
      "needs_background": "light"
     },
     "output_type": "display_data"
    }
   ],
   "source": [
    "plt.imshow(x_test[1])"
   ]
  },
  {
   "cell_type": "code",
   "execution_count": null,
   "id": "a33aef01",
   "metadata": {},
   "outputs": [],
   "source": []
  }
 ],
 "metadata": {
  "kernelspec": {
   "display_name": "Python 3 (ipykernel)",
   "language": "python",
   "name": "python3"
  },
  "language_info": {
   "codemirror_mode": {
    "name": "ipython",
    "version": 3
   },
   "file_extension": ".py",
   "mimetype": "text/x-python",
   "name": "python",
   "nbconvert_exporter": "python",
   "pygments_lexer": "ipython3",
   "version": "3.9.12"
  }
 },
 "nbformat": 4,
 "nbformat_minor": 5
}
